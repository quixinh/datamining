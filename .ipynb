{
 "cells": [
  {
   "cell_type": "code",
   "execution_count": 1,
   "id": "956070c2",
   "metadata": {},
   "outputs": [
    {
     "name": "stdout",
     "output_type": "stream",
     "text": [
      "Selected features:  [False False  True  True]\n",
      "Features ranking:  [3 2 1 1]\n",
      "Test accuracy:  1.0\n"
     ]
    }
   ],
   "source": [
    "from sklearn.datasets import load_iris\n",
    "from sklearn.model_selection import train_test_split\n",
    "from sklearn.svm import SVC\n",
    "from sklearn.feature_selection import RFE\n",
    "\n",
    "# Tải dữ liệu Iris\n",
    "iris = load_iris()\n",
    "X = iris.data\n",
    "y = iris.target\n",
    "\n",
    "# Chia dữ liệu thành tập huấn luyện và kiểm tra\n",
    "X_train, X_test, y_train, y_test = train_test_split(X, y, test_size=0.3, random_state=42)\n",
    "\n",
    "# Khởi tạo mô hình SVC với kernel linear\n",
    "model = SVC(kernel=\"linear\")\n",
    "\n",
    "# Khởi tạo RFE và chọn 2 đặc trưng quan trọng nhất\n",
    "rfe = RFE(estimator=model, n_features_to_select=2)\n",
    "rfe = rfe.fit(X_train, y_train)\n",
    "\n",
    "# Các đặc trưng được chọn\n",
    "selected_features = rfe.support_\n",
    "print(\"Selected features: \", selected_features)\n",
    "\n",
    "# Xếp hạng các đặc trưng\n",
    "print(\"Features ranking: \", rfe.ranking_)\n",
    "\n",
    "# Huấn luyện lại mô hình với các đặc trưng đã chọn\n",
    "X_train_selected = X_train[:, selected_features]\n",
    "model.fit(X_train_selected, y_train)\n",
    "\n",
    "# Kiểm tra mô hình trên tập kiểm tra\n",
    "X_test_selected = X_test[:, selected_features]\n",
    "score = model.score(X_test_selected, y_test)\n",
    "print(\"Test accuracy: \", score)\n"
   ]
  }
 ],
 "metadata": {
  "kernelspec": {
   "display_name": "PPNKCH",
   "language": "python",
   "name": "python3"
  },
  "language_info": {
   "codemirror_mode": {
    "name": "ipython",
    "version": 3
   },
   "file_extension": ".py",
   "mimetype": "text/x-python",
   "name": "python",
   "nbconvert_exporter": "python",
   "pygments_lexer": "ipython3",
   "version": "3.10.16"
  }
 },
 "nbformat": 4,
 "nbformat_minor": 5
}
