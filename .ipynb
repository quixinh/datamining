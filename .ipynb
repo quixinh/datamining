{
 "cells": [
  {
   "cell_type": "code",
   "execution_count": 1,
   "id": "956070c2",
   "metadata": {},
   "outputs": [
    {
     "name": "stdout",
     "output_type": "stream",
     "text": [
      "Selected features:  [False False  True  True]\n",
      "Features ranking:  [3 2 1 1]\n",
      "Test accuracy:  1.0\n"
     ]
    }
   ],
   "source": [
    "from sklearn.datasets import load_iris\n",
    "from sklearn.model_selection import train_test_split\n",
    "from sklearn.svm import SVC\n",
    "from sklearn.feature_selection import RFE\n",
    "\n",
    "# Tải dữ liệu Iris\n",
    "iris = load_iris()\n",
    "X = iris.data\n",
    "y = iris.target\n",
    "\n",
    "# Chia dữ liệu thành tập huấn luyện và kiểm tra\n",
    "X_train, X_test, y_train, y_test = train_test_split(X, y, test_size=0.3, random_state=42)\n",
    "\n",
    "# Khởi tạo mô hình SVC với kernel linear\n",
    "model = SVC(kernel=\"linear\")\n",
    "\n",
    "# Khởi tạo RFE và chọn 2 đặc trưng quan trọng nhất\n",
    "rfe = RFE(estimator=model, n_features_to_select=2)\n",
    "rfe = rfe.fit(X_train, y_train)\n",
    "\n",
    "# Các đặc trưng được chọn\n",
    "selected_features = rfe.support_\n",
    "print(\"Selected features: \", selected_features)\n",
    "\n",
    "# Xếp hạng các đặc trưng\n",
    "print(\"Features ranking: \", rfe.ranking_)\n",
    "\n",
    "# Huấn luyện lại mô hình với các đặc trưng đã chọn\n",
    "X_train_selected = X_train[:, selected_features]\n",
    "model.fit(X_train_selected, y_train)\n",
    "\n",
    "# Kiểm tra mô hình trên tập kiểm tra\n",
    "X_test_selected = X_test[:, selected_features]\n",
    "score = model.score(X_test_selected, y_test)\n",
    "print(\"Test accuracy: \", score)\n"
   ]
  },
  {
   "cell_type": "code",
   "execution_count": 8,
   "id": "496ffa82",
   "metadata": {},
   "outputs": [],
   "source": [
    "time_features = [\n",
    "    'flow_duration',\n",
    "    'fwd_iat.min', 'fwd_iat.max', 'fwd_iat.tot', 'fwd_iat.avg', 'fwd_iat.std',\n",
    "    'bwd_iat.min', 'bwd_iat.max', 'bwd_iat.tot', 'bwd_iat.avg', 'bwd_iat.std',\n",
    "    'flow_iat.min', 'flow_iat.max', 'flow_iat.tot', 'flow_iat.avg', 'flow_iat.std',\n",
    "    'active.min', 'active.max', 'active.tot', 'active.avg', 'active.std',\n",
    "    'idle.min', 'idle.max', 'idle.tot', 'idle.avg', 'idle.std',\n",
    "    'fwd_pkts_per_sec', 'bwd_pkts_per_sec', 'flow_pkts_per_sec',\n",
    "    'payload_bytes_per_second'\n",
    "]\n"
   ]
  },
  {
   "cell_type": "code",
   "execution_count": 10,
   "id": "6c706aec",
   "metadata": {},
   "outputs": [
    {
     "name": "stdout",
     "output_type": "stream",
     "text": [
      "Index(['Unnamed: 0', 'id.orig_p', 'id.resp_p', 'proto', 'service',\n",
      "       'flow_duration', 'fwd_pkts_tot', 'bwd_pkts_tot', 'fwd_data_pkts_tot',\n",
      "       'bwd_data_pkts_tot', 'fwd_pkts_per_sec', 'bwd_pkts_per_sec',\n",
      "       'flow_pkts_per_sec', 'down_up_ratio', 'fwd_header_size_tot',\n",
      "       'fwd_header_size_min', 'fwd_header_size_max', 'bwd_header_size_tot',\n",
      "       'bwd_header_size_min', 'bwd_header_size_max', 'flow_FIN_flag_count',\n",
      "       'flow_SYN_flag_count', 'flow_RST_flag_count', 'fwd_PSH_flag_count',\n",
      "       'bwd_PSH_flag_count', 'flow_ACK_flag_count', 'fwd_URG_flag_count',\n",
      "       'bwd_URG_flag_count', 'flow_CWR_flag_count', 'flow_ECE_flag_count',\n",
      "       'fwd_pkts_payload.min', 'fwd_pkts_payload.max', 'fwd_pkts_payload.tot',\n",
      "       'fwd_pkts_payload.avg', 'fwd_pkts_payload.std', 'bwd_pkts_payload.min',\n",
      "       'bwd_pkts_payload.max', 'bwd_pkts_payload.tot', 'bwd_pkts_payload.avg',\n",
      "       'bwd_pkts_payload.std', 'flow_pkts_payload.min',\n",
      "       'flow_pkts_payload.max', 'flow_pkts_payload.tot',\n",
      "       'flow_pkts_payload.avg', 'flow_pkts_payload.std', 'fwd_iat.min',\n",
      "       'fwd_iat.max', 'fwd_iat.tot', 'fwd_iat.avg', 'fwd_iat.std',\n",
      "       'bwd_iat.min', 'bwd_iat.max', 'bwd_iat.tot', 'bwd_iat.avg',\n",
      "       'bwd_iat.std', 'flow_iat.min', 'flow_iat.max', 'flow_iat.tot',\n",
      "       'flow_iat.avg', 'flow_iat.std', 'payload_bytes_per_second',\n",
      "       'fwd_subflow_pkts', 'bwd_subflow_pkts', 'fwd_subflow_bytes',\n",
      "       'bwd_subflow_bytes', 'fwd_bulk_bytes', 'bwd_bulk_bytes',\n",
      "       'fwd_bulk_packets', 'bwd_bulk_packets', 'fwd_bulk_rate',\n",
      "       'bwd_bulk_rate', 'active.min', 'active.max', 'active.tot', 'active.avg',\n",
      "       'active.std', 'idle.min', 'idle.max', 'idle.tot', 'idle.avg',\n",
      "       'idle.std', 'fwd_init_window_size', 'bwd_init_window_size',\n",
      "       'fwd_last_window_size', 'Attack_type'],\n",
      "      dtype='object')\n"
     ]
    }
   ],
   "source": [
    "import pandas as pd\n",
    "data = pd.read_csv('data/RT_IOT2022')\n",
    "print(data.columns)\n",
    "       # Danh sách đặc trưng\n",
    "features = ['fwd_pkts_tot']"
   ]
  },
  {
   "cell_type": "code",
   "execution_count": 15,
   "id": "f1030b3e",
   "metadata": {},
   "outputs": [
    {
     "name": "stdout",
     "output_type": "stream",
     "text": [
      "🔹 Time Features: 30\n",
      "🔹 Payload Features: 16\n",
      "🔹 TCP Flag Features: 10\n",
      "🔹 Flow Size/Stat Features: 20\n",
      "🔹 Protocol/IP Features: 5\n",
      "🔹 TCP Window Features: 3\n",
      "🔹 Metadata Features: 1\n",
      "🔹 Label Feature: 1\n"
     ]
    }
   ],
   "source": [
    "# Danh sách đầy đủ tất cả các thuộc tính\n",
    "all_features = [\n",
    "    'Unnamed: 0', 'id.orig_p', 'id.resp_p', 'proto', 'service',\n",
    "    'flow_duration', 'fwd_pkts_tot', 'bwd_pkts_tot', 'fwd_data_pkts_tot',\n",
    "    'bwd_data_pkts_tot', 'fwd_pkts_per_sec', 'bwd_pkts_per_sec',\n",
    "    'flow_pkts_per_sec', 'down_up_ratio', 'fwd_header_size_tot',\n",
    "    'fwd_header_size_min', 'fwd_header_size_max', 'bwd_header_size_tot',\n",
    "    'bwd_header_size_min', 'bwd_header_size_max', 'flow_FIN_flag_count',\n",
    "    'flow_SYN_flag_count', 'flow_RST_flag_count', 'fwd_PSH_flag_count',\n",
    "    'bwd_PSH_flag_count', 'flow_ACK_flag_count', 'fwd_URG_flag_count',\n",
    "    'bwd_URG_flag_count', 'flow_CWR_flag_count', 'flow_ECE_flag_count',\n",
    "    'fwd_pkts_payload.min', 'fwd_pkts_payload.max', 'fwd_pkts_payload.tot',\n",
    "    'fwd_pkts_payload.avg', 'fwd_pkts_payload.std', 'bwd_pkts_payload.min',\n",
    "    'bwd_pkts_payload.max', 'bwd_pkts_payload.tot', 'bwd_pkts_payload.avg',\n",
    "    'bwd_pkts_payload.std', 'flow_pkts_payload.min',\n",
    "    'flow_pkts_payload.max', 'flow_pkts_payload.tot',\n",
    "    'flow_pkts_payload.avg', 'flow_pkts_payload.std', 'fwd_iat.min',\n",
    "    'fwd_iat.max', 'fwd_iat.tot', 'fwd_iat.avg', 'fwd_iat.std',\n",
    "    'bwd_iat.min', 'bwd_iat.max', 'bwd_iat.tot', 'bwd_iat.avg',\n",
    "    'bwd_iat.std', 'flow_iat.min', 'flow_iat.max', 'flow_iat.tot',\n",
    "    'flow_iat.avg', 'flow_iat.std', 'payload_bytes_per_second',\n",
    "    'fwd_subflow_pkts', 'bwd_subflow_pkts', 'fwd_subflow_bytes',\n",
    "    'bwd_subflow_bytes', 'fwd_bulk_bytes', 'bwd_bulk_bytes',\n",
    "    'fwd_bulk_packets', 'bwd_bulk_packets', 'fwd_bulk_rate',\n",
    "    'bwd_bulk_rate', 'active.min', 'active.max', 'active.tot', 'active.avg',\n",
    "    'active.std', 'idle.min', 'idle.max', 'idle.tot', 'idle.avg',\n",
    "    'idle.std', 'fwd_init_window_size', 'bwd_init_window_size',\n",
    "    'fwd_last_window_size', 'Attack_type'\n",
    "]\n",
    "\n",
    "# 1. Time-based features\n",
    "time_keywords = ['iat', 'duration', 'active', 'idle', 'per_sec', 'payload_bytes_per_second']\n",
    "time_features = [f for f in all_features if any(k in f for k in time_keywords)]\n",
    "\n",
    "# 2. Payload features\n",
    "payload_keywords = ['payload']\n",
    "payload_features = [f for f in all_features if any(k in f for k in payload_keywords)]\n",
    "\n",
    "# 3. TCP Flags\n",
    "flag_keywords = ['flag_count']\n",
    "flag_features = [f for f in all_features if any(k in f for k in flag_keywords)]\n",
    "\n",
    "# 4. Flow size & statistics\n",
    "size_keywords = ['header_size', 'bulk', 'subflow', 'tot', 'min', 'max', 'avg', 'std', 'rate']\n",
    "flow_size_features = [f for f in all_features if any(k in f for k in size_keywords)\n",
    "                      and f not in time_features and f not in payload_features and f not in flag_features]\n",
    "\n",
    "# 5. Protocol & IP Info\n",
    "proto_info_features = ['id.orig_p', 'id.resp_p', 'proto', 'service', 'down_up_ratio']\n",
    "\n",
    "# 6. TCP Window size\n",
    "window_features = ['fwd_init_window_size', 'bwd_init_window_size', 'fwd_last_window_size']\n",
    "\n",
    "# 7. Metadata / Index\n",
    "meta_features = ['Unnamed: 0']\n",
    "\n",
    "# 8. Label\n",
    "label_feature = ['Attack_type']\n",
    "\n",
    "# In ra kết quả\n",
    "print(\"🔹 Time Features:\", len(time_features))\n",
    "print(\"🔹 Payload Features:\", len(payload_features))\n",
    "print(\"🔹 TCP Flag Features:\", len(flag_features))\n",
    "print(\"🔹 Flow Size/Stat Features:\", len(flow_size_features))\n",
    "print(\"🔹 Protocol/IP Features:\", len(proto_info_features))\n",
    "print(\"🔹 TCP Window Features:\", len(window_features))\n",
    "print(\"🔹 Metadata Features:\", len(meta_features))\n",
    "print(\"🔹 Label Feature:\", len(label_feature))\n"
   ]
  }
 ],
 "metadata": {
  "kernelspec": {
   "display_name": "PPNKCH",
   "language": "python",
   "name": "python3"
  },
  "language_info": {
   "codemirror_mode": {
    "name": "ipython",
    "version": 3
   },
   "file_extension": ".py",
   "mimetype": "text/x-python",
   "name": "python",
   "nbconvert_exporter": "python",
   "pygments_lexer": "ipython3",
   "version": "3.10.16"
  }
 },
 "nbformat": 4,
 "nbformat_minor": 5
}
