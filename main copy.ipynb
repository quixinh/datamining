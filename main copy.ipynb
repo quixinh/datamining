{
 "cells": [
  {
   "cell_type": "markdown",
   "id": "5d6255ba",
   "metadata": {},
   "source": [
    "# Mô tả các Nhóm Đặc Trưng Luồng Mạng (Network Flow Features)\n",
    "\n",
    "## Nhóm 1: Thông tin cơ bản về luồng mạng (Network Flow Information)\n",
    "- **id.orig_p**: Cổng nguồn (source port) của luồng mạng.  \n",
    "- **id.resp_p**: Cổng đích (destination port) của luồng mạng.  \n",
    "- **proto**: Giao thức mạng được sử dụng (ví dụ: TCP, UDP).  \n",
    "- **service**: Dịch vụ liên quan đến luồng mạng (ví dụ: MQTT, HTTP, hoặc \"-\").  \n",
    "- **flow_duration**: Thời gian tồn tại của luồng mạng (tính bằng giây).  \n",
    "\n",
    "## Nhóm 2: Thống kê gói tin (Packet Statistics)\n",
    "- **fwd_pkts_tot**: Tổng số gói tin từ nguồn đến đích (forward).  \n",
    "- **bwd_pkts_tot**: Tổng số gói tin từ đích đến nguồn (backward).  \n",
    "- **fwd_data_pkts_tot**: Gói tin chứa dữ liệu từ nguồn đến đích.  \n",
    "- **bwd_data_pkts_tot**: Gói tin chứa dữ liệu từ đích đến nguồn.  \n",
    "- **fwd_pkts_per_sec**: Tốc độ forward packets mỗi giây.  \n",
    "- **bwd_pkts_per_sec**: Tốc độ backward packets mỗi giây.  \n",
    "- **flow_pkts_per_sec**: Tổng tốc độ gói tin mỗi giây.  \n",
    "- **down_up_ratio**: Tỷ lệ giữa gói tin backward và forward.  \n",
    "\n",
    "## Nhóm 3: Kích thước tiêu đề gói tin (Header Size Statistics)\n",
    "- **fwd_header_size_tot**, **min**, **max**: Tổng, nhỏ nhất, lớn nhất kích thước tiêu đề gói forward.  \n",
    "- **bwd_header_size_tot**, **min**, **max**: Tổng, nhỏ nhất, lớn nhất kích thước tiêu đề gói backward.  \n",
    "\n",
    "## Nhóm 4: Cờ TCP (TCP Flags)\n",
    "- **flow_FIN_flag_count**, **SYN**, **RST**, **ACK**, **CWR**, **ECE**: Số lần xuất hiện các cờ FIN, SYN, RST, ACK, CWR, ECE trong toàn bộ luồng.  \n",
    "- **fwd_PSH_flag_count**, **fwd_URG_flag_count**: Số lần xuất hiện cờ PSH, URG trong forward packets.  \n",
    "- **bwd_PSH_flag_count**, **bwd_URG_flag_count**: Số lần xuất hiện cờ PSH, URG trong backward packets.  \n",
    "\n",
    "## Nhóm 5: Thống kê tải trọng gói tin (Payload Statistics)\n",
    "- **fwd_pkts_payload** (min, max, tot, avg, std): Kích thước tải trọng gói tin forward.  \n",
    "- **bwd_pkts_payload** (min, max, tot, avg, std): Kích thước tải trọng gói tin backward.  \n",
    "- **flow_pkts_payload** (min, max, tot, avg, std): Kích thước tải trọng toàn bộ luồng.  \n",
    "\n",
    "## Nhóm 6: Thống kê thời gian giữa các gói tin (Inter-Arrival Time Statistics)\n",
    "- **fwd_iat** (min, max, tot, avg, std): Thống kê thời gian giữa các gói tin forward.  \n",
    "- **bwd_iat** (min, max, tot, avg, std): Thống kê thời gian giữa các gói tin backward.  \n",
    "- **flow_iat** (min, max, tot, avg, std): Thống kê thời gian giữa các gói tin bất kỳ.  \n",
    "\n",
    "## Nhóm 7: Thống kê luồng phụ (Subflow Statistics)\n",
    "- **fwd_subflow_pkts**, **bwd_subflow_pkts**: Số gói tin trung bình mỗi subflow forward/backward.  \n",
    "- **fwd_subflow_bytes**, **bwd_subflow_bytes**: Số byte trung bình mỗi subflow forward/backward.  \n",
    "\n",
    "## Nhóm 8: Thống kê khối dữ liệu (Bulk Statistics)\n",
    "- **fwd_bulk_bytes**, **fwd_bulk_packets**, **fwd_bulk_rate**: Tổng byte, gói tin, tốc độ khối dữ liệu forward.  \n",
    "- **bwd_bulk_bytes**, **bwd_bulk_packets**, **bwd_bulk_rate**: Tổng byte, gói tin, tốc độ khối dữ liệu backward.  \n",
    "\n",
    "## Nhóm 9: Thống kê thời gian hoạt động và nhàn rỗi (Active/Idle Statistics)\n",
    "- **active** (min, max, tot, avg, std): Thời gian hoạt động của luồng.  \n",
    "- **idle** (min, max, tot, avg, std): Thời gian nhàn rỗi của luồng.  \n",
    "\n",
    "## Nhóm 10: Kích thước cửa sổ TCP (TCP Window Size)\n",
    "- **fwd_init_window_size**, **bwd_init_window_size**: Kích thước cửa sổ ban đầu của gói forward/backward.  \n",
    "- **fwd_last_window_size**: Kích thước cửa sổ cuối cùng của gói forward.  \n",
    "\n",
    "## Nhóm 11: Nhãn tấn công (Attack Label)\n",
    "- **Attack_type**: Loại tấn công mạng hoặc hành vi của luồng (ví dụ: `MQTT_Publish`, `DOS_SYN_Hping`).\n"
   ]
  },
  {
   "cell_type": "code",
   "execution_count": null,
   "id": "f48799a8",
   "metadata": {},
   "outputs": [],
   "source": [
    "import pandas as pd\n",
    "import matplotlib.pyplot as plt\n",
    "import seaborn as sns\n",
    "from sklearn.preprocessing import StandardScaler, LabelEncoder\n",
    "from imblearn.over_sampling import SMOTE\n",
    "from sklearn.ensemble import RandomForestClassifier\n",
    "\n",
    "from sklearn.model_selection import train_test_split\n",
    "import Preprocessing\n",
    "import DataProcessing\n",
    "data = Preprocessing.load_data('data/rt_iot2022', target_col='Attack_type')"
   ]
  },
  {
   "cell_type": "code",
   "execution_count": null,
   "id": "e3b92bee",
   "metadata": {},
   "outputs": [],
   "source": [
    "print(data['Attack_type'])\n",
    "X = data.drop('Attack_type', axis=1)\n",
    "y = data['Attack_type'] "
   ]
  },
  {
   "cell_type": "code",
   "execution_count": null,
   "id": "181808aa",
   "metadata": {},
   "outputs": [],
   "source": [
    "Preprocessing.check_types(data,\"object\")"
   ]
  },
  {
   "cell_type": "code",
   "execution_count": null,
   "id": "f5fcbf40",
   "metadata": {},
   "outputs": [],
   "source": [
    "data = Preprocessing.delete_columns(data, ['service'])\n",
    "data = Preprocessing.one_hot_encode(data, ['proto'])\n",
    "data = Preprocessing.label_encode(data, ['Attack_type'])\n",
    "print(data.head(5))"
   ]
  },
  {
   "cell_type": "code",
   "execution_count": null,
   "id": "f016b4de",
   "metadata": {},
   "outputs": [],
   "source": [
    "X, y = data.drop('Attack_type', axis=1), data['Attack_type']\n",
    "X_balanced, y_balanced = Preprocessing.apply_smote(X, y)\n",
    "X, X_test, y, y_test = train_test_split(X_balanced, y_balanced, test_size=0.2, random_state=42)"
   ]
  },
  {
   "cell_type": "code",
   "execution_count": null,
   "id": "14aa9157",
   "metadata": {},
   "outputs": [],
   "source": [
    "X_train, X_val, y_train, y_val = train_test_split(X, y, test_size=0.2, random_state=42)"
   ]
  },
  {
   "cell_type": "code",
   "execution_count": null,
   "id": "9e6b40a1",
   "metadata": {},
   "outputs": [],
   "source": [
    "# Xử lý dữ liệuliệu\n",
    "list = DataProcessing.select_feature(X_train, y_train)"
   ]
  },
  {
   "cell_type": "code",
   "execution_count": null,
   "id": "c4d524dd",
   "metadata": {},
   "outputs": [],
   "source": [
    "Preprocessing.plot_heatmap(X_train[list['Feature']], y_train,'Attack_type')"
   ]
  },
  {
   "cell_type": "code",
   "execution_count": null,
   "id": "27aed612",
   "metadata": {},
   "outputs": [],
   "source": [
    "df_reduced, dropped_columns = DataProcessing.remove_highly_correlated_columns(X_train[list['Feature']], threshold=0.8)"
   ]
  },
  {
   "cell_type": "code",
   "execution_count": null,
   "id": "60dead21",
   "metadata": {},
   "outputs": [],
   "source": [
    "Preprocessing.plot_heatmap(X_train[list['Feature']].drop(dropped_columns, axis=1), y_train,'Attack_type')"
   ]
  },
  {
   "cell_type": "code",
   "execution_count": null,
   "id": "8052ecec",
   "metadata": {},
   "outputs": [],
   "source": [
    "# df = data\n",
    "# # Chọn các cột số\n",
    "# numeric_columns = df.select_dtypes(include=['float64', 'int64']).columns\n",
    "\n",
    "# # Kiểm tra giá trị inf\n",
    "# inf_counts = df[numeric_columns].apply(lambda x: np.isinf(x)).sum()\n",
    "# print(\"Số lượng giá trị inf trong mỗi cột:\")\n",
    "# print(inf_counts[inf_counts > 0])  # Chỉ hiển thị các cột có giá trị inf"
   ]
  },
  {
   "cell_type": "code",
   "execution_count": null,
   "id": "6e15afb1",
   "metadata": {},
   "outputs": [],
   "source": [
    "from sklearn.ensemble import RandomForestClassifier\n",
    "from sklearn.metrics import classification_report, confusion_matrix\n",
    "\n",
    "\n",
    "# 👉 6. Đánh giá\n",
    "print(\"Classification Report:\\n\", classification_report(y_test, y_pred))\n",
    "print(\"Confusion Matrix:\\n\", confusion_matrix(y_test, y_pred))\n"
   ]
  },
  {
   "cell_type": "code",
   "execution_count": 30,
   "id": "5088bf48",
   "metadata": {},
   "outputs": [],
   "source": [
    "import xgboost as xgb"
   ]
  },
  {
   "cell_type": "code",
   "execution_count": 31,
   "id": "aca41bc3",
   "metadata": {},
   "outputs": [
    {
     "name": "stderr",
     "output_type": "stream",
     "text": [
      "c:\\Users\\QUIN\\anaconda3\\envs\\PPNKCH\\lib\\site-packages\\xgboost\\training.py:183: UserWarning: [01:55:00] WARNING: C:\\actions-runner\\_work\\xgboost\\xgboost\\src\\learner.cc:738: \n",
      "Parameters: { \"scale_pos_weight\", \"use_label_encoder\" } are not used.\n",
      "\n",
      "  bst.update(dtrain, iteration=i, fobj=obj)\n"
     ]
    },
    {
     "name": "stdout",
     "output_type": "stream",
     "text": [
      "Classification Report:\n",
      "               precision    recall  f1-score   support\n",
      "\n",
      "           0       0.99      1.00      0.99      1570\n",
      "           1       1.00      1.00      1.00       413\n",
      "           2       1.00      1.00      1.00     18898\n",
      "           3       1.00      1.00      1.00       882\n",
      "           4       1.00      1.00      1.00       384\n",
      "           5       1.00      1.00      1.00       398\n",
      "           6       1.00      1.00      1.00       433\n",
      "           7       1.00      1.00      1.00       380\n",
      "           8       0.99      0.99      0.99       501\n",
      "           9       1.00      1.00      1.00       404\n",
      "          10       0.99      0.99      0.99      1606\n",
      "          11       1.00      1.00      1.00       384\n",
      "\n",
      "    accuracy                           1.00     26253\n",
      "   macro avg       1.00      1.00      1.00     26253\n",
      "weighted avg       1.00      1.00      1.00     26253\n",
      "\n"
     ]
    }
   ],
   "source": [
    "# Bước 6: Huấn luyện XGBoostClassifier\n",
    "model = xgb.XGBClassifier(scale_pos_weight=5, use_label_encoder=False, eval_metric='mlogloss')\n",
    "model.fit(X_train, y_train)\n",
    "    \n",
    "    # Bước 7: Dự đoán và đánh giá\n",
    "y_pred = model.predict(X_test)\n",
    "print(\"Classification Report:\\n\", classification_report(y_test, y_pred))"
   ]
  },
  {
   "cell_type": "code",
   "execution_count": 33,
   "id": "18321f9a",
   "metadata": {},
   "outputs": [
    {
     "name": "stdout",
     "output_type": "stream",
     "text": [
      "Classification Report:\n",
      "               precision    recall  f1-score   support\n",
      "\n",
      "           0       0.91      0.62      0.74      1570\n",
      "           1       0.90      0.52      0.66       413\n",
      "           2       1.00      1.00      1.00     18898\n",
      "           3       0.99      0.99      0.99       882\n",
      "           4       0.88      0.90      0.89       384\n",
      "           5       0.42      0.96      0.59       398\n",
      "           6       0.55      0.71      0.62       433\n",
      "           7       0.97      0.99      0.98       380\n",
      "           8       0.97      0.92      0.94       501\n",
      "           9       0.54      0.37      0.44       404\n",
      "          10       0.82      0.92      0.87      1606\n",
      "          11       0.77      0.78      0.77       384\n",
      "\n",
      "    accuracy                           0.94     26253\n",
      "   macro avg       0.81      0.81      0.79     26253\n",
      "weighted avg       0.95      0.94      0.94     26253\n",
      "\n"
     ]
    }
   ],
   "source": [
    "# Bước 6: Huấn luyện MLPClassifier\n",
    "import pandas as pd\n",
    "import seaborn as sns\n",
    "import matplotlib.pyplot as plt\n",
    "from sklearn.model_selection import train_test_split\n",
    "from sklearn.preprocessing import StandardScaler, LabelEncoder\n",
    "from sklearn.neural_network import MLPClassifier\n",
    "from sklearn.metrics import accuracy_score, precision_score, recall_score, f1_score\n",
    "from imblearn.over_sampling import SMOTE\n",
    "from sklearn.neural_network import MLPClassifier\n",
    "mlp = MLPClassifier(hidden_layer_sizes=(100, 50), max_iter=500, random_state=42, activation='relu', solver='adam')\n",
    "mlp.fit(X_train, y_train)\n",
    "    \n",
    "    # Bước 7: Dự đoán và đánh giá\n",
    "y_pred = mlp.predict(X_test)\n",
    "print(\"Classification Report:\\n\", classification_report(y_test, y_pred))"
   ]
  },
  {
   "cell_type": "code",
   "execution_count": null,
   "id": "9e0befec",
   "metadata": {},
   "outputs": [],
   "source": [
    "# print(\"Classification Report:\\n\", classification_report(y_test, y_pred))\n",
    "# print(y_test.value_counts())\n",
    "# print(\"Confusion Matrix:\\n\", confusion_matrix(y_test, y_pred))"
   ]
  },
  {
   "cell_type": "code",
   "execution_count": null,
   "id": "6deb7dc6",
   "metadata": {},
   "outputs": [],
   "source": [
    "# kiểm tra hiệu suất\n",
    "# from sklearn.svm import SVC\n",
    "# svm = SVC(kernel='linear')\n",
    "# svm.fit(X_train[list['Feature']].drop(dropped_columns, axis=1), y_train)\n",
    "\n",
    "# X_test_selected_reduced = X_test.drop(columns=X_train[list['Feature']].drop(dropped_columns, axis=1).columns, errors='ignore')\n",
    "# accuracy = svm.score(X_test_selected_reduced, y_test)\n",
    "# print(f\"Accuracy on test set after feature reduction: {accuracy:.4f}\")"
   ]
  }
 ],
 "metadata": {
  "kernelspec": {
   "display_name": "PPNKCH",
   "language": "python",
   "name": "python3"
  },
  "language_info": {
   "codemirror_mode": {
    "name": "ipython",
    "version": 3
   },
   "file_extension": ".py",
   "mimetype": "text/x-python",
   "name": "python",
   "nbconvert_exporter": "python",
   "pygments_lexer": "ipython3",
   "version": "3.10.16"
  }
 },
 "nbformat": 4,
 "nbformat_minor": 5
}
