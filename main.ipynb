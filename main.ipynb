{
 "cells": [
  {
   "cell_type": "code",
   "execution_count": 1,
   "id": "f48799a8",
   "metadata": {},
   "outputs": [
    {
     "name": "stderr",
     "output_type": "stream",
     "text": [
      "c:\\Users\\QUIN\\anaconda3\\envs\\PPNKCH\\lib\\site-packages\\tqdm\\auto.py:21: TqdmWarning: IProgress not found. Please update jupyter and ipywidgets. See https://ipywidgets.readthedocs.io/en/stable/user_install.html\n",
      "  from .autonotebook import tqdm as notebook_tqdm\n"
     ]
    }
   ],
   "source": [
    "import pandas as pd\n",
    "import matplotlib.pyplot as plt\n",
    "import seaborn as sns\n",
    "from sklearn.preprocessing import StandardScaler, LabelEncoder\n",
    "from imblearn.over_sampling import SMOTE\n",
    "from sklearn.model_selection import train_test_split\n",
    "import Preprocessing\n",
    "import DataProcessing\n",
    "import model\n",
    "import numpy as np\n",
    "import utils\n",
    "import time\n",
    "from sklearn.metrics import classification_report\n",
    "from sklearn.metrics import accuracy_score\n",
    "# load data \n",
    "data = Preprocessing.load_data('data/rt_iot2022', target_col='Attack_type')"
   ]
  },
  {
   "cell_type": "code",
   "execution_count": 2,
   "id": "181808aa",
   "metadata": {},
   "outputs": [
    {
     "name": "stdout",
     "output_type": "stream",
     "text": [
      "proto\n",
      "service\n",
      "Attack_type\n"
     ]
    }
   ],
   "source": [
    "Preprocessing.check_types(data,\"object\")"
   ]
  },
  {
   "cell_type": "code",
   "execution_count": 3,
   "id": "25954f06",
   "metadata": {},
   "outputs": [],
   "source": [
    "attack_labels = data['Attack_type'].unique()"
   ]
  },
  {
   "cell_type": "code",
   "execution_count": 4,
   "id": "f5fcbf40",
   "metadata": {},
   "outputs": [
    {
     "name": "stdout",
     "output_type": "stream",
     "text": [
      "   id.orig_p  id.resp_p  flow_duration  fwd_pkts_tot  bwd_pkts_tot  \\\n",
      "0      38667       1883      32.011598             9             5   \n",
      "1      51143       1883      31.883584             9             5   \n",
      "2      44761       1883      32.124053             9             5   \n",
      "3      60893       1883      31.961063             9             5   \n",
      "4      51087       1883      31.902362             9             5   \n",
      "\n",
      "   fwd_data_pkts_tot  bwd_data_pkts_tot  fwd_pkts_per_sec  bwd_pkts_per_sec  \\\n",
      "0                  3                  3          0.281148          0.156193   \n",
      "1                  3                  3          0.282277          0.156821   \n",
      "2                  3                  3          0.280164          0.155647   \n",
      "3                  3                  3          0.281593          0.156440   \n",
      "4                  3                  3          0.282111          0.156728   \n",
      "\n",
      "   flow_pkts_per_sec  ...      idle.max      idle.tot      idle.avg  idle.std  \\\n",
      "0           0.437341  ...  2.972918e+07  2.972918e+07  2.972918e+07       0.0   \n",
      "1           0.439097  ...  2.985528e+07  2.985528e+07  2.985528e+07       0.0   \n",
      "2           0.435811  ...  2.984215e+07  2.984215e+07  2.984215e+07       0.0   \n",
      "3           0.438033  ...  2.991377e+07  2.991377e+07  2.991377e+07       0.0   \n",
      "4           0.438839  ...  2.981470e+07  2.981470e+07  2.981470e+07       0.0   \n",
      "\n",
      "   fwd_init_window_size  bwd_init_window_size  fwd_last_window_size  \\\n",
      "0                 64240                 26847                   502   \n",
      "1                 64240                 26847                   502   \n",
      "2                 64240                 26847                   502   \n",
      "3                 64240                 26847                   502   \n",
      "4                 64240                 26847                   502   \n",
      "\n",
      "   Attack_type  proto_tcp  proto_udp  \n",
      "0            3       True      False  \n",
      "1            3       True      False  \n",
      "2            3       True      False  \n",
      "3            3       True      False  \n",
      "4            3       True      False  \n",
      "\n",
      "[5 rows x 84 columns]\n"
     ]
    }
   ],
   "source": [
    "data = Preprocessing.delete_columns(data, [\"Unnamed: 0\",'service'])\n",
    "data = data.loc[:, data.columns.notna()]\n",
    "data = Preprocessing.one_hot_encode(data, ['proto'])\n",
    "data,_ = Preprocessing.label_encode(data, ['Attack_type'])\n",
    "print(data.head(5))"
   ]
  },
  {
   "cell_type": "code",
   "execution_count": 5,
   "id": "bbabd20e",
   "metadata": {},
   "outputs": [
    {
     "name": "stdout",
     "output_type": "stream",
     "text": [
      "Các cột không phải kiểu số:\n",
      "['proto_tcp', 'proto_udp']\n"
     ]
    }
   ],
   "source": [
    "# Tìm các cột không phải là số (numeric)\n",
    "non_numeric_cols = data.select_dtypes(exclude=[\"number\"]).columns.tolist()\n",
    "print(\"Các cột không phải kiểu số:\")\n",
    "print(non_numeric_cols)\n"
   ]
  },
  {
   "cell_type": "code",
   "execution_count": 6,
   "id": "f016b4de",
   "metadata": {},
   "outputs": [],
   "source": [
    "#Tách cột target ra khỏi dữ liệu\n",
    "X, y = data.drop('Attack_type', axis=1), data['Attack_type']\n",
    "X,_ = Preprocessing.scale_data(X)\n",
    "# X_balanced, y_balanced = Preprocessing.apply_smote(X, y)\n",
    "X_train, X_test, y_train, y_test = train_test_split(X,y, test_size=0.2, random_state=42)"
   ]
  },
  {
   "cell_type": "code",
   "execution_count": 7,
   "id": "41d535b4",
   "metadata": {},
   "outputs": [],
   "source": [
    "#chưa áp dụng smotesmote\n",
    "X_train_nsm, X_test_nsm, y_train_nsm, y_test_nsm = train_test_split(X,y, test_size=0.2, random_state=42)\n",
    "\n",
    "#áp dụng smote\n",
    "X_train_sm, X_test_sm, y_train_sm, y_test_sm = train_test_split(X, y, test_size=0.2, random_state=42)\n",
    "X_train_sm, y_train_sm = Preprocessing.apply_smote(X_train_sm, y_train_sm)"
   ]
  },
  {
   "cell_type": "markdown",
   "id": "5953c370",
   "metadata": {},
   "source": [
    "Train với dữ liệu chưa giảm chiều"
   ]
  },
  {
   "cell_type": "markdown",
   "id": "e64adbc4",
   "metadata": {},
   "source": [
    "LinearSVC"
   ]
  },
  {
   "cell_type": "code",
   "execution_count": null,
   "id": "e906be4b",
   "metadata": {},
   "outputs": [],
   "source": [
    "model_LinearSVC = model.model_LinearSVC(X_train_sm, y_train_sm)\n",
    "y_pred = model_LinearSVC.predict(X_test_sm)\n",
    "utils.report(y_test_sm, y_pred)\n",
    "utils.plot_confusion_matrix(y_test_sm, y_pred, attack_labels, \"Ma trận nhầm lẫn của dữ liệu chưa giảm chiều - Mô hình LinearSVC\" )"
   ]
  },
  {
   "cell_type": "code",
   "execution_count": null,
   "id": "da0991cf",
   "metadata": {},
   "outputs": [],
   "source": [
    "accuracy = accuracy_score(y_test_sm, y_pred)\n",
    "print(\"Accuracy:\", accuracy)\n",
    "\n",
    "report = classification_report(y_test_sm, y_pred, output_dict=True)\n",
    "print(\"Precision (macro):\", report[\"macro avg\"][\"precision\"])\n",
    "print(\"Recall (macro):\", report[\"macro avg\"][\"recall\"])\n",
    "print(\"F1-score (macro):\", report[\"macro avg\"][\"f1-score\"])\n",
    "print(\"Support (macro):\", report[\"macro avg\"][\"support\"])"
   ]
  },
  {
   "cell_type": "markdown",
   "id": "06c504cd",
   "metadata": {},
   "source": [
    "xgboost"
   ]
  },
  {
   "cell_type": "code",
   "execution_count": null,
   "id": "1fbb42bf",
   "metadata": {},
   "outputs": [],
   "source": [
    "# import numpy as np\n",
    "\n",
    "# label_mapping = {\n",
    "#     'Attack_type': {\n",
    "#         np.int64(0): 'ARP_poisioning',\n",
    "#         np.int64(1): 'DDOS_Slowloris',\n",
    "#         np.int64(2): 'DOS_SYN_Hping',\n",
    "#         np.int64(3): 'MQTT_Publish',\n",
    "#         np.int64(4): 'Metasploit_Brute_Force_SSH',\n",
    "#         np.int64(5): 'NMAP_FIN_SCAN',\n",
    "#         np.int64(6): 'NMAP_OS_DETECTION',\n",
    "#         np.int64(7): 'NMAP_TCP_scan',\n",
    "#         np.int64(8): 'NMAP_UDP_SCAN',\n",
    "#         np.int64(9): 'NMAP_XMAS_TREE_SCAN',\n",
    "#         np.int64(10): 'Thing_Speak',\n",
    "#         np.int64(11): 'Wipro_bulb'\n",
    "#     }\n",
    "# }\n",
    "\n",
    "# for key, value in label_mapping['Attack_type'].items():\n",
    "#     print(f\"{key} -> {value}\")\n"
   ]
  },
  {
   "cell_type": "code",
   "execution_count": null,
   "id": "e8707f85",
   "metadata": {},
   "outputs": [],
   "source": [
    "attack_labels = [\n",
    "    'ARP_poisioning',\n",
    "    'DDOS_Slowloris',\n",
    "    'DOS_SYN_Hping',\n",
    "    'MQTT_Publish',\n",
    "    'Metasploit_Brute_Force_SSH',\n",
    "    'NMAP_FIN_SCAN',\n",
    "    'NMAP_OS_DETECTION',\n",
    "    'NMAP_TCP_scan',\n",
    "    'NMAP_UDP_SCAN',\n",
    "    'NMAP_XMAS_TREE_SCAN',\n",
    "    'Thing_Speak',\n",
    "    'Wipro_bulb'\n",
    "]"
   ]
  },
  {
   "cell_type": "code",
   "execution_count": null,
   "id": "486ffac2",
   "metadata": {},
   "outputs": [],
   "source": [
    "print(y_test_sm.value_counts())"
   ]
  },
  {
   "cell_type": "code",
   "execution_count": null,
   "id": "4c301539",
   "metadata": {},
   "outputs": [],
   "source": [
    "model_xgboost = model.model_xgboost(X_train_sm, y_train_sm,12)\n",
    "y_pred = model_xgboost.predict(X_test_sm)\n",
    "utils.report(y_test_sm, y_pred)\n",
    " \n",
    "utils.plot_confusion_matrix(y_test_sm, y_pred, attack_labels, \"Ma trận nhầm lẫn của dữ liệu chưa giảm chiều - Mô hình XGBoost\" )"
   ]
  },
  {
   "cell_type": "code",
   "execution_count": null,
   "id": "9113e701",
   "metadata": {},
   "outputs": [],
   "source": [
    "accuracy = accuracy_score(y_test_sm, y_pred)\n",
    "print(\"Accuracy:\", accuracy)\n",
    "\n",
    "report = classification_report(y_test_sm, y_pred, output_dict=True)\n",
    "print(\"Precision (macro):\", report[\"macro avg\"][\"precision\"])\n",
    "print(\"Recall (macro):\", report[\"macro avg\"][\"recall\"])\n",
    "print(\"F1-score (macro):\", report[\"macro avg\"][\"f1-score\"])\n",
    "print(\"Support (macro):\", report[\"macro avg\"][\"support\"])"
   ]
  },
  {
   "cell_type": "markdown",
   "id": "6902d102",
   "metadata": {},
   "source": [
    "logistic_regression"
   ]
  },
  {
   "cell_type": "code",
   "execution_count": null,
   "id": "2613aea3",
   "metadata": {},
   "outputs": [],
   "source": [
    "model_logistic_regression = model.model_logistic_regression(X_train_sm, y_train_sm)\n",
    "y_pred = model_logistic_regression.predict(X_test_sm)\n",
    "utils.report(y_test_sm, y_pred)\n",
    "utils.plot_confusion_matrix(y_test_sm, y_pred, attack_labels, \"Ma trận nhầm lẫn của dữ liệu chưa giảm chiều - Mô hình Logistic regression\" )"
   ]
  },
  {
   "cell_type": "code",
   "execution_count": null,
   "id": "07930d03",
   "metadata": {},
   "outputs": [],
   "source": [
    "accuracy = accuracy_score(y_test_sm,y_pred)\n",
    "print(\"Accuracy:\", accuracy)\n",
    "\n",
    "report = classification_report(y_test_sm,y_pred, output_dict=True)\n",
    "print(\"Precision (macro):\", report[\"macro avg\"][\"precision\"])\n",
    "print(\"Recall (macro):\", report[\"macro avg\"][\"recall\"])\n",
    "print(\"F1-score (macro):\", report[\"macro avg\"][\"f1-score\"])\n",
    "print(\"Support (macro):\", report[\"macro avg\"][\"support\"])"
   ]
  },
  {
   "cell_type": "markdown",
   "id": "7b3a33a8",
   "metadata": {},
   "source": [
    "KNN"
   ]
  },
  {
   "cell_type": "code",
   "execution_count": null,
   "id": "6505d52f",
   "metadata": {},
   "outputs": [],
   "source": [
    "model_knn = model.model_knn(X_train_sm, y_train_sm)\n",
    "y_pred = model_knn.predict(X_test_sm)\n",
    "utils.report(y_test_sm, y_pred)\n",
    "utils.plot_confusion_matrix(y_test_sm, y_pred, attack_labels, \"Ma trận nhầm lẫn của dữ liệu chưa giảm chiều - Mô hình KNN\" )"
   ]
  },
  {
   "cell_type": "code",
   "execution_count": null,
   "id": "80a5a6da",
   "metadata": {},
   "outputs": [],
   "source": [
    "accuracy = accuracy_score(y_test_sm, y_pred)\n",
    "print(\"Accuracy:\", accuracy)\n",
    "\n",
    "report = classification_report(y_test_sm, y_pred, output_dict=True)\n",
    "print(\"Precision (macro):\", report[\"macro avg\"][\"precision\"])\n",
    "print(\"Recall (macro):\", report[\"macro avg\"][\"recall\"])\n",
    "print(\"F1-score (macro):\", report[\"macro avg\"][\"f1-score\"])\n",
    "print(\"Support (macro):\", report[\"macro avg\"][\"support\"])"
   ]
  },
  {
   "cell_type": "markdown",
   "id": "9d034f69",
   "metadata": {},
   "source": [
    "random_forest"
   ]
  },
  {
   "cell_type": "code",
   "execution_count": null,
   "id": "be7bcf1e",
   "metadata": {},
   "outputs": [],
   "source": [
    "model_random_forest = model.model_random_forest(X_train_sm, y_train_sm)\n",
    "y_pred = model_random_forest.predict(X_test_sm)\n",
    "utils.report(y_test_sm, y_pred)\n",
    "utils.plot_confusion_matrix(y_test_sm, y_pred, attack_labels, \"Ma trận nhầm lẫn của dữ liệu chưa giảm chiều - Mô hình Random forest\" )"
   ]
  },
  {
   "cell_type": "code",
   "execution_count": null,
   "id": "04dd0950",
   "metadata": {},
   "outputs": [],
   "source": [
    "accuracy = accuracy_score(y_test_sm,y_pred)\n",
    "print(\"Accuracy:\", accuracy)\n",
    "\n",
    "report = classification_report(y_test_sm,y_pred, output_dict=True)\n",
    "print(\"Precision (macro):\", report[\"macro avg\"][\"precision\"])\n",
    "print(\"Recall (macro):\", report[\"macro avg\"][\"recall\"])\n",
    "print(\"F1-score (macro):\", report[\"macro avg\"][\"f1-score\"])\n",
    "print(\"Support (macro):\", report[\"macro avg\"][\"support\"])"
   ]
  },
  {
   "cell_type": "markdown",
   "id": "25347c5f",
   "metadata": {},
   "source": [
    "MLP"
   ]
  },
  {
   "cell_type": "code",
   "execution_count": null,
   "id": "d647b747",
   "metadata": {},
   "outputs": [],
   "source": [
    "model_mlp = model.model_mlp(X_train_sm, y_train_sm, input_size=X_train_sm.shape[1],\n",
    "                  hidden_size1=128, hidden_size2=64, hidden_size3=32, output_size=12, epochs=10000)\n",
    "y_pred = model.predict_mlp(model_mlp, X_test_sm)\n",
    "utils.report(y_test_sm,y_pred)\n",
    "utils.plot_confusion_matrix(y_test_sm,y_pred, attack_labels, \"Ma trận nhầm lẫn của dữ liệu chưa giảm chiều - Mô hình MLP\" )"
   ]
  },
  {
   "cell_type": "code",
   "execution_count": null,
   "id": "41056c58",
   "metadata": {},
   "outputs": [],
   "source": [
    "accuracy = accuracy_score(y_test_sm,y_pred)\n",
    "print(\"Accuracy:\", accuracy)\n",
    "\n",
    "report = classification_report(y_test_sm,y_pred, output_dict=True)\n",
    "print(\"Precision (macro):\", report[\"macro avg\"][\"precision\"])\n",
    "print(\"Recall (macro):\", report[\"macro avg\"][\"recall\"])\n",
    "print(\"F1-score (macro):\", report[\"macro avg\"][\"f1-score\"])\n",
    "print(\"Support (macro):\", report[\"macro avg\"][\"support\"])"
   ]
  },
  {
   "cell_type": "markdown",
   "id": "ca7c14be",
   "metadata": {},
   "source": [
    "Train với dữ liệu đã giảm chiều"
   ]
  },
  {
   "cell_type": "code",
   "execution_count": null,
   "id": "a9e63ef8",
   "metadata": {},
   "outputs": [],
   "source": [
    "# Xử lý dữ liệu\n",
    "list = DataProcessing.select_feature(X_train_sm, y_train_sm)\n",
    "print(len(list))"
   ]
  },
  {
   "cell_type": "code",
   "execution_count": null,
   "id": "f201575d",
   "metadata": {},
   "outputs": [],
   "source": [
    "X_train_sm = X_train_sm[list['Feature']]\n",
    "df_reduced, dropped_columns = DataProcessing.remove_highly_correlated_columns(X_train_sm[list['Feature']], threshold=0.8)"
   ]
  },
  {
   "cell_type": "code",
   "execution_count": null,
   "id": "99e3ff51",
   "metadata": {},
   "outputs": [],
   "source": [
    "X_train_sm_dr = df_reduced\n",
    "X_test_sm_dr = X_test_sm[list['Feature']].drop(dropped_columns, axis=1)\n",
    "y_train_sm_dr = y_train_sm.copy()\n",
    "y_test_sm_dr = y_test_sm.copy()"
   ]
  },
  {
   "cell_type": "markdown",
   "id": "48119e5d",
   "metadata": {},
   "source": [
    "LinearSVC"
   ]
  },
  {
   "cell_type": "code",
   "execution_count": null,
   "id": "bd541e96",
   "metadata": {},
   "outputs": [],
   "source": [
    "model_LinearSVC_dr = model.model_LinearSVC(X_train_sm_dr, y_train_sm_dr)\n",
    "y_pred_dr = model_LinearSVC_dr.predict(X_test_sm_dr)\n",
    "utils.report(y_test_sm_dr,y_pred_dr)\n",
    "utils.plot_confusion_matrix(y_test_sm_dr,y_pred_dr, attack_labels, \"Ma trận nhầm lẫn của dữ liệu đã giảm chiều - Mô hình LinearSVC\" )"
   ]
  },
  {
   "cell_type": "code",
   "execution_count": null,
   "id": "1ce8bc03",
   "metadata": {},
   "outputs": [],
   "source": [
    "accuracy = accuracy_score(y_test_sm_dr, y_pred_dr)\n",
    "print(\"Accuracy:\", accuracy)\n",
    "\n",
    "report = classification_report(y_test_sm_dr, y_pred_dr, output_dict=True)\n",
    "print(\"Precision (macro):\", report[\"macro avg\"][\"precision\"])\n",
    "print(\"Recall (macro):\", report[\"macro avg\"][\"recall\"])\n",
    "print(\"F1-score (macro):\", report[\"macro avg\"][\"f1-score\"])\n",
    "print(\"Support (macro):\", report[\"macro avg\"][\"support\"])"
   ]
  },
  {
   "cell_type": "markdown",
   "id": "6c9f4225",
   "metadata": {},
   "source": [
    "xgboost"
   ]
  },
  {
   "cell_type": "code",
   "execution_count": null,
   "id": "ef3d8788",
   "metadata": {},
   "outputs": [],
   "source": [
    "model_xgboost_dr = model.model_xgboost(X_train_sm_dr, y_train_sm_dr,12)\n",
    "y_pred_dr = model_xgboost_dr.predict(X_test_sm_dr)\n",
    "utils.report(y_test_sm_dr,y_pred_dr)\n",
    "utils.plot_confusion_matrix(y_test_sm_dr,y_pred_dr, attack_labels, \"Ma trận nhầm lẫn của dữ liệu đã giảm chiều - Mô hình XGBoost\" )"
   ]
  },
  {
   "cell_type": "code",
   "execution_count": null,
   "id": "964504f7",
   "metadata": {},
   "outputs": [],
   "source": [
    "accuracy = accuracy_score(y_test_sm_dr,y_pred_dr)\n",
    "print(\"Accuracy:\", accuracy)\n",
    "\n",
    "report = classification_report(y_test_sm_dr,y_pred_dr, output_dict=True)\n",
    "print(\"Precision (macro):\", report[\"macro avg\"][\"precision\"])\n",
    "print(\"Recall (macro):\", report[\"macro avg\"][\"recall\"])\n",
    "print(\"F1-score (macro):\", report[\"macro avg\"][\"f1-score\"])\n",
    "print(\"Support (macro):\", report[\"macro avg\"][\"support\"])"
   ]
  },
  {
   "cell_type": "markdown",
   "id": "efa6aa07",
   "metadata": {},
   "source": [
    "logistic_regression"
   ]
  },
  {
   "cell_type": "code",
   "execution_count": null,
   "id": "44477c4a",
   "metadata": {},
   "outputs": [],
   "source": [
    "model_logistic_regression_dr = model.model_logistic_regression(X_train_sm_dr, y_train_sm_dr)\n",
    "y_pred_dr = model_logistic_regression_dr.predict(X_test_sm_dr)\n",
    "utils.report(y_test_sm_dr,y_pred_dr)\n",
    "utils.plot_confusion_matrix(y_test_sm_dr,y_pred_dr, attack_labels, \"Ma trận nhầm lẫn của dữ liệu chưa đã chiều - Mô hình Logistic regression\" )"
   ]
  },
  {
   "cell_type": "code",
   "execution_count": null,
   "id": "11a44c08",
   "metadata": {},
   "outputs": [],
   "source": [
    "accuracy = accuracy_score(y_test_sm_dr,y_pred_dr)\n",
    "print(\"Accuracy:\", accuracy)\n",
    "\n",
    "report = classification_report(y_test_sm_dr,y_pred_dr, output_dict=True)\n",
    "print(\"Precision (macro):\", report[\"macro avg\"][\"precision\"])\n",
    "print(\"Recall (macro):\", report[\"macro avg\"][\"recall\"])\n",
    "print(\"F1-score (macro):\", report[\"macro avg\"][\"f1-score\"])\n",
    "print(\"Support (macro):\", report[\"macro avg\"][\"support\"])"
   ]
  },
  {
   "cell_type": "markdown",
   "id": "766d39ad",
   "metadata": {},
   "source": [
    "knn"
   ]
  },
  {
   "cell_type": "code",
   "execution_count": null,
   "id": "48fffdfc",
   "metadata": {},
   "outputs": [],
   "source": [
    "model_knn_dr = model.model_knn(X_train_sm_dr, y_train_sm_dr)\n",
    "y_pred_dr = model_knn_dr.predict(X_test_sm_dr)\n",
    "utils.report(y_test_sm_dr, y_pred_dr)\n",
    "utils.plot_confusion_matrix(y_test_sm_dr, y_pred_dr, attack_labels, \"Ma trận nhầm lẫn của dữ liệu đã giảm chiều - Mô hình KNN\" )"
   ]
  },
  {
   "cell_type": "code",
   "execution_count": null,
   "id": "a8b47fd8",
   "metadata": {},
   "outputs": [],
   "source": [
    "accuracy = accuracy_score(y_test_sm_dr, y_pred_dr)\n",
    "print(\"Accuracy:\", accuracy)\n",
    "\n",
    "report = classification_report(y_test_sm_dr, y_pred_dr, output_dict=True)\n",
    "print(\"Precision (macro):\", report[\"macro avg\"][\"precision\"])\n",
    "print(\"Recall (macro):\", report[\"macro avg\"][\"recall\"])\n",
    "print(\"F1-score (macro):\", report[\"macro avg\"][\"f1-score\"])\n",
    "print(\"Support (macro):\", report[\"macro avg\"][\"support\"])"
   ]
  },
  {
   "cell_type": "markdown",
   "id": "d10face9",
   "metadata": {},
   "source": [
    "random_forest"
   ]
  },
  {
   "cell_type": "code",
   "execution_count": null,
   "id": "6be85a44",
   "metadata": {},
   "outputs": [],
   "source": [
    "model_random_forest_dr = model.model_random_forest(X_train_sm_dr, y_train_sm_dr)\n",
    "y_pred_dr = model_random_forest_dr.predict(X_test_sm_dr)\n",
    "utils.report(y_test_sm_dr, y_pred_dr)\n",
    "utils.plot_confusion_matrix(y_test_sm_dr, y_pred_dr, attack_labels, \"Ma trận nhầm lẫn của dữ liệu đã giảm chiều - Mô hình Random forest\" )"
   ]
  },
  {
   "cell_type": "code",
   "execution_count": null,
   "id": "ffb8a0ce",
   "metadata": {},
   "outputs": [],
   "source": [
    "accuracy = accuracy_score(y_test_sm_dr, y_pred_dr)\n",
    "print(\"Accuracy:\", accuracy)\n",
    "\n",
    "report = classification_report(y_test_sm_dr, y_pred_dr, output_dict=True)\n",
    "print(\"Precision (macro):\", report[\"macro avg\"][\"precision\"])\n",
    "print(\"Recall (macro):\", report[\"macro avg\"][\"recall\"])\n",
    "print(\"F1-score (macro):\", report[\"macro avg\"][\"f1-score\"])\n",
    "print(\"Support (macro):\", report[\"macro avg\"][\"support\"])"
   ]
  },
  {
   "cell_type": "markdown",
   "id": "08e8cf61",
   "metadata": {},
   "source": [
    "MLP"
   ]
  },
  {
   "cell_type": "code",
   "execution_count": null,
   "id": "5478e387",
   "metadata": {},
   "outputs": [],
   "source": [
    "model_mlp_dr = model.model_mlp(X_train_sm_dr, y_train_sm_dr, input_size=X_train_sm_dr.shape[1],\n",
    "                  hidden_size1=128, hidden_size2=64, hidden_size3=32, output_size=12, epochs=10000)"
   ]
  },
  {
   "cell_type": "code",
   "execution_count": null,
   "id": "66a98e8c",
   "metadata": {},
   "outputs": [],
   "source": [
    "y_pred_dr = model.predict_mlp(model_mlp_dr, X_test_sm_dr)\n",
    "utils.report(y_test_sm, y_pred_dr)\n",
    "utils.plot_confusion_matrix(y_test_sm, y_pred_dr, attack_labels, \"Ma trận nhầm lẫn của dữ liệu đã giảm chiều - Mô hình MLP\" )"
   ]
  },
  {
   "cell_type": "code",
   "execution_count": null,
   "id": "8dcd117a",
   "metadata": {},
   "outputs": [],
   "source": [
    "accuracy = accuracy_score(y_test_sm, y_pred_dr)\n",
    "print(\"Accuracy:\", accuracy)\n",
    "\n",
    "report = classification_report(y_test_sm, y_pred_dr, output_dict=True)\n",
    "print(\"Precision (macro):\", report[\"macro avg\"][\"precision\"])\n",
    "print(\"Recall (macro):\", report[\"macro avg\"][\"recall\"])\n",
    "print(\"F1-score (macro):\", report[\"macro avg\"][\"f1-score\"])\n",
    "print(\"Support (macro):\", report[\"macro avg\"][\"support\"])"
   ]
  },
  {
   "cell_type": "markdown",
   "id": "552883e6",
   "metadata": {},
   "source": [
    "Train mô hỉnh tinh chỉnh."
   ]
  },
  {
   "cell_type": "code",
   "execution_count": null,
   "id": "1a270f3c",
   "metadata": {},
   "outputs": [],
   "source": [
    "\n",
    "# y_pred = model_random_forest.predict(X_test_sm)\n",
    "# utils.report(y_pred,y_test_sm)"
   ]
  },
  {
   "cell_type": "code",
   "execution_count": null,
   "id": "68eeb5e9",
   "metadata": {},
   "outputs": [],
   "source": [
    "from sklearn.model_selection import RandomizedSearchCV\n",
    "from sklearn.ensemble import RandomForestClassifier\n",
    "from scipy.stats import randint"
   ]
  },
  {
   "cell_type": "markdown",
   "id": "a257f815",
   "metadata": {},
   "source": [
    "Random Forest"
   ]
  },
  {
   "cell_type": "code",
   "execution_count": null,
   "id": "7d3671bb",
   "metadata": {},
   "outputs": [],
   "source": [
    "from sklearn.model_selection import RandomizedSearchCV\n",
    "from scipy.stats import randint\n",
    "import time\n",
    "\n",
    "# Không gian tham số mở rộng\n",
    "param_dist = {\n",
    "    'n_estimators': randint(50, 200),\n",
    "    'max_depth': randint(3, 20),\n",
    "    'min_samples_split': randint(2, 10),\n",
    "    'min_samples_leaf': randint(1, 10),\n",
    "    'max_features': ['sqrt', 'log2', None],\n",
    "    'bootstrap': [True, False]\n",
    "}\n",
    "\n",
    "# Khởi tạo mô hình Random Forest\n",
    "get_random_forest_model_instance = model.get_random_forest_model() \n",
    "\n",
    "# Tìm kiếm tham số ngẫu nhiên\n",
    "random_search = RandomizedSearchCV(\n",
    "    estimator=get_random_forest_model_instance,\n",
    "    param_distributions=param_dist,\n",
    "    n_iter=50,\n",
    "    cv=5,\n",
    "    scoring='f1_macro',\n",
    "    random_state=42,\n",
    "    n_jobs=-1,\n",
    "    verbose=1\n",
    ")\n",
    "\n",
    "# Huấn luyện và đo thời gian\n",
    "start_time = time.time()\n",
    "random_search.fit(X_train_sm_dr, y_train_sm_dr)\n",
    "end_time = time.time()\n",
    "print(f'Thời gian huấn luyện: {end_time - start_time:.2f} giây')\n",
    "\n",
    "# Kết quả\n",
    "print(\"Best params:\", random_search.best_params_)\n",
    "\n",
    "# Dự đoán và đánh giá\n",
    "y_pred_rd = random_search.predict(X_test_sm_dr)\n",
    "print(\"Random Forest Classification Report:\")\n",
    "utils.report(y_test_sm_dr, y_pred_rd)\n",
    "\n",
    "utils.plot_confusion_matrix(\n",
    "    y_test_sm_dr,\n",
    "    y_pred_rd,\n",
    "    attack_labels,\n",
    "    \"Ma trận nhầm lẫn trên dữ liệu đã giảm chiều - Mô hình Random Forest (RandomizedSearchCV)\"\n",
    ")\n"
   ]
  },
  {
   "cell_type": "code",
   "execution_count": null,
   "id": "444f87b6",
   "metadata": {},
   "outputs": [],
   "source": [
    "accuracy = accuracy_score(y_test_sm_dr,y_pred_rd)\n",
    "print(\"Accuracy:\", accuracy)\n",
    "\n",
    "report = classification_report(y_test_sm_dr,y_pred_rd, output_dict=True)\n",
    "print(\"Precision (macro):\", report[\"macro avg\"][\"precision\"])\n",
    "print(\"Recall (macro):\", report[\"macro avg\"][\"recall\"])\n",
    "print(\"F1-score (macro):\", report[\"macro avg\"][\"f1-score\"])\n",
    "print(\"Support (macro):\", report[\"macro avg\"][\"support\"])"
   ]
  },
  {
   "cell_type": "markdown",
   "id": "4fef2a93",
   "metadata": {},
   "source": [
    "XGBoost"
   ]
  },
  {
   "cell_type": "code",
   "execution_count": null,
   "id": "8706f597",
   "metadata": {},
   "outputs": [],
   "source": [
    "\n",
    "\n",
    "# Kiểm tra phân bố lớp\n",
    "print(\"Class distribution:\", Counter(y_train_sm_dr))\n",
    "\n",
    "# Tính scale_pos_weight\n",
    "class_counts = np.bincount(y_train_sm_dr)\n",
    "scale_pos_weight = float(class_counts[0]) / class_counts[1]\n",
    "\n",
    "# Không gian tham số mở rộng\n",
    "param_dist = {\n",
    "    'n_estimators': [50, 100, 200],\n",
    "    'max_depth': [3, 5, 7, 10],\n",
    "    'learning_rate': [0.01, 0.1, 0.2],\n",
    "    'subsample': [0.6, 0.8, 1.0],\n",
    "    'colsample_bytree': [0.6, 0.8, 1.0],\n",
    "    'scale_pos_weight': [1.0, scale_pos_weight],\n",
    "    'gamma': [0, 0.1, 0.2]  # tuỳ chọn\n",
    "}\n",
    "\n",
    "# Khởi tạo mô hình\n",
    "xgb_model = model.get_xgboost_model(random_state=42)\n",
    "\n",
    "# Tìm kiếm ngẫu nhiên\n",
    "random_search_xgb = RandomizedSearchCV(\n",
    "    estimator=xgb_model,\n",
    "    param_distributions=param_dist,\n",
    "    n_iter=50,  # tăng nếu có thể\n",
    "    cv=5,\n",
    "    scoring='f1_macro',\n",
    "    random_state=42,\n",
    "    n_jobs=-1,\n",
    "    verbose=1\n",
    ")\n",
    "\n",
    "# Huấn luyện\n",
    "start_time = time.time()\n",
    "random_search_xgb.fit(X_train_sm_dr, y_train_sm_dr)\n",
    "end_time = time.time()\n",
    "print(f'Thời gian huấn luyện: {end_time - start_time:.2f} giây')\n",
    "\n",
    "# Mô hình tốt nhất\n",
    "best_xgb_model = random_search_xgb.best_estimator_\n",
    "print(\"Best parameters for XGBoost:\", random_search_xgb.best_params_)\n",
    "\n",
    "# Đánh giá\n",
    "y_pred_xgb = best_xgb_model.predict(X_test_sm_dr)\n",
    "print(\"XGBoost Classification Report:\")\n",
    "utils.report(y_test_sm_dr, y_pred_xgb)\n",
    "utils.plot_confusion_matrix(\n",
    "    y_test_sm_dr,\n",
    "    y_pred_xgb,\n",
    "    attack_labels,\n",
    "    \"Ma trận nhầm lẫn trên dữ liệu đã giảm chiều - Mô hình XGBoost (RandomizedSearchCV)\"\n",
    ")\n"
   ]
  },
  {
   "cell_type": "code",
   "execution_count": null,
   "id": "76a4442e",
   "metadata": {},
   "outputs": [],
   "source": [
    "accuracy = accuracy_score(y_test_sm_dr, y_pred_xgb)\n",
    "print(\"Accuracy:\", accuracy)\n",
    "\n",
    "report = classification_report(y_test_sm_dr, y_pred_xgb, output_dict=True)\n",
    "print(\"Precision (macro):\", report[\"macro avg\"][\"precision\"])\n",
    "print(\"Recall (macro):\", report[\"macro avg\"][\"recall\"])\n",
    "print(\"F1-score (macro):\", report[\"macro avg\"][\"f1-score\"])\n",
    "print(\"Support (macro):\", report[\"macro avg\"][\"support\"])"
   ]
  },
  {
   "cell_type": "markdown",
   "id": "cb41f9ae",
   "metadata": {},
   "source": [
    "KNN"
   ]
  },
  {
   "cell_type": "code",
   "execution_count": null,
   "id": "b0270628",
   "metadata": {},
   "outputs": [],
   "source": [
    "# Định nghĩa không gian tham số cho KNN\n",
    "param_dist_knn = {\n",
    "    'n_neighbors': [3, 5, 7, 9, 11],\n",
    "    'weights': ['uniform', 'distance'],\n",
    "    'metric': ['euclidean', 'manhattan']\n",
    "}\n",
    "\n",
    "# Khởi tạo mô hình\n",
    "knn_model = model.get_knn_model()\n",
    "\n",
    "# Tìm kiếm ngẫu nhiên\n",
    "random_search_knn = RandomizedSearchCV(\n",
    "    estimator=knn_model,\n",
    "    param_distributions=param_dist_knn,\n",
    "    n_iter=50,\n",
    "    cv=5,\n",
    "    scoring='f1_macro',\n",
    "    random_state=42,\n",
    "    n_jobs=-1\n",
    ")\n",
    "\n",
    "# Huấn luyện\n",
    "start_time = time.time()\n",
    "random_search_knn.fit(X_train_sm_dr, y_train_sm_dr)\n",
    "end_time = time.time()\n",
    "print(f'Thời gian huấn luyện: {end_time - start_time:.2f} giây')\n",
    "# Lấy mô hình tốt nhất\n",
    "best_knn_model = random_search_knn.best_estimator_\n",
    "print(\"Best parameters for KNN:\", random_search_knn.best_params_)\n",
    "\n",
    "# Dự đoán và đánh giá\n",
    "y_pred_knn = best_knn_model.predict(X_test_sm_dr)\n",
    "print(\"KNN Classification Report:\")\n",
    "utils.report(y_test_sm_dr, y_pred_knn)\n",
    "utils.plot_confusion_matrix(y_test_sm_dr, y_pred_knn, attack_labels, \"Ma trận nhầm lẫn trên dữ liệu đã giảm chiều - Mô hình KNN (RandomizedSearchCV)\" )"
   ]
  },
  {
   "cell_type": "code",
   "execution_count": null,
   "id": "8021c74c",
   "metadata": {},
   "outputs": [],
   "source": [
    "accuracy = accuracy_score(y_test_sm_dr, y_pred_knn)\n",
    "print(\"Accuracy:\", accuracy)\n",
    "\n",
    "report = classification_report(y_test_sm_dr, y_pred_knn, output_dict=True)\n",
    "print(\"Precision (macro):\", report[\"macro avg\"][\"precision\"])\n",
    "print(\"Recall (macro):\", report[\"macro avg\"][\"recall\"])\n",
    "print(\"F1-score (macro):\", report[\"macro avg\"][\"f1-score\"])\n",
    "print(\"Support (macro):\", report[\"macro avg\"][\"support\"])\n"
   ]
  }
 ],
 "metadata": {
  "kernelspec": {
   "display_name": "PPNKCH",
   "language": "python",
   "name": "python3"
  },
  "language_info": {
   "codemirror_mode": {
    "name": "ipython",
    "version": 3
   },
   "file_extension": ".py",
   "mimetype": "text/x-python",
   "name": "python",
   "nbconvert_exporter": "python",
   "pygments_lexer": "ipython3",
   "version": "3.10.16"
  }
 },
 "nbformat": 4,
 "nbformat_minor": 5
}
