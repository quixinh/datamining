{
 "cells": [
  {
   "cell_type": "code",
   "execution_count": 1,
   "id": "f48799a8",
   "metadata": {},
   "outputs": [
    {
     "name": "stderr",
     "output_type": "stream",
     "text": [
      "c:\\Users\\QUIN\\anaconda3\\envs\\PPNKCH\\lib\\site-packages\\tqdm\\auto.py:21: TqdmWarning: IProgress not found. Please update jupyter and ipywidgets. See https://ipywidgets.readthedocs.io/en/stable/user_install.html\n",
      "  from .autonotebook import tqdm as notebook_tqdm\n"
     ]
    }
   ],
   "source": [
    "import pandas as pd\n",
    "import matplotlib.pyplot as plt\n",
    "import seaborn as sns\n",
    "from sklearn.preprocessing import StandardScaler, LabelEncoder\n",
    "from imblearn.over_sampling import SMOTE\n",
    "from sklearn.model_selection import train_test_split\n",
    "import Preprocessing\n",
    "import DataProcessing\n",
    "import model\n",
    "import utils\n",
    "data = Preprocessing.load_data('data/rt_iot2022', target_col='Attack_type')"
   ]
  },
  {
   "cell_type": "code",
   "execution_count": 2,
   "id": "181808aa",
   "metadata": {},
   "outputs": [
    {
     "name": "stdout",
     "output_type": "stream",
     "text": [
      "proto\n",
      "service\n",
      "Attack_type\n"
     ]
    }
   ],
   "source": [
    "Preprocessing.check_types(data,\"object\")"
   ]
  },
  {
   "cell_type": "code",
   "execution_count": 3,
   "id": "f5fcbf40",
   "metadata": {},
   "outputs": [
    {
     "name": "stdout",
     "output_type": "stream",
     "text": [
      "   id.orig_p  id.resp_p  flow_duration  fwd_pkts_tot  bwd_pkts_tot  \\\n",
      "0      38667       1883      32.011598             9             5   \n",
      "1      51143       1883      31.883584             9             5   \n",
      "2      44761       1883      32.124053             9             5   \n",
      "3      60893       1883      31.961063             9             5   \n",
      "4      51087       1883      31.902362             9             5   \n",
      "\n",
      "   fwd_data_pkts_tot  bwd_data_pkts_tot  fwd_pkts_per_sec  bwd_pkts_per_sec  \\\n",
      "0                  3                  3          0.281148          0.156193   \n",
      "1                  3                  3          0.282277          0.156821   \n",
      "2                  3                  3          0.280164          0.155647   \n",
      "3                  3                  3          0.281593          0.156440   \n",
      "4                  3                  3          0.282111          0.156728   \n",
      "\n",
      "   flow_pkts_per_sec  ...      idle.max      idle.tot      idle.avg  idle.std  \\\n",
      "0           0.437341  ...  2.972918e+07  2.972918e+07  2.972918e+07       0.0   \n",
      "1           0.439097  ...  2.985528e+07  2.985528e+07  2.985528e+07       0.0   \n",
      "2           0.435811  ...  2.984215e+07  2.984215e+07  2.984215e+07       0.0   \n",
      "3           0.438033  ...  2.991377e+07  2.991377e+07  2.991377e+07       0.0   \n",
      "4           0.438839  ...  2.981470e+07  2.981470e+07  2.981470e+07       0.0   \n",
      "\n",
      "   fwd_init_window_size  bwd_init_window_size  fwd_last_window_size  \\\n",
      "0                 64240                 26847                   502   \n",
      "1                 64240                 26847                   502   \n",
      "2                 64240                 26847                   502   \n",
      "3                 64240                 26847                   502   \n",
      "4                 64240                 26847                   502   \n",
      "\n",
      "   Attack_type  proto_tcp  proto_udp  \n",
      "0            3       True      False  \n",
      "1            3       True      False  \n",
      "2            3       True      False  \n",
      "3            3       True      False  \n",
      "4            3       True      False  \n",
      "\n",
      "[5 rows x 84 columns]\n"
     ]
    }
   ],
   "source": [
    "data = Preprocessing.delete_columns(data, [\"Unnamed: 0\",'service'])\n",
    "data = data.loc[:, data.columns.notna()]\n",
    "data = Preprocessing.one_hot_encode(data, ['proto'])\n",
    "data = Preprocessing.label_encode(data, ['Attack_type'])\n",
    "print(data.head(5))"
   ]
  },
  {
   "cell_type": "code",
   "execution_count": 4,
   "id": "bbabd20e",
   "metadata": {},
   "outputs": [
    {
     "name": "stdout",
     "output_type": "stream",
     "text": [
      "Các cột không phải kiểu số:\n",
      "['proto_tcp', 'proto_udp']\n"
     ]
    }
   ],
   "source": [
    "# Tìm các cột không phải là số (numeric)\n",
    "non_numeric_cols = data.select_dtypes(exclude=[\"number\"]).columns.tolist()\n",
    "print(\"Các cột không phải kiểu số:\")\n",
    "print(non_numeric_cols)\n"
   ]
  },
  {
   "cell_type": "code",
   "execution_count": 5,
   "id": "f016b4de",
   "metadata": {},
   "outputs": [],
   "source": [
    "#Tách cột target ra khỏi dữ liệu\n",
    "X, y = data.drop('Attack_type', axis=1), data['Attack_type']\n",
    "X,_ = Preprocessing.scale_data(X)\n",
    "# X_balanced, y_balanced = Preprocessing.apply_smote(X, y)\n",
    "X_train, X_test, y_train, y_test = train_test_split(X,y, test_size=0.2, random_state=42)"
   ]
  },
  {
   "cell_type": "code",
   "execution_count": 6,
   "id": "41d535b4",
   "metadata": {},
   "outputs": [],
   "source": [
    "#chưa áp dụng smotesmote\n",
    "X_train_nsm, X_test_nsm, y_train_nsm, y_test_nsm = train_test_split(X,y, test_size=0.2, random_state=42)\n",
    "\n",
    "#áp dụng smote\n",
    "X_train_sm, X_test_sm, y_train_sm, y_test_sm = train_test_split(X, y, test_size=0.2, random_state=42)\n",
    "X_train_sm, y_train_sm = Preprocessing.apply_smote(X_train_sm, y_train_sm)"
   ]
  },
  {
   "cell_type": "code",
   "execution_count": 7,
   "id": "c4d524dd",
   "metadata": {},
   "outputs": [],
   "source": [
    "# Preprocessing.plot_heatmap(X_train_sm[list['Feature']], y_train_sm,'Attack_type')"
   ]
  },
  {
   "cell_type": "code",
   "execution_count": 8,
   "id": "60dead21",
   "metadata": {},
   "outputs": [],
   "source": [
    "# Preprocessing.plot_heatmap(X_train[list['Feature']].drop(dropped_columns, axis=1), y_train,'Attack_type')"
   ]
  },
  {
   "cell_type": "markdown",
   "id": "5953c370",
   "metadata": {},
   "source": [
    "Train với dữ liệu chưa giảm chiều"
   ]
  },
  {
   "cell_type": "code",
   "execution_count": 9,
   "id": "6bf9bc5a",
   "metadata": {},
   "outputs": [],
   "source": [
    "# x2 = X_train[list['Feature']].drop(dropped_columns, axis=1)"
   ]
  },
  {
   "cell_type": "code",
   "execution_count": 10,
   "id": "a3b6f1a7",
   "metadata": {},
   "outputs": [],
   "source": [
    "# print(len(X_train.columns))"
   ]
  },
  {
   "cell_type": "code",
   "execution_count": 11,
   "id": "e906be4b",
   "metadata": {},
   "outputs": [
    {
     "name": "stdout",
     "output_type": "stream",
     "text": [
      "Classification Report:\n",
      "               precision    recall  f1-score   support\n",
      "\n",
      "           0       0.89      0.94      0.91      1500\n",
      "           1       0.99      0.77      0.87       128\n",
      "           2       1.00      1.00      1.00     18898\n",
      "           3       1.00      1.00      1.00       870\n",
      "           4       0.67      0.18      0.29        22\n",
      "           5       0.67      0.40      0.50         5\n",
      "           6       1.00      0.99      0.99       397\n",
      "           7       1.00      1.00      1.00       220\n",
      "           8       0.85      0.97      0.91       429\n",
      "           9       0.99      0.99      0.99       386\n",
      "          10       0.95      0.92      0.94      1686\n",
      "          11       0.84      0.59      0.70        83\n",
      "\n",
      "    accuracy                           0.99     24624\n",
      "   macro avg       0.90      0.81      0.84     24624\n",
      "weighted avg       0.99      0.99      0.99     24624\n",
      "\n",
      "Confusion Matrix:\n",
      " [[ 1406     1     0     2     2     1     0     0    45     3    39     1]\n",
      " [    4    99     0     0     0     0     0     0    25     0     0     0]\n",
      " [    0     0 18897     0     0     0     0     0     0     0     0     1]\n",
      " [    1     0     0   869     0     0     0     0     0     0     0     0]\n",
      " [   11     0     0     0     4     0     0     0     0     0     6     1]\n",
      " [    1     0     0     0     0     2     0     0     0     0     2     0]\n",
      " [    3     0     0     0     0     0   393     0     0     0     0     1]\n",
      " [    0     0     0     0     0     0     0   220     0     0     0     0]\n",
      " [    2     0     0     0     0     0     0     0   417     0    10     0]\n",
      " [    0     0     0     0     0     0     0     0     0   381     2     3]\n",
      " [  133     0     0     0     0     0     0     0     2     0  1549     2]\n",
      " [   17     0     0     0     0     0     0     0     0     0    17    49]]\n"
     ]
    },
    {
     "name": "stderr",
     "output_type": "stream",
     "text": [
      "c:\\Users\\QUIN\\anaconda3\\envs\\PPNKCH\\lib\\site-packages\\sklearn\\svm\\_base.py:1249: ConvergenceWarning: Liblinear failed to converge, increase the number of iterations.\n",
      "  warnings.warn(\n"
     ]
    }
   ],
   "source": [
    "model_LinearSVC = model.model_LinearSVC(X_train_sm, y_train_sm)\n",
    "y_pred = model_LinearSVC.predict(X_test_sm)\n",
    "utils.report(y_pred,y_test_sm)"
   ]
  },
  {
   "cell_type": "code",
   "execution_count": 12,
   "id": "4c301539",
   "metadata": {},
   "outputs": [
    {
     "name": "stdout",
     "output_type": "stream",
     "text": [
      "Classification Report:\n",
      "               precision    recall  f1-score   support\n",
      "\n",
      "           0       1.00      0.99      0.99      1594\n",
      "           1       1.00      1.00      1.00       100\n",
      "           2       1.00      1.00      1.00     18897\n",
      "           3       1.00      1.00      1.00       871\n",
      "           4       0.83      0.83      0.83         6\n",
      "           5       0.67      0.67      0.67         3\n",
      "           6       1.00      1.00      1.00       393\n",
      "           7       1.00      1.00      1.00       220\n",
      "           8       0.99      1.00      0.99       485\n",
      "           9       0.99      1.00      1.00       381\n",
      "          10       0.99      0.99      0.99      1619\n",
      "          11       0.95      1.00      0.97        55\n",
      "\n",
      "    accuracy                           1.00     24624\n",
      "   macro avg       0.95      0.96      0.95     24624\n",
      "weighted avg       1.00      1.00      1.00     24624\n",
      "\n",
      "Confusion Matrix:\n",
      " [[ 1571     0     0     0     0     1     0     0     3     2    15     2]\n",
      " [    0   100     0     0     0     0     0     0     0     0     0     0]\n",
      " [    0     0 18897     0     0     0     0     0     0     0     0     0]\n",
      " [    0     0     0   870     0     0     0     0     0     0     0     1]\n",
      " [    0     0     0     0     5     0     0     0     1     0     0     0]\n",
      " [    0     0     0     0     0     2     0     0     0     0     1     0]\n",
      " [    0     0     0     0     0     0   393     0     0     0     0     0]\n",
      " [    0     0     0     0     0     0     0   220     0     0     0     0]\n",
      " [    0     0     0     0     1     0     0     0   483     1     0     0]\n",
      " [    0     0     0     0     0     0     0     0     0   381     0     0]\n",
      " [    7     0     0     1     0     0     0     0     2     0  1609     0]\n",
      " [    0     0     0     0     0     0     0     0     0     0     0    55]]\n"
     ]
    }
   ],
   "source": [
    "model_xgboost = model.model_xgboost(X_train_sm, y_train_sm,12)\n",
    "y_pred = model_xgboost.predict(X_test_sm)\n",
    "utils.report(y_pred,y_test_sm)"
   ]
  },
  {
   "cell_type": "code",
   "execution_count": 14,
   "id": "2613aea3",
   "metadata": {},
   "outputs": [
    {
     "name": "stderr",
     "output_type": "stream",
     "text": [
      "c:\\Users\\QUIN\\anaconda3\\envs\\PPNKCH\\lib\\site-packages\\sklearn\\linear_model\\_logistic.py:1247: FutureWarning: 'multi_class' was deprecated in version 1.5 and will be removed in 1.7. From then on, it will always use 'multinomial'. Leave it to its default value to avoid this warning.\n",
      "  warnings.warn(\n"
     ]
    },
    {
     "name": "stdout",
     "output_type": "stream",
     "text": [
      "Classification Report:\n",
      "               precision    recall  f1-score   support\n",
      "\n",
      "           0       0.86      0.94      0.90      1440\n",
      "           1       0.99      0.73      0.84       135\n",
      "           2       1.00      1.00      1.00     18897\n",
      "           3       1.00      0.99      1.00       877\n",
      "           4       0.83      0.09      0.16        56\n",
      "           5       0.67      0.40      0.50         5\n",
      "           6       1.00      1.00      1.00       393\n",
      "           7       1.00      1.00      1.00       220\n",
      "           8       0.87      0.84      0.85       503\n",
      "           9       0.99      1.00      1.00       381\n",
      "          10       0.94      0.94      0.94      1629\n",
      "          11       0.91      0.60      0.73        88\n",
      "\n",
      "    accuracy                           0.98     24624\n",
      "   macro avg       0.92      0.79      0.83     24624\n",
      "weighted avg       0.98      0.98      0.98     24624\n",
      "\n",
      "Confusion Matrix:\n",
      " [[ 1354     0     0     1     1     1     0     0    36     2    43     2]\n",
      " [   11    99     0     0     0     0     0     0    24     0     1     0]\n",
      " [    0     0 18897     0     0     0     0     0     0     0     0     0]\n",
      " [    5     0     0   870     0     0     0     0     0     0     2     0]\n",
      " [   14     1     0     0     5     0     0     0     3     1    31     1]\n",
      " [    1     0     0     0     0     2     0     0     0     0     2     0]\n",
      " [    0     0     0     0     0     0   393     0     0     0     0     0]\n",
      " [    0     0     0     0     0     0     0   220     0     0     0     0]\n",
      " [   74     0     0     0     0     0     0     0   424     0     5     0]\n",
      " [    0     0     0     0     0     0     0     0     0   381     0     0]\n",
      " [  100     0     0     0     0     0     0     0     2     0  1525     2]\n",
      " [   19     0     0     0     0     0     0     0     0     0    16    53]]\n"
     ]
    }
   ],
   "source": [
    "model_logistic_regression = model.model_logistic_regression(X_train_sm, y_train_sm)\n",
    "y_pred = model_logistic_regression.predict(X_test_sm)\n",
    "utils.report(y_pred,y_test_sm)"
   ]
  },
  {
   "cell_type": "code",
   "execution_count": 15,
   "id": "6505d52f",
   "metadata": {},
   "outputs": [
    {
     "name": "stdout",
     "output_type": "stream",
     "text": [
      "Classification Report:\n",
      "               precision    recall  f1-score   support\n",
      "\n",
      "           0       0.98      0.98      0.98      1585\n",
      "           1       0.97      0.98      0.97        99\n",
      "           2       1.00      1.00      1.00     18897\n",
      "           3       1.00      1.00      1.00       871\n",
      "           4       0.83      0.45      0.59        11\n",
      "           5       0.67      0.40      0.50         5\n",
      "           6       1.00      1.00      1.00       394\n",
      "           7       1.00      1.00      1.00       220\n",
      "           8       0.98      0.99      0.99       485\n",
      "           9       0.99      1.00      1.00       381\n",
      "          10       0.98      0.98      0.98      1622\n",
      "          11       0.91      0.98      0.95        54\n",
      "\n",
      "    accuracy                           1.00     24624\n",
      "   macro avg       0.94      0.90      0.91     24624\n",
      "weighted avg       1.00      1.00      1.00     24624\n",
      "\n",
      "Confusion Matrix:\n",
      " [[ 1547     2     0     1     0     1     0     0     4     2    26     2]\n",
      " [    1    97     0     0     0     0     0     0     0     0     1     0]\n",
      " [    0     0 18897     0     0     0     0     0     0     0     0     0]\n",
      " [    0     0     0   870     0     0     0     0     0     0     0     1]\n",
      " [    3     0     0     0     5     0     0     0     2     0     1     0]\n",
      " [    1     0     0     0     0     2     0     0     0     0     2     0]\n",
      " [    0     0     0     0     0     0   393     0     0     0     0     1]\n",
      " [    0     0     0     0     0     0     0   220     0     0     0     0]\n",
      " [    0     1     0     0     1     0     0     0   481     1     1     0]\n",
      " [    0     0     0     0     0     0     0     0     0   381     0     0]\n",
      " [   26     0     0     0     0     0     0     0     2     0  1593     1]\n",
      " [    0     0     0     0     0     0     0     0     0     0     1    53]]\n"
     ]
    }
   ],
   "source": [
    "model_knn = model.model_knn(X_train_sm, y_train_sm)\n",
    "y_pred = model_knn.predict(X_test_sm)\n",
    "utils.report(y_pred,y_test_sm)"
   ]
  },
  {
   "cell_type": "code",
   "execution_count": 16,
   "id": "be7bcf1e",
   "metadata": {},
   "outputs": [
    {
     "name": "stdout",
     "output_type": "stream",
     "text": [
      "Classification Report:\n",
      "               precision    recall  f1-score   support\n",
      "\n",
      "           0       0.99      0.98      0.99      1592\n",
      "           1       0.96      0.98      0.97        98\n",
      "           2       1.00      1.00      1.00     18897\n",
      "           3       1.00      1.00      1.00       873\n",
      "           4       0.83      0.83      0.83         6\n",
      "           5       0.67      1.00      0.80         2\n",
      "           6       1.00      1.00      1.00       393\n",
      "           7       1.00      1.00      1.00       220\n",
      "           8       0.99      0.99      0.99       489\n",
      "           9       0.99      1.00      1.00       381\n",
      "          10       0.99      0.99      0.99      1618\n",
      "          11       0.95      1.00      0.97        55\n",
      "\n",
      "    accuracy                           1.00     24624\n",
      "   macro avg       0.95      0.98      0.96     24624\n",
      "weighted avg       1.00      1.00      1.00     24624\n",
      "\n",
      "Confusion Matrix:\n",
      " [[ 1566     0     0     1     0     0     0     0     4     2    17     2]\n",
      " [    0    96     0     0     0     0     0     0     2     0     0     0]\n",
      " [    0     0 18897     0     0     0     0     0     0     0     0     0]\n",
      " [    0     2     0   870     0     0     0     0     0     0     0     1]\n",
      " [    0     0     0     0     5     0     0     0     1     0     0     0]\n",
      " [    0     0     0     0     0     2     0     0     0     0     0     0]\n",
      " [    0     0     0     0     0     0   393     0     0     0     0     0]\n",
      " [    0     0     0     0     0     0     0   220     0     0     0     0]\n",
      " [    1     2     0     0     1     1     0     0   482     1     1     0]\n",
      " [    0     0     0     0     0     0     0     0     0   381     0     0]\n",
      " [   11     0     0     0     0     0     0     0     0     0  1607     0]\n",
      " [    0     0     0     0     0     0     0     0     0     0     0    55]]\n"
     ]
    }
   ],
   "source": [
    "model_random_forest = model.model_random_forest(X_train_sm, y_train_sm)\n",
    "y_pred = model_random_forest.predict(X_test_sm)\n",
    "utils.report(y_pred,y_test_sm)"
   ]
  },
  {
   "cell_type": "markdown",
   "id": "ca7c14be",
   "metadata": {},
   "source": [
    "Train với dữ liệu đã giảm chiều"
   ]
  },
  {
   "cell_type": "code",
   "execution_count": null,
   "id": "a9e63ef8",
   "metadata": {},
   "outputs": [
    {
     "name": "stderr",
     "output_type": "stream",
     "text": [
      "c:\\Users\\QUIN\\Desktop\\PPNCKH\\DataProcessing.py:29: FutureWarning: \n",
      "\n",
      "Passing `palette` without assigning `hue` is deprecated and will be removed in v0.14.0. Assign the `y` variable to `hue` and set `legend=False` for the same effect.\n",
      "\n",
      "  sns.barplot(data=top_features, x='Importance', y='Feature', palette='viridis')\n"
     ]
    },
    {
     "name": "stdout",
     "output_type": "stream",
     "text": [
      "40\n"
     ]
    },
    {
     "data": {
      "image/png": "[encoded data removed]",
      "text/plain": [
       "<Figure size 1000x800 with 1 Axes>"
      ]
     },
     "metadata": {},
     "output_type": "display_data"
    }
   ],
   "source": [
    "# Xử lý dữ liệu\n",
    "list = DataProcessing.select_feature(X_train_sm, y_train_sm)\n",
    "print(len(list))"
   ]
  },
  {
   "cell_type": "code",
   "execution_count": 18,
   "id": "f201575d",
   "metadata": {},
   "outputs": [],
   "source": [
    "X_train_sm = X_train_sm[list['Feature']]"
   ]
  },
  {
   "cell_type": "code",
   "execution_count": 19,
   "id": "49f737bc",
   "metadata": {},
   "outputs": [
    {
     "name": "stdout",
     "output_type": "stream",
     "text": [
      "Các cột bị loại bỏ: ['flow_iat.avg', 'flow_iat.max', 'idle.max', 'fwd_pkts_payload.avg', 'flow_iat.std', 'fwd_init_window_size', 'bwd_header_size_tot', 'flow_pkts_payload.std', 'flow_pkts_payload.tot', 'bwd_pkts_payload.std', 'active.avg', 'bwd_pkts_payload.tot', 'bwd_subflow_bytes', 'bwd_bulk_bytes', 'bwd_subflow_pkts', 'flow_SYN_flag_count', 'fwd_pkts_payload.std', 'bwd_bulk_packets', 'flow_ACK_flag_count', 'fwd_bulk_packets', 'bwd_init_window_size', 'bwd_header_size_max', 'active.max', 'bwd_pkts_per_sec', 'flow_pkts_payload.max', 'idle.min', 'bwd_iat.avg', 'fwd_data_pkts_tot', 'flow_ECE_flag_count', 'fwd_iat.tot', 'bwd_data_pkts_tot', 'fwd_iat.std', 'fwd_pkts_payload.tot', 'proto_udp', 'active.std', 'payload_bytes_per_second', 'idle.avg', 'idle.tot', 'bwd_pkts_payload.avg', 'fwd_header_size_max', 'flow_iat.tot', 'flow_pkts_per_sec', 'fwd_header_size_tot', 'bwd_iat.std']\n"
     ]
    }
   ],
   "source": [
    "df_reduced, dropped_columns = DataProcessing.remove_highly_correlated_columns(X_train_sm[list['Feature']], threshold=0.8)"
   ]
  },
  {
   "cell_type": "code",
   "execution_count": 20,
   "id": "99e3ff51",
   "metadata": {},
   "outputs": [],
   "source": [
    "X_train_sm_dr = df_reduced\n",
    "X_test_sm_dr = X_test_sm[list['Feature']].drop(dropped_columns, axis=1)\n",
    "y_train_sm_dr = y_train_sm.copy()\n",
    "y_test_sm_dr = y_test_sm.copy()"
   ]
  },
  {
   "cell_type": "code",
   "execution_count": 21,
   "id": "6be85a44",
   "metadata": {},
   "outputs": [
    {
     "name": "stdout",
     "output_type": "stream",
     "text": [
      "Classification Report:\n",
      "               precision    recall  f1-score   support\n",
      "\n",
      "           0       0.99      0.98      0.99      1592\n",
      "           1       0.99      1.00      0.99        99\n",
      "           2       1.00      1.00      1.00     18897\n",
      "           3       1.00      1.00      1.00       871\n",
      "           4       0.83      0.83      0.83         6\n",
      "           5       0.67      1.00      0.80         2\n",
      "           6       1.00      1.00      1.00       393\n",
      "           7       1.00      1.00      1.00       220\n",
      "           8       0.99      0.99      0.99       489\n",
      "           9       0.99      1.00      1.00       381\n",
      "          10       0.99      0.99      0.99      1619\n",
      "          11       0.95      1.00      0.97        55\n",
      "\n",
      "    accuracy                           1.00     24624\n",
      "   macro avg       0.95      0.98      0.96     24624\n",
      "weighted avg       1.00      1.00      1.00     24624\n",
      "\n",
      "Confusion Matrix:\n",
      " [[ 1568     0     0     0     0     1     0     0     4     2    16     1]\n",
      " [    0    99     0     0     0     0     0     0     0     0     0     0]\n",
      " [    0     0 18897     0     0     0     0     0     0     0     0     0]\n",
      " [    0     0     0   870     0     0     0     0     0     0     0     1]\n",
      " [    0     0     0     0     5     0     0     0     1     0     0     0]\n",
      " [    0     0     0     0     0     2     0     0     0     0     0     0]\n",
      " [    0     0     0     0     0     0   393     0     0     0     0     0]\n",
      " [    0     0     0     0     0     0     0   220     0     0     0     0]\n",
      " [    1     1     0     0     1     0     0     0   484     1     1     0]\n",
      " [    0     0     0     0     0     0     0     0     0   381     0     0]\n",
      " [    9     0     0     1     0     0     0     0     0     0  1608     1]\n",
      " [    0     0     0     0     0     0     0     0     0     0     0    55]]\n"
     ]
    }
   ],
   "source": [
    "model_random_forest = model.model_random_forest(X_train_sm_dr, y_train_sm_dr)\n",
    "y_pred = model_random_forest.predict(X_test_sm_dr)\n",
    "utils.report(y_pred,y_test_sm)"
   ]
  },
  {
   "cell_type": "code",
   "execution_count": null,
   "id": "5478e387",
   "metadata": {},
   "outputs": [
    {
     "ename": "TypeError",
     "evalue": "model_mlp() missing 1 required positional argument: 'hidden_size3'",
     "output_type": "error",
     "traceback": [
      "\u001b[1;31m---------------------------------------------------------------------------\u001b[0m",
      "\u001b[1;31mTypeError\u001b[0m                                 Traceback (most recent call last)",
      "Cell \u001b[1;32mIn[22], line 1\u001b[0m\n\u001b[1;32m----> 1\u001b[0m model_mlp \u001b[38;5;241m=\u001b[39m \u001b[43mmodel\u001b[49m\u001b[38;5;241;43m.\u001b[39;49m\u001b[43mmodel_mlp\u001b[49m\u001b[43m(\u001b[49m\u001b[43mX_train_sm_dr\u001b[49m\u001b[43m,\u001b[49m\u001b[43m \u001b[49m\u001b[43my_train_sm\u001b[49m\u001b[43m,\u001b[49m\u001b[43m \u001b[49m\u001b[43minput_size\u001b[49m\u001b[38;5;241;43m=\u001b[39;49m\u001b[43mX_train_sm_dr\u001b[49m\u001b[38;5;241;43m.\u001b[39;49m\u001b[43mshape\u001b[49m\u001b[43m[\u001b[49m\u001b[38;5;241;43m1\u001b[39;49m\u001b[43m]\u001b[49m\u001b[43m,\u001b[49m\n\u001b[0;32m      2\u001b[0m \u001b[43m                  \u001b[49m\u001b[43mhidden_size1\u001b[49m\u001b[38;5;241;43m=\u001b[39;49m\u001b[38;5;241;43m128\u001b[39;49m\u001b[43m,\u001b[49m\u001b[43m \u001b[49m\u001b[43mhidden_size2\u001b[49m\u001b[38;5;241;43m=\u001b[39;49m\u001b[38;5;241;43m64\u001b[39;49m\u001b[43m,\u001b[49m\u001b[43m \u001b[49m\u001b[43moutput_size\u001b[49m\u001b[38;5;241;43m=\u001b[39;49m\u001b[38;5;241;43m12\u001b[39;49m\u001b[43m,\u001b[49m\u001b[43m \u001b[49m\u001b[43mepochs\u001b[49m\u001b[38;5;241;43m=\u001b[39;49m\u001b[38;5;241;43m10000\u001b[39;49m\u001b[43m)\u001b[49m\n",
      "\u001b[1;31mTypeError\u001b[0m: model_mlp() missing 1 required positional argument: 'hidden_size3'"
     ]
    }
   ],
   "source": [
    "model_mlp = model.model_mlp(X_train_sm_dr, y_train_sm, input_size=X_train_sm_dr.shape[1],\n",
    "                  hidden_size1=128, hidden_size2=64, output_size=12, epochs=10000)\n"
   ]
  },
  {
   "cell_type": "code",
   "execution_count": null,
   "id": "5d67135e",
   "metadata": {},
   "outputs": [
    {
     "name": "stdout",
     "output_type": "stream",
     "text": [
      "Classification Report:\n",
      "               precision    recall  f1-score   support\n",
      "\n",
      "           0       0.82      0.75      0.79      1716\n",
      "           1       0.79      0.87      0.82       375\n",
      "           2       1.00      1.00      1.00     18945\n",
      "           3       1.00      1.00      1.00       883\n",
      "           4       0.78      0.95      0.86       316\n",
      "           5       0.91      0.96      0.93       378\n",
      "           6       0.85      0.74      0.79       502\n",
      "           7       0.99      0.94      0.97       400\n",
      "           8       0.64      0.83      0.73       389\n",
      "           9       1.00      1.00      1.00       404\n",
      "          10       0.84      0.80      0.82      1685\n",
      "          11       0.62      0.92      0.75       260\n",
      "\n",
      "    accuracy                           0.96     26253\n",
      "   macro avg       0.85      0.90      0.87     26253\n",
      "weighted avg       0.96      0.96      0.96     26253\n",
      "\n",
      "Confusion Matrix:\n",
      " [[ 1293     2     0     1    67    23     0     0    28     0   242    60]\n",
      " [   42   325     0     1     0     0     0     0     0     0     2     5]\n",
      " [   13     2 18898     0    17     0     0     0     3     0    11     1]\n",
      " [    2     0     0   879     0     0     0     0     0     0     1     1]\n",
      " [   13     0     0     0   300     0     0     0     0     0     0     3]\n",
      " [    1     0     0     1     0   362     0     0     0     0     1    13]\n",
      " [    0     0     0     0     0     0   370     2   115     0     0    15]\n",
      " [   18     0     0     0     0     0     0   378     0     0     3     1]\n",
      " [    1     0     0     0     0     0    63     0   323     0     0     2]\n",
      " [    0     0     0     0     0     0     0     0     0   404     0     0]\n",
      " [  176    77     0     0     0    13     0     0    32     0  1344    43]\n",
      " [   11     7     0     0     0     0     0     0     0     0     2   240]]\n"
     ]
    }
   ],
   "source": [
    "y_pred = model.predict_mlp(model_mlp, X_test_sm_dr)\n",
    "utils.report(y_pred, y_test_sm)"
   ]
  },
  {
   "cell_type": "markdown",
   "id": "552883e6",
   "metadata": {},
   "source": [
    "Train mô hỉnh tinh chỉnh."
   ]
  },
  {
   "cell_type": "code",
   "execution_count": null,
   "id": "d16bc255",
   "metadata": {},
   "outputs": [],
   "source": [
    "# model_svc_k_linear = model.SVM(X_train, y_train , C=1.0, kernel='linear', gamma='scale')\n",
    "# model_svc_k_linear_predict = model_svc_k_linear.predict(X_test)\n",
    "# utils.report(model_svc_k_linear_predict, y_test)"
   ]
  },
  {
   "cell_type": "code",
   "execution_count": null,
   "id": "8052ecec",
   "metadata": {},
   "outputs": [],
   "source": [
    "# model_svc_k_rbf = model.SVM(X_train, y_train,C=1.0, kernel='rbf', gamma='scale')\n",
    "# model_svc_k_rbf_predict = model_svc_k_rbf.predict(X_test)\n",
    "# utils.report(model_svc_k_linear_predict, y_test)"
   ]
  },
  {
   "cell_type": "code",
   "execution_count": null,
   "id": "6e15afb1",
   "metadata": {},
   "outputs": [],
   "source": [
    "# from sklearn.ensemble import RandomForestClassifier\n",
    "# from sklearn.metrics import classification_report, confusion_matrix\n",
    "# # 👉 4. Khởi tạo và huấn luyện mô hình Random Forest\n",
    "# rf_model = RandomForestClassifier(n_estimators=100,class_weight='balanced', random_state=42)\n",
    "# rf_model.fit(X_train, y_train)\n",
    "\n",
    "# # 👉 5. Dự đoán\n",
    "# y_pred = rf_model.predict(X_test)\n",
    "\n",
    "# # 👉 6. Đánh giá\n",
    "# print(\"Classification Report:\\n\", classification_report(y_test, y_pred))\n",
    "# print(\"Confusion Matrix:\\n\", confusion_matrix(y_test, y_pred))\n"
   ]
  },
  {
   "cell_type": "code",
   "execution_count": null,
   "id": "9e0befec",
   "metadata": {},
   "outputs": [],
   "source": [
    "# print(\"Classification Report:\\n\", classification_report(y_test, y_pred))\n",
    "# print(y_test.value_counts())\n",
    "# print(\"Confusion Matrix:\\n\", confusion_matrix(y_test, y_pred))"
   ]
  },
  {
   "cell_type": "code",
   "execution_count": null,
   "id": "6deb7dc6",
   "metadata": {},
   "outputs": [],
   "source": [
    "# # kiểm tra hiệu suất\n",
    "# from sklearn.svm import SVC\n",
    "# svm = SVC(kernel='linear')\n",
    "# svm.fit(X_train[list['Feature']].drop(dropped_columns, axis=1), y_train)\n",
    "\n",
    "# X_test_selected_reduced = X_test.drop(columns=X_train[list['Feature']].drop(dropped_columns, axis=1).columns, errors='ignore')\n",
    "# accuracy = svm.score(X_test_selected_reduced, y_test)\n",
    "# print(f\"Accuracy on test set after feature reduction: {accuracy:.4f}\")"
   ]
  },
  {
   "cell_type": "code",
   "execution_count": null,
   "id": "dd626cb8",
   "metadata": {},
   "outputs": [],
   "source": [
    "# #kiểm tra nhãn dạng categorycal\n",
    "# categorical_columns = data.select_dtypes(include=['object', 'category']).columns\n",
    "# print(f\"Các cột categorical: {list(categorical_columns)}\")\n",
    "# print(f\"Số lượng cột categorical: {len(categorical_columns)}\")\n",
    "# for col in categorical_columns:\n",
    "#     print(f\"\\nCột '{col}':\")\n",
    "#     print(f\"Giá trị duy nhất: {data[col].unique()}\")\n",
    "#     print(f\"Số lượng giá trị duy nhất: {data[col].nunique()}\")\n",
    "# #kiểm tra số lượng '-'.\n",
    "# print(data['service'].value_counts()) # có ther"
   ]
  },
  {
   "cell_type": "code",
   "execution_count": null,
   "id": "24414d3f",
   "metadata": {},
   "outputs": [],
   "source": [
    "#Kiểm tra giá trị null nào không?"
   ]
  },
  {
   "cell_type": "code",
   "execution_count": null,
   "id": "6c499903",
   "metadata": {},
   "outputs": [],
   "source": [
    "#drop cột service\n",
    "# data.drop(columns=['service'], inplace=True)"
   ]
  },
  {
   "cell_type": "code",
   "execution_count": null,
   "id": "ed154ffa",
   "metadata": {},
   "outputs": [],
   "source": [
    "# # one-hot encoding cho cột categorical\n",
    "# from sklearn.preprocessing import OneHotEncoder\n",
    "\n",
    "# # 2. Tạo ví dụ DataFrame\n",
    "# df  = data\n",
    "\n",
    "# # 3. Xác định cột cần one-hot encode\n",
    "# categorical_cols = ['proto']\n",
    "\n",
    "# # 4. Khởi tạo OneHotEncoder\n",
    "# encoder = OneHotEncoder(sparse_output=False, handle_unknown='ignore')\n",
    "\n",
    "\n",
    "# # 5. Fit và transform dữ liệu\n",
    "# encoded_array = encoder.fit_transform(df[categorical_cols])\n",
    "\n",
    "# # 6. Lấy tên cột mới sau khi encode\n",
    "# encoded_col_names = encoder.get_feature_names_out(categorical_cols)\n",
    "\n",
    "# # 7. Tạo DataFrame từ mảng đã encode\n",
    "# encoded_df = pd.DataFrame(encoded_array, columns=encoded_col_names)\n",
    "\n",
    "# # 8. Bỏ các cột cũ & ghép với cột encode mới\n",
    "# df_encoded = pd.concat([\n",
    "#     df.drop(columns=categorical_cols).reset_index(drop=True),\n",
    "#     encoded_df.reset_index(drop=True)\n",
    "# ], axis=1)\n",
    "\n",
    "# # 9. In kết quả\n",
    "# data = df_encoded"
   ]
  },
  {
   "cell_type": "code",
   "execution_count": null,
   "id": "705c6a88",
   "metadata": {},
   "outputs": [],
   "source": [
    "# from sklearn.preprocessing import LabelEncoder\n",
    "# import pandas as pd\n",
    "\n",
    "# def label_encode_column(df, column_name):\n",
    "#     if column_name not in df.columns:\n",
    "#         raise ValueError(f\"Cột '{column_name}' không tồn tại trong DataFrame\")\n",
    "    \n",
    "#     encoder = LabelEncoder()\n",
    "    \n",
    "#     df[column_name] = encoder.fit_transform(df[column_name])\n",
    "    \n",
    "#     return df, encoder\n",
    "# data, encoder = label_encode_column(data, 'Attack_type')\n",
    "# print(encoder.classes_)\n"
   ]
  },
  {
   "cell_type": "code",
   "execution_count": null,
   "id": "e31e99e3",
   "metadata": {},
   "outputs": [],
   "source": [
    "# import seaborn as sns\n",
    "# import matplotlib.pyplot as plt\n",
    "# # Tính ma trận tương quan\n",
    "# corr_matrix = data.corr(numeric_only=True)\n",
    "# plt.figure(figsize=(12, 10))\n",
    "# sns.heatmap(corr_matrix, annot=False, cmap='coolwarm')\n",
    "# plt.title(\"Correlation Matrix (without Attack_type)\")\n",
    "# plt.show()\n"
   ]
  },
  {
   "cell_type": "code",
   "execution_count": null,
   "id": "ab000b07",
   "metadata": {},
   "outputs": [],
   "source": [
    "# import pandas as pd\n",
    "# def remove_highly_correlated_columns(df, threshold=0.8, target_column=None):\n",
    "#     # Tính ma trận tương quan\n",
    "#     corr_matrix = df.corr().abs()  # Lấy giá trị tuyệt đối để xem xét cả tương quan âm\n",
    "    \n",
    "#     # Tạo một tập để lưu các cột cần loại bỏ\n",
    "#     to_drop = set()\n",
    "    \n",
    "#     # Duyệt qua ma trận tương quan\n",
    "#     for i in range(len(corr_matrix.columns)):\n",
    "#         for j in range(i + 1, len(corr_matrix.columns)):\n",
    "#             if corr_matrix.iloc[i, j] >= threshold:\n",
    "#                 colname_i = corr_matrix.columns[i]\n",
    "#                 colname_j = corr_matrix.columns[j]\n",
    "                \n",
    "#                 # Không loại bỏ cột mục tiêu\n",
    "#                 if target_column and (colname_i == target_column or colname_j == target_column):\n",
    "#                     continue\n",
    "                \n",
    "#                 # Loại bỏ cột có tổng tương quan lớn hơn với các cột khác\n",
    "#                 if colname_j not in to_drop:\n",
    "#                     to_drop.add(colname_j)\n",
    "    \n",
    "#     # Loại bỏ các cột\n",
    "#     df_reduced = df.drop(columns=to_drop)\n",
    "#     dropped_columns = list(to_drop)\n",
    "    \n",
    "#     print(f\"Các cột bị loại bỏ: {dropped_columns}\")\n",
    "    \n",
    "#     return df_reduced, dropped_columns\n",
    "# df_reduced, dropped_columns = remove_highly_correlated_columns(data, threshold=0.8, target_column='attack_type')\n",
    "    \n",
    "# print(\"\\nDataFrame sau khi loại bỏ:\")\n",
    "# print(df_reduced)\n",
    "# print(\"\\nDanh sách các cột bị loại bỏ:\")\n",
    "# print(dropped_columns)\n"
   ]
  },
  {
   "cell_type": "code",
   "execution_count": null,
   "id": "4e8bbbfb",
   "metadata": {},
   "outputs": [],
   "source": [
    "# import seaborn as sns\n",
    "# import matplotlib.pyplot as plt\n",
    "# # Tính ma trận tương quan\n",
    "# corr_matrix = df_reduced.corr(numeric_only=True)\n",
    "# plt.figure(figsize=(12, 10))\n",
    "# sns.heatmap(corr_matrix, annot=False, cmap='coolwarm')\n",
    "# plt.title(\"Correlation Matrix (without Attack_type)\")\n",
    "# plt.show()"
   ]
  },
  {
   "cell_type": "code",
   "execution_count": null,
   "id": "5e3abc6a",
   "metadata": {},
   "outputs": [],
   "source": [
    "# # Vẽ biểu đồ phân phối nhãn\n",
    "# plt.figure(figsize=(10, 6))\n",
    "# print(data['Attack_type'].value_counts())\n",
    "# data['Attack_type'].value_counts().plot(kind='bar')\n",
    "# plt.title('Phân phối các lớp trong RT-IoT2022')\n",
    "# plt.xlabel('Nhãn')\n",
    "# plt.ylabel('Số lượng')\n",
    "# plt.xticks(rotation=45)\n",
    "# plt.show()"
   ]
  },
  {
   "cell_type": "code",
   "execution_count": null,
   "id": "470d2656",
   "metadata": {},
   "outputs": [],
   "source": [
    "# # Kiểm tra giá trị thiếu\n",
    "# print(\"\\nGiá trị thiếu:\")\n",
    "# print(data.isnull().sum())"
   ]
  },
  {
   "cell_type": "code",
   "execution_count": null,
   "id": "c8033b89",
   "metadata": {},
   "outputs": [],
   "source": [
    "# # 2. Xử lý dữ liệu\n",
    "# # 2.1. Xử lý giá trị thiếu\n",
    "# numeric_columns = data.select_dtypes(include=['float64', 'int64']).columns\n",
    "# data[numeric_columns] = data[numeric_columns].fillna(data[numeric_columns].mean())\n",
    "# print(\"\\nGiá trị thiếu sau khi xử lý:\")\n",
    "# print(data.isnull().sum())\n",
    "\n",
    "# # 2.2. Chuẩn hóa đặc trưng\n",
    "# X = data.drop('Attack_type', axis=1)\n",
    "# y = data['Attack_type']\n",
    "# scaler = StandardScaler()\n",
    "# X_scaled = scaler.fit_transform(X)\n",
    "# X_scaled = pd.DataFrame(X_scaled, columns=X.columns)"
   ]
  },
  {
   "cell_type": "code",
   "execution_count": null,
   "id": "4917304a",
   "metadata": {},
   "outputs": [],
   "source": [
    "\n",
    "# # 2.3. Mã hóa nhãn\n",
    "# encoder = LabelEncoder()\n",
    "# y_encoded = encoder.fit_transform(y)\n",
    "# print(\"\\nÁnh xạ nhãn:\")\n",
    "# for label, encoded in zip(encoder.classes_, range(len(encoder.classes_))):\n",
    "#     print(f\"{label}: {encoded}\")"
   ]
  },
  {
   "cell_type": "code",
   "execution_count": null,
   "id": "a80fd57d",
   "metadata": {},
   "outputs": [],
   "source": [
    "\n",
    "# # 2.4. Xử lý mất cân bằng lớp\n",
    "# smote = SMOTE(random_state=42)\n",
    "# X_balanced, y_balanced = smote.fit_resample(X_scaled, y_encoded)\n",
    "# print(\"\\nPhân phối nhãn sau khi cân bằng:\")\n",
    "# balanced_labels = pd.Series(y_balanced).value_counts()\n",
    "# for label, count in zip(encoder.classes_, balanced_labels):\n",
    "#     print(f\"{label}: {count}\")\n",
    "\n",
    "# # Vẽ biểu đồ phân phối nhãn sau SMOTE\n",
    "# plt.figure(figsize=(10, 6))\n",
    "# pd.Series(y_balanced).value_counts().plot(kind='bar')\n",
    "# plt.title('Phân phối các lớp sau SMOTE')\n",
    "# plt.xlabel('Nhãn (mã hóa)')\n",
    "# plt.ylabel('Số lượng')\n",
    "# plt.xticks(ticks=range(len(encoder.classes_)), labels=encoder.classes_, rotation=45)\n",
    "# plt.show()"
   ]
  },
  {
   "cell_type": "code",
   "execution_count": null,
   "id": "29397913",
   "metadata": {},
   "outputs": [],
   "source": [
    "# # 3. Chia dữ liệu\n",
    "# X_train, X_test, y_train, y_test = train_test_split(\n",
    "#     X_balanced, y_balanced, test_size=0.2, random_state=42, stratify=y_balanced\n",
    "# )\n",
    "# print(\"\\nKích thước tập huấn luyện:\", X_train.shape, y_train.shape)\n",
    "# print(\"Kích thước tập kiểm tra:\", X_test.shape, y_test.shape)\n",
    "# print(\"\\nPhân phối nhãn trong tập huấn luyện:\")\n",
    "# print(pd.Series(y_train).value_counts())\n",
    "# print(\"\\nPhân phối nhãn trong tập kiểm tra:\")\n",
    "# print(pd.Series(y_test).value_counts())"
   ]
  }
 ],
 "metadata": {
  "kernelspec": {
   "display_name": "PPNKCH",
   "language": "python",
   "name": "python3"
  },
  "language_info": {
   "codemirror_mode": {
    "name": "ipython",
    "version": 3
   },
   "file_extension": ".py",
   "mimetype": "text/x-python",
   "name": "python",
   "nbconvert_exporter": "python",
   "pygments_lexer": "ipython3",
   "version": "3.10.16"
  }
 },
 "nbformat": 4,
 "nbformat_minor": 5
}
