{
 "cells": [
  {
   "cell_type": "code",
   "execution_count": 1,
   "id": "f48799a8",
   "metadata": {},
   "outputs": [
    {
     "name": "stderr",
     "output_type": "stream",
     "text": [
      "c:\\Users\\QUIN\\anaconda3\\envs\\PPNKCH\\lib\\site-packages\\tqdm\\auto.py:21: TqdmWarning: IProgress not found. Please update jupyter and ipywidgets. See https://ipywidgets.readthedocs.io/en/stable/user_install.html\n",
      "  from .autonotebook import tqdm as notebook_tqdm\n"
     ]
    }
   ],
   "source": [
    "import pandas as pd\n",
    "import matplotlib.pyplot as plt\n",
    "import seaborn as sns\n",
    "from sklearn.preprocessing import StandardScaler, LabelEncoder\n",
    "from imblearn.over_sampling import SMOTE\n",
    "from sklearn.model_selection import train_test_split\n",
    "import Preprocessing\n",
    "import DataProcessing\n",
    "import model\n",
    "import utils\n",
    "data = Preprocessing.load_data('data/rt_iot2022', target_col='Attack_type')"
   ]
  },
  {
   "cell_type": "code",
   "execution_count": 2,
   "id": "181808aa",
   "metadata": {},
   "outputs": [
    {
     "name": "stdout",
     "output_type": "stream",
     "text": [
      "proto\n",
      "service\n",
      "Attack_type\n"
     ]
    }
   ],
   "source": [
    "Preprocessing.check_types(data,\"object\")"
   ]
  },
  {
   "cell_type": "code",
   "execution_count": 3,
   "id": "f5fcbf40",
   "metadata": {},
   "outputs": [
    {
     "name": "stdout",
     "output_type": "stream",
     "text": [
      "   id.orig_p  id.resp_p  flow_duration  fwd_pkts_tot  bwd_pkts_tot  \\\n",
      "0      38667       1883      32.011598             9             5   \n",
      "1      51143       1883      31.883584             9             5   \n",
      "2      44761       1883      32.124053             9             5   \n",
      "3      60893       1883      31.961063             9             5   \n",
      "4      51087       1883      31.902362             9             5   \n",
      "\n",
      "   fwd_data_pkts_tot  bwd_data_pkts_tot  fwd_pkts_per_sec  bwd_pkts_per_sec  \\\n",
      "0                  3                  3          0.281148          0.156193   \n",
      "1                  3                  3          0.282277          0.156821   \n",
      "2                  3                  3          0.280164          0.155647   \n",
      "3                  3                  3          0.281593          0.156440   \n",
      "4                  3                  3          0.282111          0.156728   \n",
      "\n",
      "   flow_pkts_per_sec  ...      idle.max      idle.tot      idle.avg  idle.std  \\\n",
      "0           0.437341  ...  2.972918e+07  2.972918e+07  2.972918e+07       0.0   \n",
      "1           0.439097  ...  2.985528e+07  2.985528e+07  2.985528e+07       0.0   \n",
      "2           0.435811  ...  2.984215e+07  2.984215e+07  2.984215e+07       0.0   \n",
      "3           0.438033  ...  2.991377e+07  2.991377e+07  2.991377e+07       0.0   \n",
      "4           0.438839  ...  2.981470e+07  2.981470e+07  2.981470e+07       0.0   \n",
      "\n",
      "   fwd_init_window_size  bwd_init_window_size  fwd_last_window_size  \\\n",
      "0                 64240                 26847                   502   \n",
      "1                 64240                 26847                   502   \n",
      "2                 64240                 26847                   502   \n",
      "3                 64240                 26847                   502   \n",
      "4                 64240                 26847                   502   \n",
      "\n",
      "   Attack_type  proto_tcp  proto_udp  \n",
      "0            3       True      False  \n",
      "1            3       True      False  \n",
      "2            3       True      False  \n",
      "3            3       True      False  \n",
      "4            3       True      False  \n",
      "\n",
      "[5 rows x 84 columns]\n"
     ]
    }
   ],
   "source": [
    "data = Preprocessing.delete_columns(data, [\"Unnamed: 0\",'service'])\n",
    "data = data.loc[:, data.columns.notna()]\n",
    "data = Preprocessing.one_hot_encode(data, ['proto'])\n",
    "data = Preprocessing.label_encode(data, ['Attack_type'])\n",
    "print(data.head(5))"
   ]
  },
  {
   "cell_type": "code",
   "execution_count": 4,
   "id": "bbabd20e",
   "metadata": {},
   "outputs": [
    {
     "name": "stdout",
     "output_type": "stream",
     "text": [
      "Các cột không phải kiểu số:\n",
      "['proto_tcp', 'proto_udp']\n"
     ]
    }
   ],
   "source": [
    "# Tìm các cột không phải là số (numeric)\n",
    "non_numeric_cols = data.select_dtypes(exclude=[\"number\"]).columns.tolist()\n",
    "print(\"Các cột không phải kiểu số:\")\n",
    "print(non_numeric_cols)\n"
   ]
  },
  {
   "cell_type": "code",
   "execution_count": 5,
   "id": "f016b4de",
   "metadata": {},
   "outputs": [],
   "source": [
    "#Tách cột target ra khỏi dữ liệu\n",
    "X, y = data.drop('Attack_type', axis=1), data['Attack_type']\n",
    "X,_ = Preprocessing.scale_data(X)\n",
    "# X_balanced, y_balanced = Preprocessing.apply_smote(X, y)\n",
    "X_train, X_test, y_train, y_test = train_test_split(X,y, test_size=0.2, random_state=42)"
   ]
  },
  {
   "cell_type": "code",
   "execution_count": 6,
   "id": "41d535b4",
   "metadata": {},
   "outputs": [],
   "source": [
    "#chưa áp dụng smotesmote\n",
    "X_train_nsm, X_test_nsm, y_train_nsm, y_test_nsm = train_test_split(X,y, test_size=0.2, random_state=42)\n",
    "\n",
    "#áp dụng smote\n",
    "X_train_sm, X_test_sm, y_train_sm, y_test_sm = train_test_split(X, y, test_size=0.2, random_state=42)\n",
    "X_train_sm, y_train_sm = Preprocessing.apply_smote(X_train_sm, y_train_sm)"
   ]
  },
  {
   "cell_type": "code",
   "execution_count": 7,
   "id": "ed2c3bea",
   "metadata": {},
   "outputs": [
    {
     "name": "stdout",
     "output_type": "stream",
     "text": [
      "id.orig_p               99808\n",
      "id.resp_p               99808\n",
      "flow_duration           99808\n",
      "fwd_pkts_tot            99808\n",
      "bwd_pkts_tot            99808\n",
      "                        ...  \n",
      "fwd_init_window_size    99808\n",
      "bwd_init_window_size    99808\n",
      "fwd_last_window_size    99808\n",
      "proto_tcp               99808\n",
      "proto_udp               99808\n",
      "Length: 83, dtype: int64\n",
      "id.orig_p               24624\n",
      "id.resp_p               24624\n",
      "flow_duration           24624\n",
      "fwd_pkts_tot            24624\n",
      "bwd_pkts_tot            24624\n",
      "                        ...  \n",
      "fwd_init_window_size    24624\n",
      "bwd_init_window_size    24624\n",
      "fwd_last_window_size    24624\n",
      "proto_tcp               24624\n",
      "proto_udp               24624\n",
      "Length: 83, dtype: int64\n"
     ]
    }
   ],
   "source": [
    "print(X_train_sm.count())\n",
    "print(X_test_sm.count())"
   ]
  },
  {
   "cell_type": "code",
   "execution_count": 8,
   "id": "c4d524dd",
   "metadata": {},
   "outputs": [],
   "source": [
    "# Preprocessing.plot_heatmap(X_train_sm[list['Feature']], y_train_sm,'Attack_type')"
   ]
  },
  {
   "cell_type": "code",
   "execution_count": 9,
   "id": "60dead21",
   "metadata": {},
   "outputs": [],
   "source": [
    "# Preprocessing.plot_heatmap(X_train[list['Feature']].drop(dropped_columns, axis=1), y_train,'Attack_type')"
   ]
  },
  {
   "cell_type": "markdown",
   "id": "5953c370",
   "metadata": {},
   "source": [
    "Train với dữ liệu chưa giảm chiều"
   ]
  },
  {
   "cell_type": "code",
   "execution_count": 10,
   "id": "6bf9bc5a",
   "metadata": {},
   "outputs": [],
   "source": [
    "# x2 = X_train[list['Feature']].drop(dropped_columns, axis=1)"
   ]
  },
  {
   "cell_type": "code",
   "execution_count": 11,
   "id": "a3b6f1a7",
   "metadata": {},
   "outputs": [],
   "source": [
    "# print(len(X_train.columns))"
   ]
  },
  {
   "cell_type": "code",
   "execution_count": null,
   "id": "e906be4b",
   "metadata": {},
   "outputs": [],
   "source": [
    "model_LinearSVC = model.model_LinearSVC(X_train_sm, y_train_sm)\n",
    "y_pred = model_LinearSVC.predict(X_test_sm)\n",
    "utils.report(y_pred,y_test_sm)"
   ]
  },
  {
   "cell_type": "code",
   "execution_count": null,
   "id": "4c301539",
   "metadata": {},
   "outputs": [],
   "source": [
    "model_xgboost = model.model_xgboost(X_train_sm, y_train_sm,12)\n",
    "y_pred = model_xgboost.predict(X_test_sm)\n",
    "utils.report(y_pred,y_test_sm)"
   ]
  },
  {
   "cell_type": "code",
   "execution_count": null,
   "id": "2613aea3",
   "metadata": {},
   "outputs": [],
   "source": [
    "model_logistic_regression = model.model_logistic_regression(X_train_sm, y_train_sm)\n",
    "y_pred = model_logistic_regression.predict(X_test_sm)\n",
    "utils.report(y_pred,y_test_sm)"
   ]
  },
  {
   "cell_type": "code",
   "execution_count": null,
   "id": "6505d52f",
   "metadata": {},
   "outputs": [],
   "source": [
    "model_knn = model.model_knn(X_train_sm, y_train_sm)\n",
    "y_pred = model_knn.predict(X_test_sm)\n",
    "utils.report(y_pred,y_test_sm)"
   ]
  },
  {
   "cell_type": "code",
   "execution_count": null,
   "id": "be7bcf1e",
   "metadata": {},
   "outputs": [],
   "source": [
    "model_random_forest = model.model_random_forest(X_train_sm, y_train_sm)\n",
    "y_pred = model_random_forest.predict(X_test_sm)\n",
    "utils.report(y_pred,y_test_sm)"
   ]
  },
  {
   "cell_type": "code",
   "execution_count": null,
   "id": "d647b747",
   "metadata": {},
   "outputs": [],
   "source": [
    "model_mlp = model.model_mlp(X_train_sm, y_train_sm, input_size=X_train_sm.shape[1],\n",
    "                  hidden_size1=128, hidden_size2=64, output_size=12, epochs=1000)\n",
    "y_pred = model.predict_mlp(model_mlp, X_test_sm)\n",
    "utils.report(y_pred, y_test_sm)"
   ]
  },
  {
   "cell_type": "markdown",
   "id": "ca7c14be",
   "metadata": {},
   "source": [
    "Train với dữ liệu đã giảm chiều"
   ]
  },
  {
   "cell_type": "code",
   "execution_count": null,
   "id": "a9e63ef8",
   "metadata": {},
   "outputs": [],
   "source": [
    "# Xử lý dữ liệu\n",
    "list = DataProcessing.select_feature(X_train_sm, y_train_sm)\n",
    "print(len(list))"
   ]
  },
  {
   "cell_type": "code",
   "execution_count": null,
   "id": "f201575d",
   "metadata": {},
   "outputs": [],
   "source": [
    "X_train_sm = X_train_sm[list['Feature']]\n",
    "df_reduced, dropped_columns = DataProcessing.remove_highly_correlated_columns(X_train_sm[list['Feature']], threshold=0.8)"
   ]
  },
  {
   "cell_type": "code",
   "execution_count": null,
   "id": "99e3ff51",
   "metadata": {},
   "outputs": [],
   "source": [
    "X_train_sm_dr = df_reduced\n",
    "X_test_sm_dr = X_test_sm[list['Feature']].drop(dropped_columns, axis=1)\n",
    "y_train_sm_dr = y_train_sm.copy()\n",
    "y_test_sm_dr = y_test_sm.copy()"
   ]
  },
  {
   "cell_type": "code",
   "execution_count": null,
   "id": "bd541e96",
   "metadata": {},
   "outputs": [],
   "source": [
    "model_LinearSVC_dr = model.model_LinearSVC(X_train_sm_dr, y_train_sm_dr)\n",
    "y_pred_dr = model_LinearSVC_dr.predict(X_test_sm_dr)\n",
    "utils.report(y_pred_dr,y_test_sm_dr)"
   ]
  },
  {
   "cell_type": "code",
   "execution_count": null,
   "id": "ef3d8788",
   "metadata": {},
   "outputs": [],
   "source": [
    "model_xgboost_dr = model.model_xgboost(X_train_sm_dr, y_train_sm_dr,12)\n",
    "y_pred_dr = model_xgboost_dr.predict(X_test_sm_dr)\n",
    "utils.report(y_pred_dr,y_test_sm_dr)"
   ]
  },
  {
   "cell_type": "code",
   "execution_count": null,
   "id": "44477c4a",
   "metadata": {},
   "outputs": [],
   "source": [
    "model_logistic_regression_dr = model.model_logistic_regression(X_train_sm_dr, y_train_sm_dr)\n",
    "y_pred_dr = model_logistic_regression_dr.predict(X_test_sm_dr)\n",
    "utils.report(y_pred_dr,y_test_sm_dr)"
   ]
  },
  {
   "cell_type": "code",
   "execution_count": null,
   "id": "48fffdfc",
   "metadata": {},
   "outputs": [],
   "source": [
    "model_knn_dr = model.model_knn(X_train_sm_dr, y_train_sm_dr)\n",
    "y_pred_dr = model_knn_dr.predict(X_test_sm_dr)\n",
    "utils.report(y_pred_dr,y_test_sm_dr)"
   ]
  },
  {
   "cell_type": "code",
   "execution_count": null,
   "id": "6be85a44",
   "metadata": {},
   "outputs": [],
   "source": [
    "model_random_forest_dr = model.model_random_forest(X_train_sm_dr, y_train_sm_dr)\n",
    "y_pred_dr = model_random_forest_dr.predict(X_test_sm_dr)\n",
    "utils.report(y_pred_dr,y_test_sm_dr)"
   ]
  },
  {
   "cell_type": "code",
   "execution_count": null,
   "id": "5478e387",
   "metadata": {},
   "outputs": [],
   "source": [
    "model_mlp_dr = model.model_mlp(X_train_sm_dr, y_train_sm_dr, input_size=X_train_sm_dr.shape[1],\n",
    "                  hidden_size1=128, hidden_size2=64, output_size=12, epochs=1000)\n",
    "y_pred_dr = model.predict_mlp(model_mlp_dr, X_test_sm_dr)\n",
    "utils.report(y_pred_dr, y_test_sm)\n"
   ]
  },
  {
   "cell_type": "markdown",
   "id": "552883e6",
   "metadata": {},
   "source": [
    "Train mô hỉnh tinh chỉnh."
   ]
  },
  {
   "cell_type": "code",
   "execution_count": null,
   "id": "7d3671bb",
   "metadata": {},
   "outputs": [],
   "source": []
  }
 ],
 "metadata": {
  "kernelspec": {
   "display_name": "PPNKCH",
   "language": "python",
   "name": "python3"
  },
  "language_info": {
   "codemirror_mode": {
    "name": "ipython",
    "version": 3
   },
   "file_extension": ".py",
   "mimetype": "text/x-python",
   "name": "python",
   "nbconvert_exporter": "python",
   "pygments_lexer": "ipython3",
   "version": "3.10.16"
  }
 },
 "nbformat": 4,
 "nbformat_minor": 5
}
