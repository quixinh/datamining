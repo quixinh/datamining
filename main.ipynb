{
 "cells": [
  {
   "cell_type": "code",
   "execution_count": 1,
   "id": "f48799a8",
   "metadata": {},
   "outputs": [
    {
     "name": "stderr",
     "output_type": "stream",
     "text": [
      "c:\\Users\\QUIN\\anaconda3\\envs\\PPNKCH\\lib\\site-packages\\tqdm\\auto.py:21: TqdmWarning: IProgress not found. Please update jupyter and ipywidgets. See https://ipywidgets.readthedocs.io/en/stable/user_install.html\n",
      "  from .autonotebook import tqdm as notebook_tqdm\n"
     ]
    }
   ],
   "source": [
    "import pandas as pd\n",
    "import matplotlib.pyplot as plt\n",
    "import seaborn as sns\n",
    "from sklearn.preprocessing import StandardScaler, LabelEncoder\n",
    "from imblearn.over_sampling import SMOTE\n",
    "from sklearn.model_selection import train_test_split\n",
    "import Preprocessing\n",
    "import DataProcessing\n",
    "import model\n",
    "import numpy as np\n",
    "import utils\n",
    "data = Preprocessing.load_data('data/rt_iot2022', target_col='Attack_type')"
   ]
  },
  {
   "cell_type": "code",
   "execution_count": 2,
   "id": "181808aa",
   "metadata": {},
   "outputs": [
    {
     "name": "stdout",
     "output_type": "stream",
     "text": [
      "proto\n",
      "service\n",
      "Attack_type\n"
     ]
    }
   ],
   "source": [
    "Preprocessing.check_types(data,\"object\")"
   ]
  },
  {
   "cell_type": "code",
   "execution_count": 3,
   "id": "f5fcbf40",
   "metadata": {},
   "outputs": [
    {
     "name": "stdout",
     "output_type": "stream",
     "text": [
      "   id.orig_p  id.resp_p  flow_duration  fwd_pkts_tot  bwd_pkts_tot  \\\n",
      "0      38667       1883      32.011598             9             5   \n",
      "1      51143       1883      31.883584             9             5   \n",
      "2      44761       1883      32.124053             9             5   \n",
      "3      60893       1883      31.961063             9             5   \n",
      "4      51087       1883      31.902362             9             5   \n",
      "\n",
      "   fwd_data_pkts_tot  bwd_data_pkts_tot  fwd_pkts_per_sec  bwd_pkts_per_sec  \\\n",
      "0                  3                  3          0.281148          0.156193   \n",
      "1                  3                  3          0.282277          0.156821   \n",
      "2                  3                  3          0.280164          0.155647   \n",
      "3                  3                  3          0.281593          0.156440   \n",
      "4                  3                  3          0.282111          0.156728   \n",
      "\n",
      "   flow_pkts_per_sec  ...      idle.max      idle.tot      idle.avg  idle.std  \\\n",
      "0           0.437341  ...  2.972918e+07  2.972918e+07  2.972918e+07       0.0   \n",
      "1           0.439097  ...  2.985528e+07  2.985528e+07  2.985528e+07       0.0   \n",
      "2           0.435811  ...  2.984215e+07  2.984215e+07  2.984215e+07       0.0   \n",
      "3           0.438033  ...  2.991377e+07  2.991377e+07  2.991377e+07       0.0   \n",
      "4           0.438839  ...  2.981470e+07  2.981470e+07  2.981470e+07       0.0   \n",
      "\n",
      "   fwd_init_window_size  bwd_init_window_size  fwd_last_window_size  \\\n",
      "0                 64240                 26847                   502   \n",
      "1                 64240                 26847                   502   \n",
      "2                 64240                 26847                   502   \n",
      "3                 64240                 26847                   502   \n",
      "4                 64240                 26847                   502   \n",
      "\n",
      "   Attack_type  proto_tcp  proto_udp  \n",
      "0            3       True      False  \n",
      "1            3       True      False  \n",
      "2            3       True      False  \n",
      "3            3       True      False  \n",
      "4            3       True      False  \n",
      "\n",
      "[5 rows x 84 columns]\n"
     ]
    }
   ],
   "source": [
    "data = Preprocessing.delete_columns(data, [\"Unnamed: 0\",'service'])\n",
    "data = data.loc[:, data.columns.notna()]\n",
    "data = Preprocessing.one_hot_encode(data, ['proto'])\n",
    "data = Preprocessing.label_encode(data, ['Attack_type'])\n",
    "print(data.head(5))"
   ]
  },
  {
   "cell_type": "code",
   "execution_count": 4,
   "id": "bbabd20e",
   "metadata": {},
   "outputs": [
    {
     "name": "stdout",
     "output_type": "stream",
     "text": [
      "Các cột không phải kiểu số:\n",
      "['proto_tcp', 'proto_udp']\n"
     ]
    }
   ],
   "source": [
    "# Tìm các cột không phải là số (numeric)\n",
    "non_numeric_cols = data.select_dtypes(exclude=[\"number\"]).columns.tolist()\n",
    "print(\"Các cột không phải kiểu số:\")\n",
    "print(non_numeric_cols)\n"
   ]
  },
  {
   "cell_type": "code",
   "execution_count": 5,
   "id": "f016b4de",
   "metadata": {},
   "outputs": [],
   "source": [
    "#Tách cột target ra khỏi dữ liệu\n",
    "X, y = data.drop('Attack_type', axis=1), data['Attack_type']\n",
    "X,_ = Preprocessing.scale_data(X)\n",
    "# X_balanced, y_balanced = Preprocessing.apply_smote(X, y)\n",
    "X_train, X_test, y_train, y_test = train_test_split(X,y, test_size=0.2, random_state=42)"
   ]
  },
  {
   "cell_type": "code",
   "execution_count": 6,
   "id": "41d535b4",
   "metadata": {},
   "outputs": [],
   "source": [
    "#chưa áp dụng smotesmote\n",
    "X_train_nsm, X_test_nsm, y_train_nsm, y_test_nsm = train_test_split(X,y, test_size=0.2, random_state=42)\n",
    "\n",
    "#áp dụng smote\n",
    "X_train_sm, X_test_sm, y_train_sm, y_test_sm = train_test_split(X, y, test_size=0.2, random_state=42)\n",
    "X_train_sm, y_train_sm = Preprocessing.apply_smote(X_train_sm, y_train_sm)"
   ]
  },
  {
   "cell_type": "code",
   "execution_count": 7,
   "id": "c4d524dd",
   "metadata": {},
   "outputs": [],
   "source": [
    "# Preprocessing.plot_heatmap(X_train_sm[list['Feature']], y_train_sm,'Attack_type')"
   ]
  },
  {
   "cell_type": "code",
   "execution_count": 8,
   "id": "60dead21",
   "metadata": {},
   "outputs": [],
   "source": [
    "# Preprocessing.plot_heatmap(X_train[list['Feature']].drop(dropped_columns, axis=1), y_train,'Attack_type')"
   ]
  },
  {
   "cell_type": "markdown",
   "id": "5953c370",
   "metadata": {},
   "source": [
    "Train với dữ liệu chưa giảm chiều"
   ]
  },
  {
   "cell_type": "code",
   "execution_count": 9,
   "id": "6bf9bc5a",
   "metadata": {},
   "outputs": [],
   "source": [
    "# x2 = X_train[list['Feature']].drop(dropped_columns, axis=1)"
   ]
  },
  {
   "cell_type": "code",
   "execution_count": 10,
   "id": "a3b6f1a7",
   "metadata": {},
   "outputs": [],
   "source": [
    "# print(len(X_train.columns))"
   ]
  },
  {
   "cell_type": "code",
   "execution_count": 11,
   "id": "e906be4b",
   "metadata": {},
   "outputs": [
    {
     "name": "stdout",
     "output_type": "stream",
     "text": [
      "Classification Report:\n",
      "               precision    recall  f1-score   support\n",
      "\n",
      "           0       0.89      0.94      0.91      1500\n",
      "           1       0.99      0.77      0.87       128\n",
      "           2       1.00      1.00      1.00     18898\n",
      "           3       1.00      1.00      1.00       870\n",
      "           4       0.67      0.18      0.29        22\n",
      "           5       0.67      0.40      0.50         5\n",
      "           6       1.00      0.99      0.99       397\n",
      "           7       1.00      1.00      1.00       220\n",
      "           8       0.85      0.97      0.91       429\n",
      "           9       0.99      0.99      0.99       386\n",
      "          10       0.95      0.92      0.94      1686\n",
      "          11       0.84      0.59      0.70        83\n",
      "\n",
      "    accuracy                           0.99     24624\n",
      "   macro avg       0.90      0.81      0.84     24624\n",
      "weighted avg       0.99      0.99      0.99     24624\n",
      "\n",
      "Confusion Matrix:\n",
      " [[ 1406     1     0     2     2     1     0     0    45     3    39     1]\n",
      " [    4    99     0     0     0     0     0     0    25     0     0     0]\n",
      " [    0     0 18897     0     0     0     0     0     0     0     0     1]\n",
      " [    1     0     0   869     0     0     0     0     0     0     0     0]\n",
      " [   11     0     0     0     4     0     0     0     0     0     6     1]\n",
      " [    1     0     0     0     0     2     0     0     0     0     2     0]\n",
      " [    3     0     0     0     0     0   393     0     0     0     0     1]\n",
      " [    0     0     0     0     0     0     0   220     0     0     0     0]\n",
      " [    2     0     0     0     0     0     0     0   417     0    10     0]\n",
      " [    0     0     0     0     0     0     0     0     0   381     2     3]\n",
      " [  133     0     0     0     0     0     0     0     2     0  1549     2]\n",
      " [   17     0     0     0     0     0     0     0     0     0    17    49]]\n"
     ]
    },
    {
     "name": "stderr",
     "output_type": "stream",
     "text": [
      "c:\\Users\\QUIN\\anaconda3\\envs\\PPNKCH\\lib\\site-packages\\sklearn\\svm\\_base.py:1249: ConvergenceWarning: Liblinear failed to converge, increase the number of iterations.\n",
      "  warnings.warn(\n"
     ]
    }
   ],
   "source": [
    "model_LinearSVC = model.model_LinearSVC(X_train_sm, y_train_sm)\n",
    "y_pred = model_LinearSVC.predict(X_test_sm)\n",
    "utils.report(y_pred,y_test_sm)"
   ]
  },
  {
   "cell_type": "code",
   "execution_count": 12,
   "id": "4c301539",
   "metadata": {},
   "outputs": [
    {
     "name": "stderr",
     "output_type": "stream",
     "text": [
      "c:\\Users\\QUIN\\anaconda3\\envs\\PPNKCH\\lib\\site-packages\\xgboost\\training.py:183: UserWarning: [09:19:50] WARNING: C:\\actions-runner\\_work\\xgboost\\xgboost\\src\\learner.cc:738: \n",
      "Parameters: { \"use_label_encoder\" } are not used.\n",
      "\n",
      "  bst.update(dtrain, iteration=i, fobj=obj)\n"
     ]
    },
    {
     "name": "stdout",
     "output_type": "stream",
     "text": [
      "Classification Report:\n",
      "               precision    recall  f1-score   support\n",
      "\n",
      "           0       0.99      0.99      0.99      1588\n",
      "           1       1.00      1.00      1.00       100\n",
      "           2       1.00      1.00      1.00     18898\n",
      "           3       1.00      1.00      1.00       870\n",
      "           4       0.83      0.83      0.83         6\n",
      "           5       0.67      0.67      0.67         3\n",
      "           6       1.00      1.00      1.00       393\n",
      "           7       1.00      1.00      1.00       220\n",
      "           8       0.99      1.00      0.99       485\n",
      "           9       0.99      1.00      1.00       381\n",
      "          10       0.99      0.99      0.99      1624\n",
      "          11       0.97      1.00      0.98        56\n",
      "\n",
      "    accuracy                           1.00     24624\n",
      "   macro avg       0.95      0.96      0.95     24624\n",
      "weighted avg       1.00      1.00      1.00     24624\n",
      "\n",
      "Confusion Matrix:\n",
      " [[ 1569     0     0     0     0     1     0     0     3     2    12     1]\n",
      " [    0   100     0     0     0     0     0     0     0     0     0     0]\n",
      " [    0     0 18897     0     0     0     0     0     0     0     0     1]\n",
      " [    0     0     0   870     0     0     0     0     0     0     0     0]\n",
      " [    0     0     0     0     5     0     0     0     1     0     0     0]\n",
      " [    0     0     0     0     0     2     0     0     0     0     1     0]\n",
      " [    0     0     0     0     0     0   393     0     0     0     0     0]\n",
      " [    0     0     0     0     0     0     0   220     0     0     0     0]\n",
      " [    0     0     0     0     1     0     0     0   483     1     0     0]\n",
      " [    0     0     0     0     0     0     0     0     0   381     0     0]\n",
      " [    9     0     0     1     0     0     0     0     2     0  1612     0]\n",
      " [    0     0     0     0     0     0     0     0     0     0     0    56]]\n"
     ]
    }
   ],
   "source": [
    "model_xgboost = model.model_xgboost(X_train_sm, y_train_sm,12)\n",
    "y_pred = model_xgboost.predict(X_test_sm)\n",
    "utils.report(y_pred,y_test_sm)"
   ]
  },
  {
   "cell_type": "code",
   "execution_count": 13,
   "id": "2613aea3",
   "metadata": {},
   "outputs": [
    {
     "name": "stderr",
     "output_type": "stream",
     "text": [
      "c:\\Users\\QUIN\\anaconda3\\envs\\PPNKCH\\lib\\site-packages\\sklearn\\linear_model\\_logistic.py:1247: FutureWarning: 'multi_class' was deprecated in version 1.5 and will be removed in 1.7. From then on, it will always use 'multinomial'. Leave it to its default value to avoid this warning.\n",
      "  warnings.warn(\n"
     ]
    },
    {
     "name": "stdout",
     "output_type": "stream",
     "text": [
      "Classification Report:\n",
      "               precision    recall  f1-score   support\n",
      "\n",
      "           0       0.86      0.94      0.90      1440\n",
      "           1       0.99      0.73      0.84       135\n",
      "           2       1.00      1.00      1.00     18897\n",
      "           3       1.00      0.99      1.00       877\n",
      "           4       0.83      0.09      0.16        56\n",
      "           5       0.67      0.40      0.50         5\n",
      "           6       1.00      1.00      1.00       393\n",
      "           7       1.00      1.00      1.00       220\n",
      "           8       0.87      0.84      0.85       503\n",
      "           9       0.99      1.00      1.00       381\n",
      "          10       0.94      0.94      0.94      1629\n",
      "          11       0.91      0.60      0.73        88\n",
      "\n",
      "    accuracy                           0.98     24624\n",
      "   macro avg       0.92      0.79      0.83     24624\n",
      "weighted avg       0.98      0.98      0.98     24624\n",
      "\n",
      "Confusion Matrix:\n",
      " [[ 1354     0     0     1     1     1     0     0    36     2    43     2]\n",
      " [   11    99     0     0     0     0     0     0    24     0     1     0]\n",
      " [    0     0 18897     0     0     0     0     0     0     0     0     0]\n",
      " [    5     0     0   870     0     0     0     0     0     0     2     0]\n",
      " [   14     1     0     0     5     0     0     0     3     1    31     1]\n",
      " [    1     0     0     0     0     2     0     0     0     0     2     0]\n",
      " [    0     0     0     0     0     0   393     0     0     0     0     0]\n",
      " [    0     0     0     0     0     0     0   220     0     0     0     0]\n",
      " [   74     0     0     0     0     0     0     0   424     0     5     0]\n",
      " [    0     0     0     0     0     0     0     0     0   381     0     0]\n",
      " [  100     0     0     0     0     0     0     0     2     0  1525     2]\n",
      " [   19     0     0     0     0     0     0     0     0     0    16    53]]\n"
     ]
    }
   ],
   "source": [
    "model_logistic_regression = model.model_logistic_regression(X_train_sm, y_train_sm)\n",
    "y_pred = model_logistic_regression.predict(X_test_sm)\n",
    "utils.report(y_pred,y_test_sm)"
   ]
  },
  {
   "cell_type": "code",
   "execution_count": 14,
   "id": "6505d52f",
   "metadata": {},
   "outputs": [
    {
     "name": "stdout",
     "output_type": "stream",
     "text": [
      "Classification Report:\n",
      "               precision    recall  f1-score   support\n",
      "\n",
      "           0       0.98      0.98      0.98      1585\n",
      "           1       0.97      0.98      0.97        99\n",
      "           2       1.00      1.00      1.00     18897\n",
      "           3       1.00      1.00      1.00       871\n",
      "           4       0.83      0.45      0.59        11\n",
      "           5       0.67      0.40      0.50         5\n",
      "           6       1.00      1.00      1.00       394\n",
      "           7       1.00      1.00      1.00       220\n",
      "           8       0.98      0.99      0.99       485\n",
      "           9       0.99      1.00      1.00       381\n",
      "          10       0.98      0.98      0.98      1622\n",
      "          11       0.91      0.98      0.95        54\n",
      "\n",
      "    accuracy                           1.00     24624\n",
      "   macro avg       0.94      0.90      0.91     24624\n",
      "weighted avg       1.00      1.00      1.00     24624\n",
      "\n",
      "Confusion Matrix:\n",
      " [[ 1547     2     0     1     0     1     0     0     4     2    26     2]\n",
      " [    1    97     0     0     0     0     0     0     0     0     1     0]\n",
      " [    0     0 18897     0     0     0     0     0     0     0     0     0]\n",
      " [    0     0     0   870     0     0     0     0     0     0     0     1]\n",
      " [    3     0     0     0     5     0     0     0     2     0     1     0]\n",
      " [    1     0     0     0     0     2     0     0     0     0     2     0]\n",
      " [    0     0     0     0     0     0   393     0     0     0     0     1]\n",
      " [    0     0     0     0     0     0     0   220     0     0     0     0]\n",
      " [    0     1     0     0     1     0     0     0   481     1     1     0]\n",
      " [    0     0     0     0     0     0     0     0     0   381     0     0]\n",
      " [   26     0     0     0     0     0     0     0     2     0  1593     1]\n",
      " [    0     0     0     0     0     0     0     0     0     0     1    53]]\n"
     ]
    }
   ],
   "source": [
    "model_knn = model.model_knn(X_train_sm, y_train_sm)\n",
    "y_pred = model_knn.predict(X_test_sm)\n",
    "utils.report(y_pred,y_test_sm)"
   ]
  },
  {
   "cell_type": "code",
   "execution_count": 15,
   "id": "be7bcf1e",
   "metadata": {},
   "outputs": [
    {
     "name": "stdout",
     "output_type": "stream",
     "text": [
      "Classification Report:\n",
      "               precision    recall  f1-score   support\n",
      "\n",
      "           0       0.99      0.98      0.99      1592\n",
      "           1       0.96      0.98      0.97        98\n",
      "           2       1.00      1.00      1.00     18897\n",
      "           3       1.00      1.00      1.00       873\n",
      "           4       0.83      0.83      0.83         6\n",
      "           5       0.67      1.00      0.80         2\n",
      "           6       1.00      1.00      1.00       393\n",
      "           7       1.00      1.00      1.00       220\n",
      "           8       0.99      0.99      0.99       489\n",
      "           9       0.99      1.00      1.00       381\n",
      "          10       0.99      0.99      0.99      1618\n",
      "          11       0.95      1.00      0.97        55\n",
      "\n",
      "    accuracy                           1.00     24624\n",
      "   macro avg       0.95      0.98      0.96     24624\n",
      "weighted avg       1.00      1.00      1.00     24624\n",
      "\n",
      "Confusion Matrix:\n",
      " [[ 1566     0     0     1     0     0     0     0     4     2    17     2]\n",
      " [    0    96     0     0     0     0     0     0     2     0     0     0]\n",
      " [    0     0 18897     0     0     0     0     0     0     0     0     0]\n",
      " [    0     2     0   870     0     0     0     0     0     0     0     1]\n",
      " [    0     0     0     0     5     0     0     0     1     0     0     0]\n",
      " [    0     0     0     0     0     2     0     0     0     0     0     0]\n",
      " [    0     0     0     0     0     0   393     0     0     0     0     0]\n",
      " [    0     0     0     0     0     0     0   220     0     0     0     0]\n",
      " [    1     2     0     0     1     1     0     0   482     1     1     0]\n",
      " [    0     0     0     0     0     0     0     0     0   381     0     0]\n",
      " [   11     0     0     0     0     0     0     0     0     0  1607     0]\n",
      " [    0     0     0     0     0     0     0     0     0     0     0    55]]\n"
     ]
    }
   ],
   "source": [
    "model_random_forest = model.model_random_forest(X_train_sm, y_train_sm)\n",
    "y_pred = model_random_forest.predict(X_test_sm)\n",
    "utils.report(y_pred,y_test_sm)"
   ]
  },
  {
   "cell_type": "code",
   "execution_count": 16,
   "id": "d647b747",
   "metadata": {},
   "outputs": [
    {
     "name": "stdout",
     "output_type": "stream",
     "text": [
      "Đang huấn luyện trên: cuda\n",
      "Epoch [1/1000], Loss: 2.4933\n",
      "Epoch [10/1000], Loss: 2.3218\n",
      "Epoch [20/1000], Loss: 2.0140\n",
      "Epoch [30/1000], Loss: 1.6389\n",
      "Epoch [40/1000], Loss: 1.2866\n",
      "Epoch [50/1000], Loss: 1.0386\n",
      "Epoch [60/1000], Loss: 0.8725\n",
      "Epoch [70/1000], Loss: 0.7485\n",
      "Epoch [80/1000], Loss: 0.6444\n",
      "Epoch [90/1000], Loss: 0.5673\n",
      "Epoch [100/1000], Loss: 0.4830\n",
      "Epoch [110/1000], Loss: 0.4185\n",
      "Epoch [120/1000], Loss: 0.3709\n",
      "Epoch [130/1000], Loss: 0.3361\n",
      "Epoch [140/1000], Loss: 0.3139\n",
      "Epoch [150/1000], Loss: 0.3003\n",
      "Epoch [160/1000], Loss: 0.2836\n",
      "Epoch [170/1000], Loss: 0.2674\n",
      "Epoch [180/1000], Loss: 0.2629\n",
      "Epoch [190/1000], Loss: 0.2520\n",
      "Epoch [200/1000], Loss: 0.2385\n",
      "Epoch [210/1000], Loss: 0.2317\n",
      "Epoch [220/1000], Loss: 0.2226\n",
      "Epoch [230/1000], Loss: 0.2146\n",
      "Epoch [240/1000], Loss: 0.2057\n",
      "Epoch [250/1000], Loss: 0.1998\n",
      "Epoch [260/1000], Loss: 0.1978\n",
      "Epoch [270/1000], Loss: 0.1859\n",
      "Epoch [280/1000], Loss: 0.1882\n",
      "Epoch [290/1000], Loss: 0.1842\n",
      "Epoch [300/1000], Loss: 0.1790\n",
      "Epoch [310/1000], Loss: 0.1714\n",
      "Epoch [320/1000], Loss: 0.1693\n",
      "Epoch [330/1000], Loss: 0.1676\n",
      "Epoch [340/1000], Loss: 0.1621\n",
      "Epoch [350/1000], Loss: 0.1549\n",
      "Epoch [360/1000], Loss: 0.1595\n",
      "Epoch [370/1000], Loss: 0.1556\n",
      "Epoch [380/1000], Loss: 0.1585\n",
      "Epoch [390/1000], Loss: 0.1529\n",
      "Epoch [400/1000], Loss: 0.1556\n",
      "Epoch [410/1000], Loss: 0.1528\n",
      "Epoch [420/1000], Loss: 0.1545\n",
      "Epoch [430/1000], Loss: 0.1556\n",
      "Epoch [440/1000], Loss: 0.1576\n",
      "Epoch [450/1000], Loss: 0.1578\n",
      "Epoch [460/1000], Loss: 0.1578\n",
      "Epoch [470/1000], Loss: 0.1534\n",
      "Epoch [480/1000], Loss: 0.1553\n",
      "Epoch [490/1000], Loss: 0.1586\n",
      "Epoch [500/1000], Loss: 0.1575\n",
      "Epoch [510/1000], Loss: 0.1599\n",
      "Epoch [520/1000], Loss: 0.1586\n",
      "Epoch [530/1000], Loss: 0.1529\n",
      "Epoch [540/1000], Loss: 0.1582\n",
      "Epoch [550/1000], Loss: 0.1587\n",
      "Epoch [560/1000], Loss: 0.1550\n",
      "Epoch [570/1000], Loss: 0.1577\n",
      "Epoch [580/1000], Loss: 0.1553\n",
      "Epoch [590/1000], Loss: 0.1562\n",
      "Epoch [600/1000], Loss: 0.1528\n",
      "Epoch [610/1000], Loss: 0.1575\n",
      "Epoch [620/1000], Loss: 0.1589\n",
      "Epoch [630/1000], Loss: 0.1504\n",
      "Epoch [640/1000], Loss: 0.1554\n",
      "Epoch [650/1000], Loss: 0.1559\n",
      "Epoch [660/1000], Loss: 0.1593\n",
      "Epoch [670/1000], Loss: 0.1557\n",
      "Epoch [680/1000], Loss: 0.1570\n",
      "Epoch [690/1000], Loss: 0.1604\n",
      "Epoch [700/1000], Loss: 0.1516\n",
      "Epoch [710/1000], Loss: 0.1565\n",
      "Epoch [720/1000], Loss: 0.1563\n",
      "Epoch [730/1000], Loss: 0.1558\n",
      "Epoch [740/1000], Loss: 0.1594\n",
      "Epoch [750/1000], Loss: 0.1549\n",
      "Epoch [760/1000], Loss: 0.1504\n",
      "Epoch [770/1000], Loss: 0.1530\n",
      "Epoch [780/1000], Loss: 0.1527\n",
      "Epoch [790/1000], Loss: 0.1583\n",
      "Epoch [800/1000], Loss: 0.1557\n",
      "Epoch [810/1000], Loss: 0.1530\n",
      "Epoch [820/1000], Loss: 0.1572\n",
      "Epoch [830/1000], Loss: 0.1559\n",
      "Epoch [840/1000], Loss: 0.1545\n",
      "Epoch [850/1000], Loss: 0.1536\n",
      "Epoch [860/1000], Loss: 0.1540\n",
      "Epoch [870/1000], Loss: 0.1519\n",
      "Epoch [880/1000], Loss: 0.1596\n",
      "Epoch [890/1000], Loss: 0.1562\n",
      "Epoch [900/1000], Loss: 0.1539\n",
      "Epoch [910/1000], Loss: 0.1549\n",
      "Epoch [920/1000], Loss: 0.1512\n",
      "Epoch [930/1000], Loss: 0.1593\n",
      "Epoch [940/1000], Loss: 0.1575\n",
      "Epoch [950/1000], Loss: 0.1561\n",
      "Epoch [960/1000], Loss: 0.1568\n",
      "Epoch [970/1000], Loss: 0.1535\n",
      "Epoch [980/1000], Loss: 0.1572\n",
      "Epoch [990/1000], Loss: 0.1588\n",
      "Epoch [1000/1000], Loss: 0.1543\n",
      "Classification Report:\n",
      "               precision    recall  f1-score   support\n",
      "\n",
      "           0       0.93      0.90      0.91      1636\n",
      "           1       1.00      0.72      0.84       139\n",
      "           2       1.00      1.00      1.00     18898\n",
      "           3       1.00      0.99      1.00       875\n",
      "           4       0.83      0.11      0.20        44\n",
      "           5       0.67      0.25      0.36         8\n",
      "           6       1.00      0.99      0.99       398\n",
      "           7       1.00      0.98      0.99       225\n",
      "           8       0.86      1.00      0.93       422\n",
      "           9       0.99      1.00      1.00       381\n",
      "          10       0.90      0.97      0.93      1515\n",
      "          11       0.91      0.64      0.75        83\n",
      "\n",
      "    accuracy                           0.99     24624\n",
      "   macro avg       0.92      0.80      0.82     24624\n",
      "weighted avg       0.99      0.99      0.98     24624\n",
      "\n",
      "Confusion Matrix:\n",
      " [[ 1466     0     0     1     1     1     0     0    38     2   127     0]\n",
      " [   10   100     0     0     0     0     0     0    26     0     2     1]\n",
      " [    0     0 18897     0     0     0     0     0     0     0     1     0]\n",
      " [    5     0     0   869     0     0     0     0     0     0     0     1]\n",
      " [   27     0     0     0     5     0     0     0     2     0    10     0]\n",
      " [    2     0     0     1     0     2     0     0     0     1     1     1]\n",
      " [    3     0     0     0     0     0   393     0     0     0     1     1]\n",
      " [    5     0     0     0     0     0     0   220     0     0     0     0]\n",
      " [    0     0     0     0     0     0     0     0   422     0     0     0]\n",
      " [    0     0     0     0     0     0     0     0     0   381     0     0]\n",
      " [   48     0     0     0     0     0     0     0     0     0  1466     1]\n",
      " [   12     0     0     0     0     0     0     0     1     0    17    53]]\n"
     ]
    }
   ],
   "source": [
    "model_mlp = model.model_mlp(X_train_sm, y_train_sm, input_size=X_train_sm.shape[1],\n",
    "                  hidden_size1=128, hidden_size2=64, hidden_size3=32, output_size=12, epochs=1000)\n",
    "y_pred = model.predict_mlp(model_mlp, X_test_sm)\n",
    "utils.report(y_pred, y_test_sm)"
   ]
  },
  {
   "cell_type": "markdown",
   "id": "ca7c14be",
   "metadata": {},
   "source": [
    "Train với dữ liệu đã giảm chiều"
   ]
  },
  {
   "cell_type": "code",
   "execution_count": 17,
   "id": "a9e63ef8",
   "metadata": {},
   "outputs": [
    {
     "name": "stderr",
     "output_type": "stream",
     "text": [
      "c:\\Users\\QUIN\\Desktop\\PPNCKH\\DataProcessing.py:29: FutureWarning: \n",
      "\n",
      "Passing `palette` without assigning `hue` is deprecated and will be removed in v0.14.0. Assign the `y` variable to `hue` and set `legend=False` for the same effect.\n",
      "\n",
      "  sns.barplot(data=top_features, x='Importance', y='Feature', palette='viridis')\n"
     ]
    },
    {
     "name": "stdout",
     "output_type": "stream",
     "text": [
      "40\n"
     ]
    },
    {
     "data": {
      "image/png": "[encoded data removed]",
      "text/plain": [
       "<Figure size 1000x800 with 1 Axes>"
      ]
     },
     "metadata": {},
     "output_type": "display_data"
    }
   ],
   "source": [
    "# Xử lý dữ liệu\n",
    "list = DataProcessing.select_feature(X_train_sm, y_train_sm)\n",
    "print(len(list))"
   ]
  },
  {
   "cell_type": "code",
   "execution_count": 18,
   "id": "f201575d",
   "metadata": {},
   "outputs": [
    {
     "name": "stdout",
     "output_type": "stream",
     "text": [
      "Các cột bị loại bỏ: ['flow_iat.max', 'bwd_pkts_payload.tot', 'flow_iat.tot', 'bwd_subflow_bytes', 'flow_pkts_payload.max', 'fwd_data_pkts_tot', 'fwd_iat.max', 'bwd_pkts_payload.std', 'bwd_pkts_tot', 'fwd_iat.avg', 'fwd_pkts_payload.avg', 'fwd_iat.tot', 'bwd_pkts_payload.avg', 'active.min', 'active.max', 'bwd_data_pkts_tot']\n"
     ]
    }
   ],
   "source": [
    "X_train_sm = X_train_sm[list['Feature']]\n",
    "df_reduced, dropped_columns = DataProcessing.remove_highly_correlated_columns(X_train_sm[list['Feature']], threshold=0.8)"
   ]
  },
  {
   "cell_type": "code",
   "execution_count": 19,
   "id": "99e3ff51",
   "metadata": {},
   "outputs": [],
   "source": [
    "X_train_sm_dr = df_reduced\n",
    "X_test_sm_dr = X_test_sm[list['Feature']].drop(dropped_columns, axis=1)\n",
    "y_train_sm_dr = y_train_sm.copy()\n",
    "y_test_sm_dr = y_test_sm.copy()"
   ]
  },
  {
   "cell_type": "code",
   "execution_count": 20,
   "id": "bd541e96",
   "metadata": {},
   "outputs": [
    {
     "name": "stdout",
     "output_type": "stream",
     "text": [
      "Classification Report:\n",
      "               precision    recall  f1-score   support\n",
      "\n",
      "           0       0.74      0.60      0.66      1957\n",
      "           1       0.97      0.63      0.76       154\n",
      "           2       1.00      1.00      1.00     18900\n",
      "           3       0.99      1.00      0.99       866\n",
      "           4       0.83      0.09      0.17        53\n",
      "           5       0.67      0.40      0.50         5\n",
      "           6       1.00      0.99      1.00       396\n",
      "           7       1.00      0.92      0.96       238\n",
      "           8       0.87      0.69      0.77       616\n",
      "           9       0.99      1.00      0.99       382\n",
      "          10       0.52      0.87      0.65       975\n",
      "          11       0.66      0.46      0.54        82\n",
      "\n",
      "    accuracy                           0.95     24624\n",
      "   macro avg       0.85      0.72      0.75     24624\n",
      "weighted avg       0.96      0.95      0.95     24624\n",
      "\n",
      "Confusion Matrix:\n",
      " [[ 1169     0     0     6     1     1     0     0    35     2   733    10]\n",
      " [   28    97     0     0     0     0     0     0    24     0     4     1]\n",
      " [    3     0 18897     0     0     0     0     0     0     0     0     0]\n",
      " [    0     0     0   864     0     0     0     0     0     0     1     1]\n",
      " [   31     1     0     0     5     0     0     0     3     0    12     1]\n",
      " [    1     0     0     0     0     2     0     0     0     0     2     0]\n",
      " [    0     0     0     0     0     0   393     0     0     0     0     3]\n",
      " [   18     0     0     0     0     0     0   220     0     0     0     0]\n",
      " [  177     0     0     0     0     0     0     0   425     0    11     3]\n",
      " [    1     0     0     0     0     0     0     0     0   381     0     0]\n",
      " [  123     0     0     0     0     0     0     0     1     1   849     1]\n",
      " [   27     2     0     1     0     0     0     0     1     0    13    38]]\n"
     ]
    }
   ],
   "source": [
    "model_LinearSVC_dr = model.model_LinearSVC(X_train_sm_dr, y_train_sm_dr)\n",
    "y_pred_dr = model_LinearSVC_dr.predict(X_test_sm_dr)\n",
    "utils.report(y_pred_dr,y_test_sm_dr)"
   ]
  },
  {
   "cell_type": "code",
   "execution_count": 21,
   "id": "ef3d8788",
   "metadata": {},
   "outputs": [
    {
     "name": "stderr",
     "output_type": "stream",
     "text": [
      "c:\\Users\\QUIN\\anaconda3\\envs\\PPNKCH\\lib\\site-packages\\xgboost\\training.py:183: UserWarning: [09:22:27] WARNING: C:\\actions-runner\\_work\\xgboost\\xgboost\\src\\learner.cc:738: \n",
      "Parameters: { \"use_label_encoder\" } are not used.\n",
      "\n",
      "  bst.update(dtrain, iteration=i, fobj=obj)\n"
     ]
    },
    {
     "name": "stdout",
     "output_type": "stream",
     "text": [
      "Classification Report:\n",
      "               precision    recall  f1-score   support\n",
      "\n",
      "           0       1.00      0.98      0.99      1596\n",
      "           1       1.00      0.99      1.00       101\n",
      "           2       1.00      1.00      1.00     18898\n",
      "           3       1.00      1.00      1.00       870\n",
      "           4       0.83      0.83      0.83         6\n",
      "           5       0.67      1.00      0.80         2\n",
      "           6       1.00      1.00      1.00       393\n",
      "           7       1.00      1.00      1.00       220\n",
      "           8       0.99      0.99      0.99       485\n",
      "           9       0.99      1.00      1.00       381\n",
      "          10       0.99      1.00      0.99      1615\n",
      "          11       0.98      1.00      0.99        57\n",
      "\n",
      "    accuracy                           1.00     24624\n",
      "   macro avg       0.95      0.98      0.97     24624\n",
      "weighted avg       1.00      1.00      1.00     24624\n",
      "\n",
      "Confusion Matrix:\n",
      " [[ 1572     0     0     0     0     1     0     0     3     2    18     0]\n",
      " [    0   100     0     0     0     0     0     0     1     0     0     0]\n",
      " [    0     0 18897     0     0     0     0     0     0     0     0     1]\n",
      " [    0     0     0   870     0     0     0     0     0     0     0     0]\n",
      " [    0     0     0     0     5     0     0     0     1     0     0     0]\n",
      " [    0     0     0     0     0     2     0     0     0     0     0     0]\n",
      " [    0     0     0     0     0     0   393     0     0     0     0     0]\n",
      " [    0     0     0     0     0     0     0   220     0     0     0     0]\n",
      " [    1     0     0     0     1     0     0     0   482     1     0     0]\n",
      " [    0     0     0     0     0     0     0     0     0   381     0     0]\n",
      " [    5     0     0     1     0     0     0     0     2     0  1607     0]\n",
      " [    0     0     0     0     0     0     0     0     0     0     0    57]]\n"
     ]
    }
   ],
   "source": [
    "model_xgboost_dr = model.model_xgboost(X_train_sm_dr, y_train_sm_dr,12)\n",
    "y_pred_dr = model_xgboost_dr.predict(X_test_sm_dr)\n",
    "utils.report(y_pred_dr,y_test_sm_dr)"
   ]
  },
  {
   "cell_type": "code",
   "execution_count": 22,
   "id": "44477c4a",
   "metadata": {},
   "outputs": [
    {
     "name": "stderr",
     "output_type": "stream",
     "text": [
      "c:\\Users\\QUIN\\anaconda3\\envs\\PPNKCH\\lib\\site-packages\\sklearn\\linear_model\\_logistic.py:1247: FutureWarning: 'multi_class' was deprecated in version 1.5 and will be removed in 1.7. From then on, it will always use 'multinomial'. Leave it to its default value to avoid this warning.\n",
      "  warnings.warn(\n"
     ]
    },
    {
     "name": "stdout",
     "output_type": "stream",
     "text": [
      "Classification Report:\n",
      "               precision    recall  f1-score   support\n",
      "\n",
      "           0       0.76      0.87      0.81      1367\n",
      "           1       1.00      0.58      0.74       171\n",
      "           2       1.00      1.00      1.00     18901\n",
      "           3       1.00      0.99      1.00       873\n",
      "           4       0.83      0.09      0.16        58\n",
      "           5       0.67      0.33      0.44         6\n",
      "           6       1.00      0.99      1.00       395\n",
      "           7       1.00      0.92      0.96       239\n",
      "           8       0.87      0.70      0.78       604\n",
      "           9       0.99      1.00      1.00       381\n",
      "          10       0.89      0.95      0.92      1530\n",
      "          11       0.79      0.46      0.59        99\n",
      "\n",
      "    accuracy                           0.97     24624\n",
      "   macro avg       0.90      0.74      0.78     24624\n",
      "weighted avg       0.98      0.97      0.97     24624\n",
      "\n",
      "Confusion Matrix:\n",
      " [[ 1194     0     0     1     1     1     0     0    36     2   128     4]\n",
      " [   38   100     0     1     0     0     0     0    24     1     6     1]\n",
      " [    3     0 18897     0     0     0     0     0     0     0     1     0]\n",
      " [    5     0     0   868     0     0     0     0     0     0     0     0]\n",
      " [   36     0     0     0     5     0     0     0     4     0    12     1]\n",
      " [    2     0     0     1     0     2     0     0     0     0     1     0]\n",
      " [    0     0     0     0     0     0   393     0     0     0     0     2]\n",
      " [   18     0     0     0     0     0     0   220     0     0     1     0]\n",
      " [  173     0     0     0     0     0     0     0   425     0     3     3]\n",
      " [    0     0     0     0     0     0     0     0     0   381     0     0]\n",
      " [   78     0     0     0     0     0     0     0     0     0  1451     1]\n",
      " [   31     0     0     0     0     0     0     0     0     0    22    46]]\n"
     ]
    }
   ],
   "source": [
    "model_logistic_regression_dr = model.model_logistic_regression(X_train_sm_dr, y_train_sm_dr)\n",
    "y_pred_dr = model_logistic_regression_dr.predict(X_test_sm_dr)\n",
    "utils.report(y_pred_dr,y_test_sm_dr)"
   ]
  },
  {
   "cell_type": "code",
   "execution_count": 23,
   "id": "48fffdfc",
   "metadata": {},
   "outputs": [
    {
     "name": "stdout",
     "output_type": "stream",
     "text": [
      "Classification Report:\n",
      "               precision    recall  f1-score   support\n",
      "\n",
      "           0       0.98      0.97      0.98      1593\n",
      "           1       0.98      0.99      0.98        99\n",
      "           2       1.00      1.00      1.00     18897\n",
      "           3       1.00      1.00      1.00       870\n",
      "           4       0.83      0.38      0.53        13\n",
      "           5       0.67      0.67      0.67         3\n",
      "           6       1.00      1.00      1.00       394\n",
      "           7       1.00      0.99      0.99       222\n",
      "           8       0.98      0.99      0.99       484\n",
      "           9       0.99      1.00      1.00       381\n",
      "          10       0.98      0.99      0.98      1612\n",
      "          11       0.91      0.95      0.93        56\n",
      "\n",
      "    accuracy                           1.00     24624\n",
      "   macro avg       0.94      0.91      0.92     24624\n",
      "weighted avg       1.00      1.00      1.00     24624\n",
      "\n",
      "Confusion Matrix:\n",
      " [[ 1551     2     0     1     0     1     0     1     3     2    30     2]\n",
      " [    1    98     0     0     0     0     0     0     0     0     0     0]\n",
      " [    0     0 18897     0     0     0     0     0     0     0     0     0]\n",
      " [    0     0     0   870     0     0     0     0     0     0     0     0]\n",
      " [    6     0     0     0     5     0     0     0     2     0     0     0]\n",
      " [    0     0     0     0     0     2     0     0     0     0     1     0]\n",
      " [    0     0     0     0     0     0   393     0     0     0     0     1]\n",
      " [    1     0     0     0     0     0     0   219     0     0     2     0]\n",
      " [    0     0     0     0     1     0     0     0   481     1     0     1]\n",
      " [    0     0     0     0     0     0     0     0     0   381     0     0]\n",
      " [   19     0     0     0     0     0     0     0     2     0  1590     1]\n",
      " [    0     0     0     0     0     0     0     0     1     0     2    53]]\n"
     ]
    }
   ],
   "source": [
    "model_knn_dr = model.model_knn(X_train_sm_dr, y_train_sm_dr)\n",
    "y_pred_dr = model_knn_dr.predict(X_test_sm_dr)\n",
    "utils.report(y_pred_dr,y_test_sm_dr)"
   ]
  },
  {
   "cell_type": "code",
   "execution_count": 24,
   "id": "6be85a44",
   "metadata": {},
   "outputs": [
    {
     "name": "stdout",
     "output_type": "stream",
     "text": [
      "Classification Report:\n",
      "               precision    recall  f1-score   support\n",
      "\n",
      "           0       0.99      0.98      0.99      1601\n",
      "           1       0.97      1.00      0.98        97\n",
      "           2       1.00      1.00      1.00     18897\n",
      "           3       1.00      1.00      1.00       871\n",
      "           4       0.83      0.83      0.83         6\n",
      "           5       0.67      1.00      0.80         2\n",
      "           6       1.00      1.00      1.00       393\n",
      "           7       1.00      1.00      1.00       220\n",
      "           8       0.99      0.99      0.99       490\n",
      "           9       0.99      1.00      1.00       381\n",
      "          10       0.99      1.00      0.99      1609\n",
      "          11       0.95      0.96      0.96        57\n",
      "\n",
      "    accuracy                           1.00     24624\n",
      "   macro avg       0.95      0.98      0.96     24624\n",
      "weighted avg       1.00      1.00      1.00     24624\n",
      "\n",
      "Confusion Matrix:\n",
      " [[ 1570     2     0     0     0     0     0     0     4     2    21     2]\n",
      " [    0    97     0     0     0     0     0     0     0     0     0     0]\n",
      " [    0     0 18897     0     0     0     0     0     0     0     0     0]\n",
      " [    0     0     0   870     0     0     0     0     0     0     0     1]\n",
      " [    0     0     0     0     5     0     0     0     1     0     0     0]\n",
      " [    0     0     0     0     0     2     0     0     0     0     0     0]\n",
      " [    0     0     0     0     0     0   393     0     0     0     0     0]\n",
      " [    0     0     0     0     0     0     0   220     0     0     0     0]\n",
      " [    1     1     0     0     1     1     0     0   484     1     1     0]\n",
      " [    0     0     0     0     0     0     0     0     0   381     0     0]\n",
      " [    7     0     0     1     0     0     0     0     0     0  1601     0]\n",
      " [    0     0     0     0     0     0     0     0     0     0     2    55]]\n"
     ]
    }
   ],
   "source": [
    "model_random_forest_dr = model.model_random_forest(X_train_sm_dr, y_train_sm_dr)\n",
    "y_pred_dr = model_random_forest_dr.predict(X_test_sm_dr)\n",
    "utils.report(y_pred_dr,y_test_sm_dr)"
   ]
  },
  {
   "cell_type": "code",
   "execution_count": 25,
   "id": "5478e387",
   "metadata": {},
   "outputs": [
    {
     "name": "stdout",
     "output_type": "stream",
     "text": [
      "Đang huấn luyện trên: cuda\n",
      "Epoch [1/1000], Loss: 2.4892\n",
      "Epoch [10/1000], Loss: 2.3431\n",
      "Epoch [20/1000], Loss: 2.1109\n",
      "Epoch [30/1000], Loss: 1.8236\n",
      "Epoch [40/1000], Loss: 1.5423\n",
      "Epoch [50/1000], Loss: 1.2752\n",
      "Epoch [60/1000], Loss: 1.0725\n",
      "Epoch [70/1000], Loss: 0.9028\n",
      "Epoch [80/1000], Loss: 0.7773\n",
      "Epoch [90/1000], Loss: 0.6731\n",
      "Epoch [100/1000], Loss: 0.6083\n",
      "Epoch [110/1000], Loss: 0.5540\n",
      "Epoch [120/1000], Loss: 0.5222\n",
      "Epoch [130/1000], Loss: 0.4931\n",
      "Epoch [140/1000], Loss: 0.4644\n",
      "Epoch [150/1000], Loss: 0.4458\n",
      "Epoch [160/1000], Loss: 0.4247\n",
      "Epoch [170/1000], Loss: 0.3958\n",
      "Epoch [180/1000], Loss: 0.3883\n",
      "Epoch [190/1000], Loss: 0.3729\n",
      "Epoch [200/1000], Loss: 0.3630\n",
      "Epoch [210/1000], Loss: 0.3565\n",
      "Epoch [220/1000], Loss: 0.3448\n",
      "Epoch [230/1000], Loss: 0.3350\n",
      "Epoch [240/1000], Loss: 0.3268\n",
      "Epoch [250/1000], Loss: 0.3178\n",
      "Epoch [260/1000], Loss: 0.3119\n",
      "Epoch [270/1000], Loss: 0.3074\n",
      "Epoch [280/1000], Loss: 0.3004\n",
      "Epoch [290/1000], Loss: 0.2953\n",
      "Epoch [300/1000], Loss: 0.2855\n",
      "Epoch [310/1000], Loss: 0.2819\n",
      "Epoch [320/1000], Loss: 0.2736\n",
      "Epoch [330/1000], Loss: 0.2690\n",
      "Epoch [340/1000], Loss: 0.2596\n",
      "Epoch [350/1000], Loss: 0.2597\n",
      "Epoch [360/1000], Loss: 0.2530\n",
      "Epoch [370/1000], Loss: 0.2502\n",
      "Epoch [380/1000], Loss: 0.2435\n",
      "Epoch [390/1000], Loss: 0.2420\n",
      "Epoch [400/1000], Loss: 0.2416\n",
      "Epoch [410/1000], Loss: 0.2404\n",
      "Epoch [420/1000], Loss: 0.2365\n",
      "Epoch [430/1000], Loss: 0.2374\n",
      "Epoch [440/1000], Loss: 0.2383\n",
      "Epoch [450/1000], Loss: 0.2353\n",
      "Epoch [460/1000], Loss: 0.2422\n",
      "Epoch [470/1000], Loss: 0.2394\n",
      "Epoch [480/1000], Loss: 0.2379\n",
      "Epoch [490/1000], Loss: 0.2382\n",
      "Epoch [500/1000], Loss: 0.2394\n",
      "Epoch [510/1000], Loss: 0.2387\n",
      "Epoch [520/1000], Loss: 0.2412\n",
      "Epoch [530/1000], Loss: 0.2379\n",
      "Epoch [540/1000], Loss: 0.2410\n",
      "Epoch [550/1000], Loss: 0.2396\n",
      "Epoch [560/1000], Loss: 0.2392\n",
      "Epoch [570/1000], Loss: 0.2405\n",
      "Epoch [580/1000], Loss: 0.2411\n",
      "Epoch [590/1000], Loss: 0.2416\n",
      "Epoch [600/1000], Loss: 0.2368\n",
      "Epoch [610/1000], Loss: 0.2415\n",
      "Epoch [620/1000], Loss: 0.2426\n",
      "Epoch [630/1000], Loss: 0.2439\n",
      "Epoch [640/1000], Loss: 0.2364\n",
      "Epoch [650/1000], Loss: 0.2367\n",
      "Epoch [660/1000], Loss: 0.2374\n",
      "Epoch [670/1000], Loss: 0.2394\n",
      "Epoch [680/1000], Loss: 0.2362\n",
      "Epoch [690/1000], Loss: 0.2392\n",
      "Epoch [700/1000], Loss: 0.2437\n",
      "Epoch [710/1000], Loss: 0.2427\n",
      "Epoch [720/1000], Loss: 0.2375\n",
      "Epoch [730/1000], Loss: 0.2450\n",
      "Epoch [740/1000], Loss: 0.2443\n",
      "Epoch [750/1000], Loss: 0.2408\n",
      "Epoch [760/1000], Loss: 0.2406\n",
      "Epoch [770/1000], Loss: 0.2460\n",
      "Epoch [780/1000], Loss: 0.2408\n",
      "Epoch [790/1000], Loss: 0.2305\n",
      "Epoch [800/1000], Loss: 0.2394\n",
      "Epoch [810/1000], Loss: 0.2403\n",
      "Epoch [820/1000], Loss: 0.2362\n",
      "Epoch [830/1000], Loss: 0.2490\n",
      "Epoch [840/1000], Loss: 0.2392\n",
      "Epoch [850/1000], Loss: 0.2390\n",
      "Epoch [860/1000], Loss: 0.2386\n",
      "Epoch [870/1000], Loss: 0.2472\n",
      "Epoch [880/1000], Loss: 0.2449\n",
      "Epoch [890/1000], Loss: 0.2485\n",
      "Epoch [900/1000], Loss: 0.2414\n",
      "Epoch [910/1000], Loss: 0.2417\n",
      "Epoch [920/1000], Loss: 0.2396\n",
      "Epoch [930/1000], Loss: 0.2458\n",
      "Epoch [940/1000], Loss: 0.2404\n",
      "Epoch [950/1000], Loss: 0.2428\n",
      "Epoch [960/1000], Loss: 0.2393\n",
      "Epoch [970/1000], Loss: 0.2452\n",
      "Epoch [980/1000], Loss: 0.2399\n",
      "Epoch [990/1000], Loss: 0.2405\n",
      "Epoch [1000/1000], Loss: 0.2385\n"
     ]
    }
   ],
   "source": [
    "model_mlp_dr = model.model_mlp(X_train_sm_dr, y_train_sm_dr, input_size=X_train_sm_dr.shape[1],\n",
    "                  hidden_size1=128, hidden_size2=64, hidden_size3=32, output_size=12, epochs=1000)\n",
    "\n"
   ]
  },
  {
   "cell_type": "code",
   "execution_count": 26,
   "id": "66a98e8c",
   "metadata": {},
   "outputs": [
    {
     "name": "stdout",
     "output_type": "stream",
     "text": [
      "Classification Report:\n",
      "               precision    recall  f1-score   support\n",
      "\n",
      "           0       0.84      0.89      0.87      1484\n",
      "           1       0.99      0.59      0.74       169\n",
      "           2       1.00      1.00      1.00     18900\n",
      "           3       1.00      1.00      1.00       871\n",
      "           4       0.83      0.11      0.20        44\n",
      "           5       0.67      0.17      0.27        12\n",
      "           6       1.00      0.99      1.00       396\n",
      "           7       1.00      0.91      0.95       242\n",
      "           8       0.87      0.96      0.91       439\n",
      "           9       0.99      1.00      1.00       381\n",
      "          10       0.91      0.93      0.92      1588\n",
      "          11       0.88      0.52      0.65        98\n",
      "\n",
      "    accuracy                           0.98     24624\n",
      "   macro avg       0.91      0.76      0.79     24624\n",
      "weighted avg       0.98      0.98      0.98     24624\n",
      "\n",
      "Confusion Matrix:\n",
      " [[ 1327     1     0     1     1     1     0     0    37     2   113     1]\n",
      " [   43    99     0     1     0     0     0     0    24     0     2     0]\n",
      " [    3     0 18897     0     0     0     0     0     0     0     0     0]\n",
      " [    3     0     0   868     0     0     0     0     0     0     0     0]\n",
      " [   24     0     0     0     5     0     0     0     4     0    10     1]\n",
      " [    6     0     0     1     0     2     0     0     0     1     2     0]\n",
      " [    0     0     0     0     0     0   393     0     0     0     0     3]\n",
      " [   18     0     0     0     0     0     0   220     0     0     3     1]\n",
      " [   15     0     0     0     0     0     0     0   423     0     1     0]\n",
      " [    0     0     0     0     0     0     0     0     0   381     0     0]\n",
      " [  105     0     0     0     0     0     0     0     1     0  1481     1]\n",
      " [   34     0     0     0     0     0     0     0     0     0    13    51]]\n"
     ]
    }
   ],
   "source": [
    "y_pred_dr = model.predict_mlp(model_mlp_dr, X_test_sm_dr)\n",
    "utils.report(y_pred_dr, y_test_sm)"
   ]
  },
  {
   "cell_type": "markdown",
   "id": "552883e6",
   "metadata": {},
   "source": [
    "Train mô hỉnh tinh chỉnh."
   ]
  },
  {
   "cell_type": "code",
   "execution_count": 27,
   "id": "1a270f3c",
   "metadata": {},
   "outputs": [
    {
     "name": "stdout",
     "output_type": "stream",
     "text": [
      "Classification Report:\n",
      "               precision    recall  f1-score   support\n",
      "\n",
      "           0       0.99      0.98      0.99      1592\n",
      "           1       0.96      0.98      0.97        98\n",
      "           2       1.00      1.00      1.00     18897\n",
      "           3       1.00      1.00      1.00       873\n",
      "           4       0.83      0.83      0.83         6\n",
      "           5       0.67      1.00      0.80         2\n",
      "           6       1.00      1.00      1.00       393\n",
      "           7       1.00      1.00      1.00       220\n",
      "           8       0.99      0.99      0.99       489\n",
      "           9       0.99      1.00      1.00       381\n",
      "          10       0.99      0.99      0.99      1618\n",
      "          11       0.95      1.00      0.97        55\n",
      "\n",
      "    accuracy                           1.00     24624\n",
      "   macro avg       0.95      0.98      0.96     24624\n",
      "weighted avg       1.00      1.00      1.00     24624\n",
      "\n",
      "Confusion Matrix:\n",
      " [[ 1566     0     0     1     0     0     0     0     4     2    17     2]\n",
      " [    0    96     0     0     0     0     0     0     2     0     0     0]\n",
      " [    0     0 18897     0     0     0     0     0     0     0     0     0]\n",
      " [    0     2     0   870     0     0     0     0     0     0     0     1]\n",
      " [    0     0     0     0     5     0     0     0     1     0     0     0]\n",
      " [    0     0     0     0     0     2     0     0     0     0     0     0]\n",
      " [    0     0     0     0     0     0   393     0     0     0     0     0]\n",
      " [    0     0     0     0     0     0     0   220     0     0     0     0]\n",
      " [    1     2     0     0     1     1     0     0   482     1     1     0]\n",
      " [    0     0     0     0     0     0     0     0     0   381     0     0]\n",
      " [   11     0     0     0     0     0     0     0     0     0  1607     0]\n",
      " [    0     0     0     0     0     0     0     0     0     0     0    55]]\n"
     ]
    }
   ],
   "source": [
    "\n",
    "y_pred = model_random_forest.predict(X_test_sm)\n",
    "utils.report(y_pred,y_test_sm)"
   ]
  },
  {
   "cell_type": "code",
   "execution_count": 28,
   "id": "68eeb5e9",
   "metadata": {},
   "outputs": [],
   "source": [
    "from sklearn.model_selection import RandomizedSearchCV\n",
    "from sklearn.ensemble import RandomForestClassifier\n",
    "from scipy.stats import randint"
   ]
  },
  {
   "cell_type": "markdown",
   "id": "a257f815",
   "metadata": {},
   "source": [
    "random_forest"
   ]
  },
  {
   "cell_type": "code",
   "execution_count": 29,
   "id": "7d3671bb",
   "metadata": {},
   "outputs": [
    {
     "name": "stdout",
     "output_type": "stream",
     "text": [
      "Best params: {'max_depth': 9, 'n_estimators': 119}\n",
      "XGBoost Classification Report:\n",
      "Classification Report:\n",
      "               precision    recall  f1-score   support\n",
      "\n",
      "           0       0.99      0.98      0.98      1602\n",
      "           1       0.98      0.99      0.98        99\n",
      "           2       1.00      1.00      1.00     18897\n",
      "           3       1.00      1.00      1.00       871\n",
      "           4       0.67      0.80      0.73         5\n",
      "           5       0.67      1.00      0.80         2\n",
      "           6       1.00      1.00      1.00       393\n",
      "           7       1.00      1.00      1.00       220\n",
      "           8       0.99      0.99      0.99       487\n",
      "           9       0.99      1.00      1.00       381\n",
      "          10       0.98      0.99      0.99      1611\n",
      "          11       0.93      0.96      0.95        56\n",
      "\n",
      "    accuracy                           1.00     24624\n",
      "   macro avg       0.93      0.98      0.95     24624\n",
      "weighted avg       1.00      1.00      1.00     24624\n",
      "\n",
      "Confusion Matrix:\n",
      " [[ 1564     2     0     1     1     1     0     0     5     3    23     2]\n",
      " [    0    98     0     0     0     0     0     0     1     0     0     0]\n",
      " [    0     0 18897     0     0     0     0     0     0     0     0     0]\n",
      " [    0     0     0   870     0     0     0     0     0     0     0     1]\n",
      " [    1     0     0     0     4     0     0     0     0     0     0     0]\n",
      " [    0     0     0     0     0     2     0     0     0     0     0     0]\n",
      " [    0     0     0     0     0     0   393     0     0     0     0     0]\n",
      " [    0     0     0     0     0     0     0   220     0     0     0     0]\n",
      " [    1     0     0     0     1     0     0     0   482     0     2     1]\n",
      " [    0     0     0     0     0     0     0     0     0   381     0     0]\n",
      " [   12     0     0     0     0     0     0     0     1     0  1598     0]\n",
      " [    0     0     0     0     0     0     0     0     0     0     2    54]]\n"
     ]
    }
   ],
   "source": [
    "#test\n",
    "# Không gian tham số\n",
    "param_dist = {\n",
    "    'n_estimators': randint(50, 200),\n",
    "    'max_depth': randint(3, 10)\n",
    "}\n",
    "\n",
    "# Khởi tạo mô hình\n",
    "get_random_forest_model_instance = model.get_random_forest_model() \n",
    "# Tìm kiếm ngẫu nhiên\n",
    "random_search = RandomizedSearchCV(\n",
    "    estimator=get_random_forest_model_instance,\n",
    "    param_distributions=param_dist,\n",
    "    n_iter=20,\n",
    "    cv=5,\n",
    "    scoring='f1_macro'\n",
    ")\n",
    "\n",
    "# Huấn luyện\n",
    "random_search.fit(X_train_sm_dr, y_train_sm_dr)\n",
    "\n",
    "# In tham số tốt nhất\n",
    "print(\"Best params:\", random_search.best_params_)\n",
    "# Dự đoán và đánh giá\n",
    "y_pred_xgb = random_search.predict(X_test_sm_dr)\n",
    "print(\"XGBoost Classification Report:\")\n",
    "utils.report(y_pred_xgb, y_test_sm_dr)  "
   ]
  },
  {
   "cell_type": "markdown",
   "id": "4fef2a93",
   "metadata": {},
   "source": [
    "XGBoost"
   ]
  },
  {
   "cell_type": "code",
   "execution_count": 30,
   "id": "8706f597",
   "metadata": {},
   "outputs": [
    {
     "name": "stderr",
     "output_type": "stream",
     "text": [
      "c:\\Users\\QUIN\\anaconda3\\envs\\PPNKCH\\lib\\site-packages\\xgboost\\training.py:183: UserWarning: [09:29:05] WARNING: C:\\actions-runner\\_work\\xgboost\\xgboost\\src\\learner.cc:738: \n",
      "Parameters: { \"scale_pos_weight\" } are not used.\n",
      "\n",
      "  bst.update(dtrain, iteration=i, fobj=obj)\n"
     ]
    },
    {
     "name": "stdout",
     "output_type": "stream",
     "text": [
      "Best parameters for XGBoost: {'subsample': 0.6, 'scale_pos_weight': np.float64(151.524), 'n_estimators': 200, 'max_depth': 10, 'learning_rate': 0.2, 'colsample_bytree': 0.8}\n",
      "XGBoost Classification Report:\n",
      "Classification Report:\n",
      "               precision    recall  f1-score   support\n",
      "\n",
      "           0       0.99      0.98      0.99      1592\n",
      "           1       1.00      0.99      1.00       101\n",
      "           2       1.00      1.00      1.00     18897\n",
      "           3       1.00      1.00      1.00       871\n",
      "           4       0.67      0.67      0.67         6\n",
      "           5       0.67      1.00      0.80         2\n",
      "           6       1.00      1.00      1.00       393\n",
      "           7       1.00      1.00      1.00       220\n",
      "           8       0.99      0.99      0.99       488\n",
      "           9       0.99      1.00      1.00       381\n",
      "          10       0.99      0.99      0.99      1619\n",
      "          11       0.93      1.00      0.96        54\n",
      "\n",
      "    accuracy                           1.00     24624\n",
      "   macro avg       0.94      0.97      0.95     24624\n",
      "weighted avg       1.00      1.00      1.00     24624\n",
      "\n",
      "Confusion Matrix:\n",
      " [[ 1567     0     0     0     0     1     0     0     3     2    18     1]\n",
      " [    1   100     0     0     0     0     0     0     0     0     0     0]\n",
      " [    0     0 18897     0     0     0     0     0     0     0     0     0]\n",
      " [    0     0     0   870     0     0     0     0     0     0     0     1]\n",
      " [    1     0     0     0     4     0     0     0     1     0     0     0]\n",
      " [    0     0     0     0     0     2     0     0     0     0     0     0]\n",
      " [    0     0     0     0     0     0   393     0     0     0     0     0]\n",
      " [    0     0     0     0     0     0     0   220     0     0     0     0]\n",
      " [    1     0     0     0     2     0     0     0   483     1     0     1]\n",
      " [    0     0     0     0     0     0     0     0     0   381     0     0]\n",
      " [    8     0     0     1     0     0     0     0     2     0  1607     1]\n",
      " [    0     0     0     0     0     0     0     0     0     0     0    54]]\n"
     ]
    }
   ],
   "source": [
    "# Không gian tham số\n",
    "# Tính scale_pos_weight\n",
    "class_counts = np.bincount(y_train_sm_dr)\n",
    "param_dist = {\n",
    "    'n_estimators': [50, 100, 200],\n",
    "    'max_depth': [3, 5, 7, 10],\n",
    "    'learning_rate': [0.01, 0.1, 0.2],\n",
    "    'subsample': [0.6, 0.8, 1.0],\n",
    "    'colsample_bytree': [0.6, 0.8, 1.0],\n",
    "    'scale_pos_weight': [1, class_counts.max() / class_counts.min()]  # Xử lý mất cân bằng\n",
    "}\n",
    "\n",
    "# Khởi tạo mô hình\n",
    "xgb_model = model.get_xgboost_model(random_state=42)\n",
    "\n",
    "# Tìm kiếm ngẫu nhiên\n",
    "random_search_xgb = RandomizedSearchCV(\n",
    "    estimator=xgb_model,\n",
    "    param_distributions=param_dist,\n",
    "    n_iter=10,  # Số lần thử ngẫu nhiên\n",
    "    cv=5,       # Cross-validation với 5 fold\n",
    "    scoring='f1_macro',  # Dùng f1_macro để đánh giá tốt hơn với dữ liệu mất cân bằng\n",
    "    random_state=42,\n",
    "    n_jobs=-1    # Sử dụng tất cả CPU\n",
    ")\n",
    "\n",
    "# Huấn luyện\n",
    "random_search_xgb.fit(X_train_sm_dr, y_train_sm_dr)\n",
    "\n",
    "# Lấy mô hình tốt nhất\n",
    "best_xgb_model = random_search_xgb.best_estimator_\n",
    "print(\"Best parameters for XGBoost:\", random_search_xgb.best_params_)\n",
    "\n",
    "# Dự đoán và đánh giá\n",
    "y_pred_xgb = best_xgb_model.predict(X_test_sm_dr)\n",
    "print(\"XGBoost Classification Report:\")\n",
    "utils.report(y_pred_xgb, y_test_sm_dr)  "
   ]
  },
  {
   "cell_type": "markdown",
   "id": "be007376",
   "metadata": {},
   "source": [
    "Logistic Regression"
   ]
  },
  {
   "cell_type": "code",
   "execution_count": 31,
   "id": "e332a5ab",
   "metadata": {},
   "outputs": [
    {
     "name": "stdout",
     "output_type": "stream",
     "text": [
      "Best parameters for Logistic Regression: {'solver': 'lbfgs', 'max_iter': 100, 'class_weight': None, 'C': 10}\n",
      "Logistic Regression Classification Report:\n",
      "Classification Report:\n",
      "               precision    recall  f1-score   support\n",
      "\n",
      "           0       0.87      0.89      0.88      1578\n",
      "           1       0.67      0.66      0.67       100\n",
      "           2       1.00      1.00      1.00     18897\n",
      "           3       1.00      1.00      1.00       871\n",
      "           4       0.36      0.67      0.47         6\n",
      "           5       0.40      0.67      0.50         3\n",
      "           6       0.99      1.00      1.00       393\n",
      "           7       0.92      1.00      0.96       220\n",
      "           8       0.89      0.91      0.90       489\n",
      "           9       1.00      0.99      1.00       384\n",
      "          10       0.95      0.91      0.93      1625\n",
      "          11       0.68      0.59      0.63        58\n",
      "\n",
      "    accuracy                           0.98     24624\n",
      "   macro avg       0.81      0.86      0.83     24624\n",
      "weighted avg       0.98      0.98      0.98     24624\n",
      "\n",
      "Confusion Matrix:\n",
      " [[ 1407    27     3     4     4     1     0    18    27     0    80     7]\n",
      " [    7    66     1     0     0     0     0     0    26     0     0     0]\n",
      " [    0     0 18897     0     0     0     0     0     0     0     0     0]\n",
      " [    1     2     0   867     0     1     0     0     0     0     0     0]\n",
      " [    2     0     0     0     4     0     0     0     0     0     0     0]\n",
      " [    1     0     0     0     0     2     0     0     0     0     0     0]\n",
      " [    0     0     0     0     0     0   393     0     0     0     0     0]\n",
      " [    0     0     0     0     0     0     0   220     0     0     0     0]\n",
      " [   42     0     0     0     0     0     0     0   445     0     1     1]\n",
      " [    2     0     0     0     0     0     0     0     0   381     1     0]\n",
      " [  135     2     2     0     3     1     0     1     1     0  1472     8]\n",
      " [   15     1     0     0     0     0     3     0     2     0     3    34]]\n"
     ]
    },
    {
     "name": "stderr",
     "output_type": "stream",
     "text": [
      "c:\\Users\\QUIN\\anaconda3\\envs\\PPNKCH\\lib\\site-packages\\sklearn\\linear_model\\_logistic.py:465: ConvergenceWarning: lbfgs failed to converge (status=1):\n",
      "STOP: TOTAL NO. OF ITERATIONS REACHED LIMIT.\n",
      "\n",
      "Increase the number of iterations (max_iter) or scale the data as shown in:\n",
      "    https://scikit-learn.org/stable/modules/preprocessing.html\n",
      "Please also refer to the documentation for alternative solver options:\n",
      "    https://scikit-learn.org/stable/modules/linear_model.html#logistic-regression\n",
      "  n_iter_i = _check_optimize_result(\n"
     ]
    }
   ],
   "source": [
    "# Định nghĩa không gian tham số cho Logistic Regression\n",
    "param_dist_lr = {\n",
    "    'C': [0.001, 0.01, 0.1, 1, 10, 100],\n",
    "    'max_iter': [100, 500, 1000],\n",
    "    'solver': ['lbfgs', 'saga'],\n",
    "    'class_weight': ['balanced', None]  # Xử lý mất cân bằng\n",
    "}\n",
    "\n",
    "# Khởi tạo mô hình\n",
    "lr_model = model.get_logistic_regression_model(random_state=42)\n",
    "\n",
    "# Tìm kiếm ngẫu nhiên\n",
    "random_search_lr = RandomizedSearchCV(\n",
    "    estimator=lr_model,\n",
    "    param_distributions=param_dist_lr,\n",
    "    n_iter=10,\n",
    "    cv=5,\n",
    "    scoring='f1_macro',  # Phù hợp với dữ liệu mất cân bằng\n",
    "    random_state=42,\n",
    "    n_jobs=-1\n",
    ")\n",
    "\n",
    "# Huấn luyện\n",
    "random_search_lr.fit(X_train_sm_dr, y_train_sm_dr)\n",
    "\n",
    "# Lấy mô hình tốt nhất\n",
    "best_lr_model = random_search_lr.best_estimator_\n",
    "print(\"Best parameters for Logistic Regression:\", random_search_lr.best_params_)\n",
    "\n",
    "# Dự đoán và đánh giá\n",
    "y_pred_lr = best_lr_model.predict(X_test_sm_dr)\n",
    "print(\"Logistic Regression Classification Report:\")\n",
    "utils.report(y_test_sm_dr, y_pred_lr)"
   ]
  },
  {
   "cell_type": "markdown",
   "id": "cb41f9ae",
   "metadata": {},
   "source": [
    "KNN"
   ]
  },
  {
   "cell_type": "code",
   "execution_count": 33,
   "id": "b0270628",
   "metadata": {},
   "outputs": [
    {
     "name": "stdout",
     "output_type": "stream",
     "text": [
      "Best parameters for KNN: {'weights': 'distance', 'n_neighbors': 3, 'metric': 'manhattan'}\n",
      "KNN Classification Report:\n",
      "Classification Report:\n",
      "               precision    recall  f1-score   support\n",
      "\n",
      "           0       0.98      0.99      0.98      1578\n",
      "           1       1.00      1.00      1.00       100\n",
      "           2       1.00      1.00      1.00     18897\n",
      "           3       1.00      1.00      1.00       871\n",
      "           4       0.50      0.83      0.62         6\n",
      "           5       0.67      0.67      0.67         3\n",
      "           6       1.00      1.00      1.00       393\n",
      "           7       0.99      0.99      0.99       220\n",
      "           8       0.99      0.99      0.99       489\n",
      "           9       1.00      0.99      1.00       384\n",
      "          10       0.99      0.98      0.99      1625\n",
      "          11       0.98      0.88      0.93        58\n",
      "\n",
      "    accuracy                           1.00     24624\n",
      "   macro avg       0.92      0.94      0.93     24624\n",
      "weighted avg       1.00      1.00      1.00     24624\n",
      "\n",
      "Confusion Matrix:\n",
      " [[ 1560     0     0     0     3     0     0     1     0     0    14     0]\n",
      " [    0   100     0     0     0     0     0     0     0     0     0     0]\n",
      " [    0     0 18897     0     0     0     0     0     0     0     0     0]\n",
      " [    1     0     0   870     0     0     0     0     0     0     0     0]\n",
      " [    0     0     0     0     5     0     0     0     1     0     0     0]\n",
      " [    1     0     0     0     0     2     0     0     0     0     0     0]\n",
      " [    0     0     0     0     0     0   393     0     0     0     0     0]\n",
      " [    2     0     0     0     0     0     0   218     0     0     0     0]\n",
      " [    3     0     0     0     2     0     0     0   482     0     2     0]\n",
      " [    2     0     0     0     0     0     0     0     1   381     0     0]\n",
      " [   20     0     0     0     0     1     0     2     1     0  1600     1]\n",
      " [    3     0     0     0     0     0     1     0     2     0     1    51]]\n"
     ]
    }
   ],
   "source": [
    "# Định nghĩa không gian tham số cho KNN\n",
    "param_dist_knn = {\n",
    "    'n_neighbors': [3, 5, 7, 9, 11],\n",
    "    'weights': ['uniform', 'distance'],\n",
    "    'metric': ['euclidean', 'manhattan']\n",
    "}\n",
    "\n",
    "# Khởi tạo mô hình\n",
    "knn_model = model.get_knn_model()\n",
    "\n",
    "# Tìm kiếm ngẫu nhiên\n",
    "random_search_knn = RandomizedSearchCV(\n",
    "    estimator=knn_model,\n",
    "    param_distributions=param_dist_knn,\n",
    "    n_iter=10,\n",
    "    cv=5,\n",
    "    scoring='f1_macro',\n",
    "    random_state=42,\n",
    "    n_jobs=-1\n",
    ")\n",
    "\n",
    "# Huấn luyện\n",
    "random_search_knn.fit(X_train_sm_dr, y_train_sm_dr)\n",
    "\n",
    "# Lấy mô hình tốt nhất\n",
    "best_knn_model = random_search_knn.best_estimator_\n",
    "print(\"Best parameters for KNN:\", random_search_knn.best_params_)\n",
    "\n",
    "# Dự đoán và đánh giá\n",
    "y_pred_knn = best_knn_model.predict(X_test_sm_dr)\n",
    "print(\"KNN Classification Report:\")\n",
    "utils.report(y_test_sm_dr, y_pred_knn)"
   ]
  }
 ],
 "metadata": {
  "kernelspec": {
   "display_name": "PPNKCH",
   "language": "python",
   "name": "python3"
  },
  "language_info": {
   "codemirror_mode": {
    "name": "ipython",
    "version": 3
   },
   "file_extension": ".py",
   "mimetype": "text/x-python",
   "name": "python",
   "nbconvert_exporter": "python",
   "pygments_lexer": "ipython3",
   "version": "3.10.16"
  }
 },
 "nbformat": 4,
 "nbformat_minor": 5
}
