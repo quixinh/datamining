{
 "cells": [
  {
   "cell_type": "code",
   "execution_count": null,
   "id": "f48799a8",
   "metadata": {},
   "outputs": [],
   "source": [
    "import pandas as pd\n",
    "import matplotlib.pyplot as plt\n",
    "import seaborn as sns\n",
    "from sklearn.preprocessing import StandardScaler, LabelEncoder\n",
    "from imblearn.over_sampling import SMOTE\n",
    "from sklearn.model_selection import train_test_split\n",
    "import Preprocessing\n",
    "import DataProcessing\n",
    "import model\n",
    "import numpy as np\n",
    "import utils\n",
    "from sklearn.metrics import classification_report\n",
    "from sklearn.metrics import accuracy_score\n",
    "# load data \n",
    "data = Preprocessing.load_data('data/rt_iot2022', target_col='Attack_type')"
   ]
  },
  {
   "cell_type": "code",
   "execution_count": null,
   "id": "181808aa",
   "metadata": {},
   "outputs": [],
   "source": [
    "Preprocessing.check_types(data,\"object\")"
   ]
  },
  {
   "cell_type": "code",
   "execution_count": null,
   "id": "f5fcbf40",
   "metadata": {},
   "outputs": [],
   "source": [
    "data = Preprocessing.delete_columns(data, [\"Unnamed: 0\",'service'])\n",
    "data = data.loc[:, data.columns.notna()]\n",
    "data = Preprocessing.one_hot_encode(data, ['proto'])\n",
    "data = Preprocessing.label_encode(data, ['Attack_type'])\n",
    "print(data.head(5))"
   ]
  },
  {
   "cell_type": "code",
   "execution_count": null,
   "id": "bbabd20e",
   "metadata": {},
   "outputs": [],
   "source": [
    "# Tìm các cột không phải là số (numeric)\n",
    "non_numeric_cols = data.select_dtypes(exclude=[\"number\"]).columns.tolist()\n",
    "print(\"Các cột không phải kiểu số:\")\n",
    "print(non_numeric_cols)\n"
   ]
  },
  {
   "cell_type": "code",
   "execution_count": null,
   "id": "f016b4de",
   "metadata": {},
   "outputs": [],
   "source": [
    "#Tách cột target ra khỏi dữ liệu\n",
    "X, y = data.drop('Attack_type', axis=1), data['Attack_type']\n",
    "X,_ = Preprocessing.scale_data(X)\n",
    "# X_balanced, y_balanced = Preprocessing.apply_smote(X, y)\n",
    "X_train, X_test, y_train, y_test = train_test_split(X,y, test_size=0.2, random_state=42)"
   ]
  },
  {
   "cell_type": "code",
   "execution_count": null,
   "id": "41d535b4",
   "metadata": {},
   "outputs": [],
   "source": [
    "#chưa áp dụng smotesmote\n",
    "X_train_nsm, X_test_nsm, y_train_nsm, y_test_nsm = train_test_split(X,y, test_size=0.2, random_state=42)\n",
    "\n",
    "#áp dụng smote\n",
    "X_train_sm, X_test_sm, y_train_sm, y_test_sm = train_test_split(X, y, test_size=0.2, random_state=42)\n",
    "X_train_sm, y_train_sm = Preprocessing.apply_smote(X_train_sm, y_train_sm)"
   ]
  },
  {
   "cell_type": "markdown",
   "id": "5953c370",
   "metadata": {},
   "source": [
    "Train với dữ liệu chưa giảm chiều"
   ]
  },
  {
   "cell_type": "markdown",
   "id": "e64adbc4",
   "metadata": {},
   "source": [
    "LinearSVC"
   ]
  },
  {
   "cell_type": "code",
   "execution_count": null,
   "id": "e906be4b",
   "metadata": {},
   "outputs": [],
   "source": [
    "model_LinearSVC = model.model_LinearSVC(X_train_sm, y_train_sm)\n",
    "y_pred = model_LinearSVC.predict(X_test_sm)\n",
    "utils.report(y_pred,y_test_sm)"
   ]
  },
  {
   "cell_type": "code",
   "execution_count": null,
   "id": "da0991cf",
   "metadata": {},
   "outputs": [],
   "source": [
    "accuracy = accuracy_score(y_test_sm, y_pred)\n",
    "print(\"Accuracy:\", accuracy)\n",
    "\n",
    "report = classification_report(y_test_sm, y_pred, output_dict=True)\n",
    "print(\"Precision (macro):\", report[\"macro avg\"][\"precision\"])\n",
    "print(\"Recall (macro):\", report[\"macro avg\"][\"recall\"])\n",
    "print(\"F1-score (macro):\", report[\"macro avg\"][\"f1-score\"])\n",
    "print(\"Support (macro):\", report[\"macro avg\"][\"support\"])"
   ]
  },
  {
   "cell_type": "markdown",
   "id": "06c504cd",
   "metadata": {},
   "source": [
    "xgboost"
   ]
  },
  {
   "cell_type": "code",
   "execution_count": null,
   "id": "4c301539",
   "metadata": {},
   "outputs": [],
   "source": [
    "model_xgboost = model.model_xgboost(X_train_sm, y_train_sm,12)\n",
    "y_pred = model_xgboost.predict(X_test_sm)\n",
    "utils.report(y_test_sm, y_pred)"
   ]
  },
  {
   "cell_type": "code",
   "execution_count": null,
   "id": "9113e701",
   "metadata": {},
   "outputs": [],
   "source": [
    "accuracy = accuracy_score(y_test_sm, y_pred)\n",
    "print(\"Accuracy:\", accuracy)\n",
    "\n",
    "report = classification_report(y_test_sm, y_pred, output_dict=True)\n",
    "print(\"Precision (macro):\", report[\"macro avg\"][\"precision\"])\n",
    "print(\"Recall (macro):\", report[\"macro avg\"][\"recall\"])\n",
    "print(\"F1-score (macro):\", report[\"macro avg\"][\"f1-score\"])\n",
    "print(\"Support (macro):\", report[\"macro avg\"][\"support\"])"
   ]
  },
  {
   "cell_type": "markdown",
   "id": "6902d102",
   "metadata": {},
   "source": [
    "logistic_regression"
   ]
  },
  {
   "cell_type": "code",
   "execution_count": null,
   "id": "2613aea3",
   "metadata": {},
   "outputs": [],
   "source": [
    "model_logistic_regression = model.model_logistic_regression(X_train_sm, y_train_sm)\n",
    "y_pred = model_logistic_regression.predict(X_test_sm)\n",
    "utils.report(y_test_sm, y_pred)"
   ]
  },
  {
   "cell_type": "code",
   "execution_count": null,
   "id": "07930d03",
   "metadata": {},
   "outputs": [],
   "source": [
    "accuracy = accuracy_score(y_test_sm,y_pred)\n",
    "print(\"Accuracy:\", accuracy)\n",
    "\n",
    "report = classification_report(y_test_sm,y_pred, output_dict=True)\n",
    "print(\"Precision (macro):\", report[\"macro avg\"][\"precision\"])\n",
    "print(\"Recall (macro):\", report[\"macro avg\"][\"recall\"])\n",
    "print(\"F1-score (macro):\", report[\"macro avg\"][\"f1-score\"])\n",
    "print(\"Support (macro):\", report[\"macro avg\"][\"support\"])"
   ]
  },
  {
   "cell_type": "markdown",
   "id": "7b3a33a8",
   "metadata": {},
   "source": [
    "KNN"
   ]
  },
  {
   "cell_type": "code",
   "execution_count": null,
   "id": "6505d52f",
   "metadata": {},
   "outputs": [],
   "source": [
    "model_knn = model.model_knn(X_train_sm, y_train_sm)\n",
    "y_pred = model_knn.predict(X_test_sm)\n",
    "utils.report(y_test_sm, y_pred)"
   ]
  },
  {
   "cell_type": "code",
   "execution_count": null,
   "id": "80a5a6da",
   "metadata": {},
   "outputs": [],
   "source": [
    "accuracy = accuracy_score(y_test_sm, y_pred)\n",
    "print(\"Accuracy:\", accuracy)\n",
    "\n",
    "report = classification_report(y_test_sm, y_pred, output_dict=True)\n",
    "print(\"Precision (macro):\", report[\"macro avg\"][\"precision\"])\n",
    "print(\"Recall (macro):\", report[\"macro avg\"][\"recall\"])\n",
    "print(\"F1-score (macro):\", report[\"macro avg\"][\"f1-score\"])\n",
    "print(\"Support (macro):\", report[\"macro avg\"][\"support\"])"
   ]
  },
  {
   "cell_type": "markdown",
   "id": "9d034f69",
   "metadata": {},
   "source": [
    "random_forest"
   ]
  },
  {
   "cell_type": "code",
   "execution_count": null,
   "id": "be7bcf1e",
   "metadata": {},
   "outputs": [],
   "source": [
    "model_random_forest = model.model_random_forest(X_train_sm, y_train_sm)\n",
    "y_pred = model_random_forest.predict(X_test_sm)\n",
    "utils.report(y_test_sm, y_pred)"
   ]
  },
  {
   "cell_type": "code",
   "execution_count": null,
   "id": "04dd0950",
   "metadata": {},
   "outputs": [],
   "source": [
    "accuracy = accuracy_score(y_test_sm,y_pred)\n",
    "print(\"Accuracy:\", accuracy)\n",
    "\n",
    "report = classification_report(y_test_sm,y_pred, output_dict=True)\n",
    "print(\"Precision (macro):\", report[\"macro avg\"][\"precision\"])\n",
    "print(\"Recall (macro):\", report[\"macro avg\"][\"recall\"])\n",
    "print(\"F1-score (macro):\", report[\"macro avg\"][\"f1-score\"])\n",
    "print(\"Support (macro):\", report[\"macro avg\"][\"support\"])"
   ]
  },
  {
   "cell_type": "markdown",
   "id": "25347c5f",
   "metadata": {},
   "source": [
    "MLP"
   ]
  },
  {
   "cell_type": "code",
   "execution_count": null,
   "id": "d647b747",
   "metadata": {},
   "outputs": [],
   "source": [
    "model_mlp = model.model_mlp(X_train_sm, y_train_sm, input_size=X_train_sm.shape[1],\n",
    "                  hidden_size1=128, hidden_size2=64, hidden_size3=32, output_size=12, epochs=1000)\n",
    "y_pred = model.predict_mlp(model_mlp, X_test_sm)\n",
    "utils.report(y_test_sm,y_pred)"
   ]
  },
  {
   "cell_type": "code",
   "execution_count": null,
   "id": "41056c58",
   "metadata": {},
   "outputs": [],
   "source": [
    "accuracy = accuracy_score(y_test_sm,y_pred)\n",
    "print(\"Accuracy:\", accuracy)\n",
    "\n",
    "report = classification_report(y_test_sm,y_pred, output_dict=True)\n",
    "print(\"Precision (macro):\", report[\"macro avg\"][\"precision\"])\n",
    "print(\"Recall (macro):\", report[\"macro avg\"][\"recall\"])\n",
    "print(\"F1-score (macro):\", report[\"macro avg\"][\"f1-score\"])\n",
    "print(\"Support (macro):\", report[\"macro avg\"][\"support\"])"
   ]
  },
  {
   "cell_type": "markdown",
   "id": "ca7c14be",
   "metadata": {},
   "source": [
    "Train với dữ liệu đã giảm chiều"
   ]
  },
  {
   "cell_type": "code",
   "execution_count": null,
   "id": "a9e63ef8",
   "metadata": {},
   "outputs": [],
   "source": [
    "# Xử lý dữ liệu\n",
    "list = DataProcessing.select_feature(X_train_sm, y_train_sm)\n",
    "print(len(list))"
   ]
  },
  {
   "cell_type": "code",
   "execution_count": null,
   "id": "f201575d",
   "metadata": {},
   "outputs": [],
   "source": [
    "X_train_sm = X_train_sm[list['Feature']]\n",
    "df_reduced, dropped_columns = DataProcessing.remove_highly_correlated_columns(X_train_sm[list['Feature']], threshold=0.8)"
   ]
  },
  {
   "cell_type": "code",
   "execution_count": null,
   "id": "99e3ff51",
   "metadata": {},
   "outputs": [],
   "source": [
    "X_train_sm_dr = df_reduced\n",
    "X_test_sm_dr = X_test_sm[list['Feature']].drop(dropped_columns, axis=1)\n",
    "y_train_sm_dr = y_train_sm.copy()\n",
    "y_test_sm_dr = y_test_sm.copy()"
   ]
  },
  {
   "cell_type": "markdown",
   "id": "48119e5d",
   "metadata": {},
   "source": [
    "LinearSVC"
   ]
  },
  {
   "cell_type": "code",
   "execution_count": null,
   "id": "bd541e96",
   "metadata": {},
   "outputs": [],
   "source": [
    "model_LinearSVC_dr = model.model_LinearSVC(X_train_sm_dr, y_train_sm_dr)\n",
    "y_pred_dr = model_LinearSVC_dr.predict(X_test_sm_dr)\n",
    "utils.report(y_test_sm_dr,y_pred_dr)"
   ]
  },
  {
   "cell_type": "code",
   "execution_count": null,
   "id": "1ce8bc03",
   "metadata": {},
   "outputs": [],
   "source": [
    "accuracy = accuracy_score(y_test_sm_dr, y_pred_dr)\n",
    "print(\"Accuracy:\", accuracy)\n",
    "\n",
    "report = classification_report(y_test_sm_dr, y_pred_dr, output_dict=True)\n",
    "print(\"Precision (macro):\", report[\"macro avg\"][\"precision\"])\n",
    "print(\"Recall (macro):\", report[\"macro avg\"][\"recall\"])\n",
    "print(\"F1-score (macro):\", report[\"macro avg\"][\"f1-score\"])\n",
    "print(\"Support (macro):\", report[\"macro avg\"][\"support\"])"
   ]
  },
  {
   "cell_type": "markdown",
   "id": "6c9f4225",
   "metadata": {},
   "source": [
    "xgboost"
   ]
  },
  {
   "cell_type": "code",
   "execution_count": null,
   "id": "ef3d8788",
   "metadata": {},
   "outputs": [],
   "source": [
    "model_xgboost_dr = model.model_xgboost(X_train_sm_dr, y_train_sm_dr,12)\n",
    "y_pred_dr = model_xgboost_dr.predict(X_test_sm_dr)\n",
    "utils.report(y_test_sm_dr,y_pred_dr)"
   ]
  },
  {
   "cell_type": "code",
   "execution_count": null,
   "id": "964504f7",
   "metadata": {},
   "outputs": [],
   "source": [
    "accuracy = accuracy_score(y_test_sm_dr,y_pred_dr)\n",
    "print(\"Accuracy:\", accuracy)\n",
    "\n",
    "report = classification_report(y_test_sm_dr,y_pred_dr, output_dict=True)\n",
    "print(\"Precision (macro):\", report[\"macro avg\"][\"precision\"])\n",
    "print(\"Recall (macro):\", report[\"macro avg\"][\"recall\"])\n",
    "print(\"F1-score (macro):\", report[\"macro avg\"][\"f1-score\"])\n",
    "print(\"Support (macro):\", report[\"macro avg\"][\"support\"])"
   ]
  },
  {
   "cell_type": "markdown",
   "id": "efa6aa07",
   "metadata": {},
   "source": [
    "logistic_regression"
   ]
  },
  {
   "cell_type": "code",
   "execution_count": null,
   "id": "44477c4a",
   "metadata": {},
   "outputs": [],
   "source": [
    "model_logistic_regression_dr = model.model_logistic_regression(X_train_sm_dr, y_train_sm_dr)\n",
    "y_pred_dr = model_logistic_regression_dr.predict(X_test_sm_dr)\n",
    "utils.report(y_test_sm_dr,y_pred_dr)"
   ]
  },
  {
   "cell_type": "code",
   "execution_count": null,
   "id": "11a44c08",
   "metadata": {},
   "outputs": [],
   "source": [
    "accuracy = accuracy_score(y_test_sm_dr,y_pred_dr)\n",
    "print(\"Accuracy:\", accuracy)\n",
    "\n",
    "report = classification_report(y_test_sm_dr,y_pred_dr, output_dict=True)\n",
    "print(\"Precision (macro):\", report[\"macro avg\"][\"precision\"])\n",
    "print(\"Recall (macro):\", report[\"macro avg\"][\"recall\"])\n",
    "print(\"F1-score (macro):\", report[\"macro avg\"][\"f1-score\"])\n",
    "print(\"Support (macro):\", report[\"macro avg\"][\"support\"])"
   ]
  },
  {
   "cell_type": "markdown",
   "id": "766d39ad",
   "metadata": {},
   "source": [
    "knn"
   ]
  },
  {
   "cell_type": "code",
   "execution_count": null,
   "id": "48fffdfc",
   "metadata": {},
   "outputs": [],
   "source": [
    "model_knn_dr = model.model_knn(X_train_sm_dr, y_train_sm_dr)\n",
    "y_pred_dr = model_knn_dr.predict(X_test_sm_dr)\n",
    "utils.report(y_test_sm_dr, y_pred_dr)"
   ]
  },
  {
   "cell_type": "code",
   "execution_count": null,
   "id": "a8b47fd8",
   "metadata": {},
   "outputs": [],
   "source": [
    "accuracy = accuracy_score(y_test_sm_dr, y_pred_dr)\n",
    "print(\"Accuracy:\", accuracy)\n",
    "\n",
    "report = classification_report(y_test_sm_dr, y_pred_dr, output_dict=True)\n",
    "print(\"Precision (macro):\", report[\"macro avg\"][\"precision\"])\n",
    "print(\"Recall (macro):\", report[\"macro avg\"][\"recall\"])\n",
    "print(\"F1-score (macro):\", report[\"macro avg\"][\"f1-score\"])\n",
    "print(\"Support (macro):\", report[\"macro avg\"][\"support\"])"
   ]
  },
  {
   "cell_type": "markdown",
   "id": "d10face9",
   "metadata": {},
   "source": [
    "random_forest"
   ]
  },
  {
   "cell_type": "code",
   "execution_count": null,
   "id": "6be85a44",
   "metadata": {},
   "outputs": [],
   "source": [
    "model_random_forest_dr = model.model_random_forest(X_train_sm_dr, y_train_sm_dr)\n",
    "y_pred_dr = model_random_forest_dr.predict(X_test_sm_dr)\n",
    "utils.report(y_test_sm_dr, y_pred_dr)"
   ]
  },
  {
   "cell_type": "code",
   "execution_count": null,
   "id": "ffb8a0ce",
   "metadata": {},
   "outputs": [],
   "source": [
    "accuracy = accuracy_score(y_test_sm_dr, y_pred_dr)\n",
    "print(\"Accuracy:\", accuracy)\n",
    "\n",
    "report = classification_report(y_test_sm_dr, y_pred_dr, output_dict=True)\n",
    "print(\"Precision (macro):\", report[\"macro avg\"][\"precision\"])\n",
    "print(\"Recall (macro):\", report[\"macro avg\"][\"recall\"])\n",
    "print(\"F1-score (macro):\", report[\"macro avg\"][\"f1-score\"])\n",
    "print(\"Support (macro):\", report[\"macro avg\"][\"support\"])"
   ]
  },
  {
   "cell_type": "markdown",
   "id": "08e8cf61",
   "metadata": {},
   "source": [
    "MLP"
   ]
  },
  {
   "cell_type": "code",
   "execution_count": null,
   "id": "5478e387",
   "metadata": {},
   "outputs": [],
   "source": [
    "model_mlp_dr = model.model_mlp(X_train_sm_dr, y_train_sm_dr, input_size=X_train_sm_dr.shape[1],\n",
    "                  hidden_size1=128, hidden_size2=64, hidden_size3=32, output_size=12, epochs=10000)"
   ]
  },
  {
   "cell_type": "code",
   "execution_count": null,
   "id": "66a98e8c",
   "metadata": {},
   "outputs": [],
   "source": [
    "y_pred_dr = model.predict_mlp(model_mlp_dr, X_test_sm_dr)\n",
    "utils.report(y_test_sm, y_pred_dr)\n",
    "\n"
   ]
  },
  {
   "cell_type": "code",
   "execution_count": null,
   "id": "8dcd117a",
   "metadata": {},
   "outputs": [],
   "source": [
    "accuracy = accuracy_score(y_test_sm, y_pred_dr)\n",
    "print(\"Accuracy:\", accuracy)\n",
    "\n",
    "report = classification_report(y_test_sm, y_pred_dr, output_dict=True)\n",
    "print(\"Precision (macro):\", report[\"macro avg\"][\"precision\"])\n",
    "print(\"Recall (macro):\", report[\"macro avg\"][\"recall\"])\n",
    "print(\"F1-score (macro):\", report[\"macro avg\"][\"f1-score\"])\n",
    "print(\"Support (macro):\", report[\"macro avg\"][\"support\"])"
   ]
  },
  {
   "cell_type": "markdown",
   "id": "552883e6",
   "metadata": {},
   "source": [
    "Train mô hỉnh tinh chỉnh."
   ]
  },
  {
   "cell_type": "code",
   "execution_count": null,
   "id": "1a270f3c",
   "metadata": {},
   "outputs": [],
   "source": [
    "\n",
    "# y_pred = model_random_forest.predict(X_test_sm)\n",
    "# utils.report(y_pred,y_test_sm)"
   ]
  },
  {
   "cell_type": "code",
   "execution_count": null,
   "id": "68eeb5e9",
   "metadata": {},
   "outputs": [],
   "source": [
    "from sklearn.model_selection import RandomizedSearchCV\n",
    "from sklearn.ensemble import RandomForestClassifier\n",
    "from scipy.stats import randint"
   ]
  },
  {
   "cell_type": "markdown",
   "id": "a257f815",
   "metadata": {},
   "source": [
    "Random Forest"
   ]
  },
  {
   "cell_type": "code",
   "execution_count": null,
   "id": "7d3671bb",
   "metadata": {},
   "outputs": [],
   "source": [
    "#test\n",
    "# Không gian tham số\n",
    "param_dist = {\n",
    "    'n_estimators': randint(50, 200),\n",
    "    'max_depth': randint(3, 10)\n",
    "}\n",
    "\n",
    "# Khởi tạo mô hình\n",
    "get_random_forest_model_instance = model.get_random_forest_model() \n",
    "# Tìm kiếm ngẫu nhiên\n",
    "random_search = RandomizedSearchCV(\n",
    "    estimator=get_random_forest_model_instance,\n",
    "    param_distributions=param_dist,\n",
    "    n_iter=20,\n",
    "    cv=5,\n",
    "    scoring='f1_macro'\n",
    ")\n",
    "\n",
    "# Huấn luyện\n",
    "random_search.fit(X_train_sm_dr, y_train_sm_dr)\n",
    "\n",
    "# In tham số tốt nhất\n",
    "print(\"Best params:\", random_search.best_params_)\n",
    "# Dự đoán và đánh giá\n",
    "y_pred_rd = random_search.predict(X_test_sm_dr)\n",
    "print(\"XGBoost Classification Report:\")\n",
    "utils.report(y_test_sm_dr,y_pred_rd)  "
   ]
  },
  {
   "cell_type": "code",
   "execution_count": null,
   "id": "444f87b6",
   "metadata": {},
   "outputs": [],
   "source": [
    "accuracy = accuracy_score(y_test_sm_dr,y_pred_rd)\n",
    "print(\"Accuracy:\", accuracy)\n",
    "\n",
    "report = classification_report(y_test_sm_dr,y_pred_rd, output_dict=True)\n",
    "print(\"Precision (macro):\", report[\"macro avg\"][\"precision\"])\n",
    "print(\"Recall (macro):\", report[\"macro avg\"][\"recall\"])\n",
    "print(\"F1-score (macro):\", report[\"macro avg\"][\"f1-score\"])\n",
    "print(\"Support (macro):\", report[\"macro avg\"][\"support\"])"
   ]
  },
  {
   "cell_type": "markdown",
   "id": "4fef2a93",
   "metadata": {},
   "source": [
    "XGBoost"
   ]
  },
  {
   "cell_type": "code",
   "execution_count": null,
   "id": "8706f597",
   "metadata": {},
   "outputs": [],
   "source": [
    "# Không gian tham số\n",
    "# Tính scale_pos_weight\n",
    "class_counts = np.bincount(y_train_sm_dr)\n",
    "param_dist = {\n",
    "    'n_estimators': [50, 100, 200],\n",
    "    'max_depth': [3, 5, 7, 10],\n",
    "    'learning_rate': [0.01, 0.1, 0.2],\n",
    "    'subsample': [0.6, 0.8, 1.0],\n",
    "    'colsample_bytree': [0.6, 0.8, 1.0],\n",
    "    'scale_pos_weight': [1, class_counts.max() / class_counts.min()]  # Xử lý mất cân bằng\n",
    "}\n",
    "\n",
    "# Khởi tạo mô hình\n",
    "xgb_model = model.get_xgboost_model(random_state=42)\n",
    "\n",
    "# Tìm kiếm ngẫu nhiên\n",
    "random_search_xgb = RandomizedSearchCV(\n",
    "    estimator=xgb_model,\n",
    "    param_distributions=param_dist,\n",
    "    n_iter=10,  # Số lần thử ngẫu nhiên\n",
    "    cv=5,       # Cross-validation với 5 fold\n",
    "    scoring='f1_macro',  # Dùng f1_macro để đánh giá tốt hơn với dữ liệu mất cân bằng\n",
    "    random_state=42,\n",
    "    n_jobs=-1    # Sử dụng tất cả CPU\n",
    ")\n",
    "\n",
    "# Huấn luyện\n",
    "random_search_xgb.fit(X_train_sm_dr, y_train_sm_dr)\n",
    "\n",
    "# Lấy mô hình tốt nhất\n",
    "best_xgb_model = random_search_xgb.best_estimator_\n",
    "print(\"Best parameters for XGBoost:\", random_search_xgb.best_params_)\n",
    "\n",
    "# Dự đoán và đánh giá\n",
    "y_pred_xgb = best_xgb_model.predict(X_test_sm_dr)\n",
    "print(\"XGBoost Classification Report:\")\n",
    "utils.report(y_test_sm_dr,y_pred_xgb)  "
   ]
  },
  {
   "cell_type": "code",
   "execution_count": null,
   "id": "76a4442e",
   "metadata": {},
   "outputs": [],
   "source": [
    "accuracy = accuracy_score(y_test_sm_dr, y_pred_xgb)\n",
    "print(\"Accuracy:\", accuracy)\n",
    "\n",
    "report = classification_report(y_test_sm_dr, y_pred_xgb, output_dict=True)\n",
    "print(\"Precision (macro):\", report[\"macro avg\"][\"precision\"])\n",
    "print(\"Recall (macro):\", report[\"macro avg\"][\"recall\"])\n",
    "print(\"F1-score (macro):\", report[\"macro avg\"][\"f1-score\"])\n",
    "print(\"Support (macro):\", report[\"macro avg\"][\"support\"])"
   ]
  },
  {
   "cell_type": "markdown",
   "id": "be007376",
   "metadata": {},
   "source": [
    "Logistic Regression"
   ]
  },
  {
   "cell_type": "code",
   "execution_count": null,
   "id": "e332a5ab",
   "metadata": {},
   "outputs": [],
   "source": [
    "# # Định nghĩa không gian tham số cho Logistic Regression\n",
    "# param_dist_lr = {\n",
    "#     'C': [0.001, 0.01, 0.1, 1, 10, 100],\n",
    "#     'max_iter': [100, 500, 1000],\n",
    "#     'solver': ['lbfgs', 'saga'],\n",
    "#     'class_weight': ['balanced', None]  # Xử lý mất cân bằng\n",
    "# }\n",
    "\n",
    "# # Khởi tạo mô hình\n",
    "# lr_model = model.get_logistic_regression_model(random_state=42)\n",
    "\n",
    "# # Tìm kiếm ngẫu nhiên\n",
    "# random_search_lr = RandomizedSearchCV(\n",
    "#     estimator=lr_model,\n",
    "#     param_distributions=param_dist_lr,\n",
    "#     n_iter=10,\n",
    "#     cv=5,\n",
    "#     scoring='f1_macro',  # Phù hợp với dữ liệu mất cân bằng\n",
    "#     random_state=42,\n",
    "#     n_jobs=-1\n",
    "# )\n",
    "\n",
    "# # Huấn luyện\n",
    "# random_search_lr.fit(X_train_sm_dr, y_train_sm_dr)\n",
    "\n",
    "# # Lấy mô hình tốt nhất\n",
    "# best_lr_model = random_search_lr.best_estimator_\n",
    "# print(\"Best parameters for Logistic Regression:\", random_search_lr.best_params_)\n",
    "\n",
    "# # Dự đoán và đánh giá\n",
    "# y_pred_lr = best_lr_model.predict(X_test_sm_dr)\n",
    "# print(\"Logistic Regression Classification Report:\")\n",
    "# utils.report(y_test_sm_dr, y_pred_lr)"
   ]
  },
  {
   "cell_type": "markdown",
   "id": "cb41f9ae",
   "metadata": {},
   "source": [
    "KNN"
   ]
  },
  {
   "cell_type": "code",
   "execution_count": null,
   "id": "b0270628",
   "metadata": {},
   "outputs": [],
   "source": [
    "# Định nghĩa không gian tham số cho KNN\n",
    "param_dist_knn = {\n",
    "    'n_neighbors': [3, 5, 7, 9, 11],\n",
    "    'weights': ['uniform', 'distance'],\n",
    "    'metric': ['euclidean', 'manhattan']\n",
    "}\n",
    "\n",
    "# Khởi tạo mô hình\n",
    "knn_model = model.get_knn_model()\n",
    "\n",
    "# Tìm kiếm ngẫu nhiên\n",
    "random_search_knn = RandomizedSearchCV(\n",
    "    estimator=knn_model,\n",
    "    param_distributions=param_dist_knn,\n",
    "    n_iter=10,\n",
    "    cv=5,\n",
    "    scoring='f1_macro',\n",
    "    random_state=42,\n",
    "    n_jobs=-1\n",
    ")\n",
    "\n",
    "# Huấn luyện\n",
    "random_search_knn.fit(X_train_sm_dr, y_train_sm_dr)\n",
    "\n",
    "# Lấy mô hình tốt nhất\n",
    "best_knn_model = random_search_knn.best_estimator_\n",
    "print(\"Best parameters for KNN:\", random_search_knn.best_params_)\n",
    "\n",
    "# Dự đoán và đánh giá\n",
    "y_pred_knn = best_knn_model.predict(X_test_sm_dr)\n",
    "print(\"KNN Classification Report:\")\n",
    "utils.report(y_test_sm_dr, y_pred_knn)"
   ]
  },
  {
   "cell_type": "code",
   "execution_count": null,
   "id": "8021c74c",
   "metadata": {},
   "outputs": [],
   "source": [
    "accuracy = accuracy_score(y_test_sm_dr, y_pred_knn)\n",
    "print(\"Accuracy:\", accuracy)\n",
    "\n",
    "report = classification_report(y_test_sm_dr, y_pred_knn, output_dict=True)\n",
    "print(\"Precision (macro):\", report[\"macro avg\"][\"precision\"])\n",
    "print(\"Recall (macro):\", report[\"macro avg\"][\"recall\"])\n",
    "print(\"F1-score (macro):\", report[\"macro avg\"][\"f1-score\"])\n",
    "print(\"Support (macro):\", report[\"macro avg\"][\"support\"])\n"
   ]
  }
 ],
 "metadata": {
  "kernelspec": {
   "display_name": "PPNKCH",
   "language": "python",
   "name": "python3"
  },
  "language_info": {
   "codemirror_mode": {
    "name": "ipython",
    "version": 3
   },
   "file_extension": ".py",
   "mimetype": "text/x-python",
   "name": "python",
   "nbconvert_exporter": "python",
   "pygments_lexer": "ipython3",
   "version": "3.10.16"
  }
 },
 "nbformat": 4,
 "nbformat_minor": 5
}
