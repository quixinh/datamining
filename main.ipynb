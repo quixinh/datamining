{
 "cells": [
  {
   "cell_type": "code",
   "execution_count": 137,
   "id": "f48799a8",
   "metadata": {},
   "outputs": [],
   "source": [
    "import pandas as pd\n",
    "import matplotlib.pyplot as plt\n",
    "import seaborn as sns\n",
    "from sklearn.preprocessing import StandardScaler, LabelEncoder\n",
    "from imblearn.over_sampling import SMOTE\n",
    "from sklearn.model_selection import train_test_split\n",
    "import Preprocessing\n",
    "import DataProcessing\n",
    "import model\n",
    "import utils\n",
    "data = Preprocessing.load_data('data/rt_iot2022', target_col='Attack_type')"
   ]
  },
  {
   "cell_type": "code",
   "execution_count": 138,
   "id": "181808aa",
   "metadata": {},
   "outputs": [
    {
     "name": "stdout",
     "output_type": "stream",
     "text": [
      "proto\n",
      "service\n",
      "Attack_type\n"
     ]
    }
   ],
   "source": [
    "Preprocessing.check_types(data,\"object\")"
   ]
  },
  {
   "cell_type": "code",
   "execution_count": 139,
   "id": "f5fcbf40",
   "metadata": {},
   "outputs": [
    {
     "name": "stdout",
     "output_type": "stream",
     "text": [
      "   id.orig_p  id.resp_p  flow_duration  fwd_pkts_tot  bwd_pkts_tot  \\\n",
      "0      38667       1883      32.011598             9             5   \n",
      "1      51143       1883      31.883584             9             5   \n",
      "2      44761       1883      32.124053             9             5   \n",
      "3      60893       1883      31.961063             9             5   \n",
      "4      51087       1883      31.902362             9             5   \n",
      "\n",
      "   fwd_data_pkts_tot  bwd_data_pkts_tot  fwd_pkts_per_sec  bwd_pkts_per_sec  \\\n",
      "0                  3                  3          0.281148          0.156193   \n",
      "1                  3                  3          0.282277          0.156821   \n",
      "2                  3                  3          0.280164          0.155647   \n",
      "3                  3                  3          0.281593          0.156440   \n",
      "4                  3                  3          0.282111          0.156728   \n",
      "\n",
      "   flow_pkts_per_sec  ...      idle.max      idle.tot      idle.avg  idle.std  \\\n",
      "0           0.437341  ...  2.972918e+07  2.972918e+07  2.972918e+07       0.0   \n",
      "1           0.439097  ...  2.985528e+07  2.985528e+07  2.985528e+07       0.0   \n",
      "2           0.435811  ...  2.984215e+07  2.984215e+07  2.984215e+07       0.0   \n",
      "3           0.438033  ...  2.991377e+07  2.991377e+07  2.991377e+07       0.0   \n",
      "4           0.438839  ...  2.981470e+07  2.981470e+07  2.981470e+07       0.0   \n",
      "\n",
      "   fwd_init_window_size  bwd_init_window_size  fwd_last_window_size  \\\n",
      "0                 64240                 26847                   502   \n",
      "1                 64240                 26847                   502   \n",
      "2                 64240                 26847                   502   \n",
      "3                 64240                 26847                   502   \n",
      "4                 64240                 26847                   502   \n",
      "\n",
      "   Attack_type  proto_tcp  proto_udp  \n",
      "0            3       True      False  \n",
      "1            3       True      False  \n",
      "2            3       True      False  \n",
      "3            3       True      False  \n",
      "4            3       True      False  \n",
      "\n",
      "[5 rows x 84 columns]\n"
     ]
    }
   ],
   "source": [
    "data = Preprocessing.delete_columns(data, [\"Unnamed: 0\",'service'])\n",
    "data = data.loc[:, data.columns.notna()]\n",
    "\n",
    "data = Preprocessing.one_hot_encode(data, ['proto'])\n",
    "data = Preprocessing.label_encode(data, ['Attack_type'])\n",
    "print(data.head(5))"
   ]
  },
  {
   "cell_type": "code",
   "execution_count": 140,
   "id": "bbabd20e",
   "metadata": {},
   "outputs": [
    {
     "name": "stdout",
     "output_type": "stream",
     "text": [
      "Các cột không phải kiểu số:\n",
      "['proto_tcp', 'proto_udp']\n"
     ]
    }
   ],
   "source": [
    "# Tìm các cột không phải là số (numeric)\n",
    "non_numeric_cols = data.select_dtypes(exclude=[\"number\"]).columns.tolist()\n",
    "print(\"Các cột không phải kiểu số:\")\n",
    "print(non_numeric_cols)\n"
   ]
  },
  {
   "cell_type": "code",
   "execution_count": 141,
   "id": "f016b4de",
   "metadata": {},
   "outputs": [],
   "source": [
    "#Tách cột target ra khỏi dữ liệu\n",
    "X, y = data.drop('Attack_type', axis=1), data['Attack_type']\n",
    "# X_balanced, y_balanced = Preprocessing.apply_smote(X, y)\n",
    "X_train, X_test, y_train, y_test = train_test_split(X,y, test_size=0.2, random_state=42)"
   ]
  },
  {
   "cell_type": "code",
   "execution_count": 142,
   "id": "41d535b4",
   "metadata": {},
   "outputs": [],
   "source": [
    "#chưa áp dụng smotesmote\n",
    "X_train_nsm, X_test_nsm, y_train_nsm, y_test_nsm = train_test_split(X,y, test_size=0.2, random_state=42)\n",
    "\n",
    "# áp dụng smote\n",
    "X1,y1 = X.copy(), y.copy()\n",
    "X_sm, y_sm = Preprocessing.apply_smote(X1, y1)\n",
    "X_train_sm, X_test_sm, y_train_sm, y_test_sm = train_test_split(X_sm, y_sm, test_size=0.2, random_state=42)"
   ]
  },
  {
   "cell_type": "code",
   "execution_count": 143,
   "id": "c4d524dd",
   "metadata": {},
   "outputs": [],
   "source": [
    "# Preprocessing.plot_heatmap(X_train_sm[list['Feature']], y_train_sm,'Attack_type')"
   ]
  },
  {
   "cell_type": "code",
   "execution_count": 144,
   "id": "60dead21",
   "metadata": {},
   "outputs": [],
   "source": [
    "# Preprocessing.plot_heatmap(X_train[list['Feature']].drop(dropped_columns, axis=1), y_train,'Attack_type')"
   ]
  },
  {
   "cell_type": "markdown",
   "id": "5953c370",
   "metadata": {},
   "source": [
    "Train với dữ liệu chưa giảm chiều"
   ]
  },
  {
   "cell_type": "code",
   "execution_count": 145,
   "id": "6bf9bc5a",
   "metadata": {},
   "outputs": [],
   "source": [
    "# x2 = X_train[list['Feature']].drop(dropped_columns, axis=1)"
   ]
  },
  {
   "cell_type": "code",
   "execution_count": 146,
   "id": "a3b6f1a7",
   "metadata": {},
   "outputs": [],
   "source": [
    "# print(len(X_train.columns))"
   ]
  },
  {
   "cell_type": "code",
   "execution_count": 147,
   "id": "e906be4b",
   "metadata": {},
   "outputs": [],
   "source": [
    "# model_LinearSVC = model.model_LinearSVC(X_train_sm, y_train_sm)\n",
    "# y_pred = model_LinearSVC.predict(X_test_sm)\n",
    "# utils.report(y_pred,y_test_sm)"
   ]
  },
  {
   "cell_type": "code",
   "execution_count": 148,
   "id": "4c301539",
   "metadata": {},
   "outputs": [],
   "source": [
    "# model_xgboost = model.model_xgboost(X_train_sm, y_train_sm,12)\n",
    "# y_pred = model_xgboost.predict(X_test_sm)\n",
    "# utils.report(y_pred,y_test_sm)"
   ]
  },
  {
   "cell_type": "code",
   "execution_count": 149,
   "id": "2613aea3",
   "metadata": {},
   "outputs": [],
   "source": [
    "# model_logistic_regression = model.model_logistic_regression(X_train_sm, y_train_smsm)\n",
    "# y_pred = model_logistic_regression.predict(X_test_sm)\n",
    "# utils.report(y_pred,y_test_sm)"
   ]
  },
  {
   "cell_type": "code",
   "execution_count": 150,
   "id": "6505d52f",
   "metadata": {},
   "outputs": [],
   "source": [
    "# model_knn = model.model_knn(X_train_sm, y_train_sm)\n",
    "# y_pred = model_knn.predict(X_test_sm)\n",
    "# utils.report(y_pred,y_test_sm)"
   ]
  },
  {
   "cell_type": "code",
   "execution_count": 151,
   "id": "be7bcf1e",
   "metadata": {},
   "outputs": [],
   "source": [
    "# model_random_forest = model.model_random_forest(X_train_sm, y_train_sm)\n",
    "# y_pred = model_random_forest.predict(X_test_sm)\n",
    "# utils.report(y_pred,y_test_sm)"
   ]
  },
  {
   "cell_type": "markdown",
   "id": "ca7c14be",
   "metadata": {},
   "source": [
    "Train với dữ liệu đã giảm chiều"
   ]
  },
  {
   "cell_type": "code",
   "execution_count": 152,
   "id": "a9e63ef8",
   "metadata": {},
   "outputs": [
    {
     "name": "stderr",
     "output_type": "stream",
     "text": [
      "c:\\Users\\QUIN\\Desktop\\PPNCKH\\DataProcessing.py:29: FutureWarning: \n",
      "\n",
      "Passing `palette` without assigning `hue` is deprecated and will be removed in v0.14.0. Assign the `y` variable to `hue` and set `legend=False` for the same effect.\n",
      "\n",
      "  sns.barplot(data=top_features, x='Importance', y='Feature', palette='viridis')\n"
     ]
    },
    {
     "data": {
      "image/png": "[encoded data removed]",
      "text/plain": [
       "<Figure size 1000x800 with 1 Axes>"
      ]
     },
     "metadata": {},
     "output_type": "display_data"
    },
    {
     "name": "stdout",
     "output_type": "stream",
     "text": [
      "40\n"
     ]
    }
   ],
   "source": [
    "# Xử lý dữ liệu\n",
    "list = DataProcessing.select_feature(X_train_sm, y_train_sm)\n",
    "print(len(list))"
   ]
  },
  {
   "cell_type": "code",
   "execution_count": 153,
   "id": "f201575d",
   "metadata": {},
   "outputs": [],
   "source": [
    "X_train_sm = X_train_sm[list['Feature']]"
   ]
  },
  {
   "cell_type": "code",
   "execution_count": 154,
   "id": "49f737bc",
   "metadata": {},
   "outputs": [
    {
     "name": "stdout",
     "output_type": "stream",
     "text": [
      "Các cột bị loại bỏ: ['fwd_data_pkts_tot', 'flow_iat.tot', 'bwd_pkts_payload.avg', 'fwd_iat.tot', 'active.min', 'flow_iat.avg', 'flow_pkts_payload.max', 'fwd_iat.max', 'flow_iat.std', 'bwd_pkts_payload.max', 'fwd_iat.avg', 'flow_SYN_flag_count', 'bwd_pkts_payload.tot', 'bwd_subflow_bytes', 'fwd_header_size_max', 'active.max', 'fwd_pkts_payload.avg']\n"
     ]
    }
   ],
   "source": [
    "df_reduced, dropped_columns = DataProcessing.remove_highly_correlated_columns(X_train_sm[list['Feature']], threshold=0.8)"
   ]
  },
  {
   "cell_type": "code",
   "execution_count": 155,
   "id": "99e3ff51",
   "metadata": {},
   "outputs": [],
   "source": [
    "X_train_sm_dr = df_reduced\n",
    "X_test_sm_dr = X_test_sm[list['Feature']].drop(dropped_columns, axis=1)\n",
    "y_train_sm_dr = y_train_sm.copy()\n",
    "y_test_sm_dr = y_test_sm.copy()"
   ]
  },
  {
   "cell_type": "code",
   "execution_count": 156,
   "id": "6be85a44",
   "metadata": {},
   "outputs": [
    {
     "name": "stdout",
     "output_type": "stream",
     "text": [
      "Classification Report:\n",
      "               precision    recall  f1-score   support\n",
      "\n",
      "           0       1.00      0.99      0.99      1585\n",
      "           1       1.00      1.00      1.00       411\n",
      "           2       1.00      1.00      1.00     18898\n",
      "           3       1.00      1.00      1.00       882\n",
      "           4       0.99      0.99      0.99       385\n",
      "           5       1.00      1.00      1.00       397\n",
      "           6       1.00      1.00      1.00       433\n",
      "           7       1.00      1.00      1.00       380\n",
      "           8       1.00      0.99      1.00       502\n",
      "           9       1.00      1.00      1.00       405\n",
      "          10       0.99      1.00      0.99      1591\n",
      "          11       0.99      0.99      0.99       384\n",
      "\n",
      "    accuracy                           1.00     26253\n",
      "   macro avg       1.00      1.00      1.00     26253\n",
      "weighted avg       1.00      1.00      1.00     26253\n",
      "\n",
      "Confusion Matrix:\n",
      " [[ 1563     0     0     0     2     1     0     0     1     0    17     1]\n",
      " [    0   411     0     0     0     0     0     0     0     0     0     0]\n",
      " [    0     0 18898     0     0     0     0     0     0     0     0     0]\n",
      " [    0     0     0   881     0     0     0     0     0     0     0     1]\n",
      " [    2     1     0     0   382     0     0     0     0     0     0     0]\n",
      " [    0     0     0     0     0   397     0     0     0     0     0     0]\n",
      " [    0     0     0     0     0     0   433     0     0     0     0     0]\n",
      " [    0     0     0     0     0     0     0   380     0     0     0     0]\n",
      " [    0     1     0     0     0     0     0     0   499     0     2     0]\n",
      " [    0     0     0     0     0     0     0     0     1   404     0     0]\n",
      " [    5     0     0     1     0     0     0     0     0     0  1584     1]\n",
      " [    0     0     0     0     0     0     0     0     0     0     3   381]]\n"
     ]
    }
   ],
   "source": [
    "model_random_forest = model.model_random_forest(X_train_sm_dr, y_train_sm)\n",
    "y_pred = model_random_forest.predict(X_test_sm_dr)\n",
    "utils.report(y_pred,y_test_sm)"
   ]
  },
  {
   "cell_type": "markdown",
   "id": "552883e6",
   "metadata": {},
   "source": [
    "Train mô hỉnh tinh chỉnh."
   ]
  },
  {
   "cell_type": "code",
   "execution_count": 157,
   "id": "d16bc255",
   "metadata": {},
   "outputs": [],
   "source": [
    "# model_svc_k_linear = model.SVM(X_train, y_train , C=1.0, kernel='linear', gamma='scale')\n",
    "# model_svc_k_linear_predict = model_svc_k_linear.predict(X_test)\n",
    "# utils.report(model_svc_k_linear_predict, y_test)"
   ]
  },
  {
   "cell_type": "code",
   "execution_count": 158,
   "id": "8052ecec",
   "metadata": {},
   "outputs": [],
   "source": [
    "# model_svc_k_rbf = model.SVM(X_train, y_train,C=1.0, kernel='rbf', gamma='scale')\n",
    "# model_svc_k_rbf_predict = model_svc_k_rbf.predict(X_test)\n",
    "# utils.report(model_svc_k_linear_predict, y_test)"
   ]
  },
  {
   "cell_type": "code",
   "execution_count": 159,
   "id": "6e15afb1",
   "metadata": {},
   "outputs": [],
   "source": [
    "# from sklearn.ensemble import RandomForestClassifier\n",
    "# from sklearn.metrics import classification_report, confusion_matrix\n",
    "# # 👉 4. Khởi tạo và huấn luyện mô hình Random Forest\n",
    "# rf_model = RandomForestClassifier(n_estimators=100,class_weight='balanced', random_state=42)\n",
    "# rf_model.fit(X_train, y_train)\n",
    "\n",
    "# # 👉 5. Dự đoán\n",
    "# y_pred = rf_model.predict(X_test)\n",
    "\n",
    "# # 👉 6. Đánh giá\n",
    "# print(\"Classification Report:\\n\", classification_report(y_test, y_pred))\n",
    "# print(\"Confusion Matrix:\\n\", confusion_matrix(y_test, y_pred))\n"
   ]
  },
  {
   "cell_type": "code",
   "execution_count": 160,
   "id": "9e0befec",
   "metadata": {},
   "outputs": [],
   "source": [
    "# print(\"Classification Report:\\n\", classification_report(y_test, y_pred))\n",
    "# print(y_test.value_counts())\n",
    "# print(\"Confusion Matrix:\\n\", confusion_matrix(y_test, y_pred))"
   ]
  },
  {
   "cell_type": "code",
   "execution_count": 161,
   "id": "6deb7dc6",
   "metadata": {},
   "outputs": [],
   "source": [
    "# # kiểm tra hiệu suất\n",
    "# from sklearn.svm import SVC\n",
    "# svm = SVC(kernel='linear')\n",
    "# svm.fit(X_train[list['Feature']].drop(dropped_columns, axis=1), y_train)\n",
    "\n",
    "# X_test_selected_reduced = X_test.drop(columns=X_train[list['Feature']].drop(dropped_columns, axis=1).columns, errors='ignore')\n",
    "# accuracy = svm.score(X_test_selected_reduced, y_test)\n",
    "# print(f\"Accuracy on test set after feature reduction: {accuracy:.4f}\")"
   ]
  },
  {
   "cell_type": "code",
   "execution_count": 162,
   "id": "dd626cb8",
   "metadata": {},
   "outputs": [],
   "source": [
    "# #kiểm tra nhãn dạng categorycal\n",
    "# categorical_columns = data.select_dtypes(include=['object', 'category']).columns\n",
    "# print(f\"Các cột categorical: {list(categorical_columns)}\")\n",
    "# print(f\"Số lượng cột categorical: {len(categorical_columns)}\")\n",
    "# for col in categorical_columns:\n",
    "#     print(f\"\\nCột '{col}':\")\n",
    "#     print(f\"Giá trị duy nhất: {data[col].unique()}\")\n",
    "#     print(f\"Số lượng giá trị duy nhất: {data[col].nunique()}\")\n",
    "# #kiểm tra số lượng '-'.\n",
    "# print(data['service'].value_counts()) # có ther"
   ]
  },
  {
   "cell_type": "code",
   "execution_count": 163,
   "id": "24414d3f",
   "metadata": {},
   "outputs": [],
   "source": [
    "#Kiểm tra giá trị null nào không?"
   ]
  },
  {
   "cell_type": "code",
   "execution_count": 164,
   "id": "6c499903",
   "metadata": {},
   "outputs": [],
   "source": [
    "#drop cột service\n",
    "# data.drop(columns=['service'], inplace=True)"
   ]
  },
  {
   "cell_type": "code",
   "execution_count": 165,
   "id": "ed154ffa",
   "metadata": {},
   "outputs": [],
   "source": [
    "# # one-hot encoding cho cột categorical\n",
    "# from sklearn.preprocessing import OneHotEncoder\n",
    "\n",
    "# # 2. Tạo ví dụ DataFrame\n",
    "# df  = data\n",
    "\n",
    "# # 3. Xác định cột cần one-hot encode\n",
    "# categorical_cols = ['proto']\n",
    "\n",
    "# # 4. Khởi tạo OneHotEncoder\n",
    "# encoder = OneHotEncoder(sparse_output=False, handle_unknown='ignore')\n",
    "\n",
    "\n",
    "# # 5. Fit và transform dữ liệu\n",
    "# encoded_array = encoder.fit_transform(df[categorical_cols])\n",
    "\n",
    "# # 6. Lấy tên cột mới sau khi encode\n",
    "# encoded_col_names = encoder.get_feature_names_out(categorical_cols)\n",
    "\n",
    "# # 7. Tạo DataFrame từ mảng đã encode\n",
    "# encoded_df = pd.DataFrame(encoded_array, columns=encoded_col_names)\n",
    "\n",
    "# # 8. Bỏ các cột cũ & ghép với cột encode mới\n",
    "# df_encoded = pd.concat([\n",
    "#     df.drop(columns=categorical_cols).reset_index(drop=True),\n",
    "#     encoded_df.reset_index(drop=True)\n",
    "# ], axis=1)\n",
    "\n",
    "# # 9. In kết quả\n",
    "# data = df_encoded"
   ]
  },
  {
   "cell_type": "code",
   "execution_count": 166,
   "id": "705c6a88",
   "metadata": {},
   "outputs": [],
   "source": [
    "# from sklearn.preprocessing import LabelEncoder\n",
    "# import pandas as pd\n",
    "\n",
    "# def label_encode_column(df, column_name):\n",
    "#     if column_name not in df.columns:\n",
    "#         raise ValueError(f\"Cột '{column_name}' không tồn tại trong DataFrame\")\n",
    "    \n",
    "#     encoder = LabelEncoder()\n",
    "    \n",
    "#     df[column_name] = encoder.fit_transform(df[column_name])\n",
    "    \n",
    "#     return df, encoder\n",
    "# data, encoder = label_encode_column(data, 'Attack_type')\n",
    "# print(encoder.classes_)\n"
   ]
  },
  {
   "cell_type": "code",
   "execution_count": 167,
   "id": "e31e99e3",
   "metadata": {},
   "outputs": [],
   "source": [
    "# import seaborn as sns\n",
    "# import matplotlib.pyplot as plt\n",
    "# # Tính ma trận tương quan\n",
    "# corr_matrix = data.corr(numeric_only=True)\n",
    "# plt.figure(figsize=(12, 10))\n",
    "# sns.heatmap(corr_matrix, annot=False, cmap='coolwarm')\n",
    "# plt.title(\"Correlation Matrix (without Attack_type)\")\n",
    "# plt.show()\n"
   ]
  },
  {
   "cell_type": "code",
   "execution_count": 168,
   "id": "ab000b07",
   "metadata": {},
   "outputs": [],
   "source": [
    "# import pandas as pd\n",
    "# def remove_highly_correlated_columns(df, threshold=0.8, target_column=None):\n",
    "#     # Tính ma trận tương quan\n",
    "#     corr_matrix = df.corr().abs()  # Lấy giá trị tuyệt đối để xem xét cả tương quan âm\n",
    "    \n",
    "#     # Tạo một tập để lưu các cột cần loại bỏ\n",
    "#     to_drop = set()\n",
    "    \n",
    "#     # Duyệt qua ma trận tương quan\n",
    "#     for i in range(len(corr_matrix.columns)):\n",
    "#         for j in range(i + 1, len(corr_matrix.columns)):\n",
    "#             if corr_matrix.iloc[i, j] >= threshold:\n",
    "#                 colname_i = corr_matrix.columns[i]\n",
    "#                 colname_j = corr_matrix.columns[j]\n",
    "                \n",
    "#                 # Không loại bỏ cột mục tiêu\n",
    "#                 if target_column and (colname_i == target_column or colname_j == target_column):\n",
    "#                     continue\n",
    "                \n",
    "#                 # Loại bỏ cột có tổng tương quan lớn hơn với các cột khác\n",
    "#                 if colname_j not in to_drop:\n",
    "#                     to_drop.add(colname_j)\n",
    "    \n",
    "#     # Loại bỏ các cột\n",
    "#     df_reduced = df.drop(columns=to_drop)\n",
    "#     dropped_columns = list(to_drop)\n",
    "    \n",
    "#     print(f\"Các cột bị loại bỏ: {dropped_columns}\")\n",
    "    \n",
    "#     return df_reduced, dropped_columns\n",
    "# df_reduced, dropped_columns = remove_highly_correlated_columns(data, threshold=0.8, target_column='attack_type')\n",
    "    \n",
    "# print(\"\\nDataFrame sau khi loại bỏ:\")\n",
    "# print(df_reduced)\n",
    "# print(\"\\nDanh sách các cột bị loại bỏ:\")\n",
    "# print(dropped_columns)\n"
   ]
  },
  {
   "cell_type": "code",
   "execution_count": 169,
   "id": "4e8bbbfb",
   "metadata": {},
   "outputs": [],
   "source": [
    "# import seaborn as sns\n",
    "# import matplotlib.pyplot as plt\n",
    "# # Tính ma trận tương quan\n",
    "# corr_matrix = df_reduced.corr(numeric_only=True)\n",
    "# plt.figure(figsize=(12, 10))\n",
    "# sns.heatmap(corr_matrix, annot=False, cmap='coolwarm')\n",
    "# plt.title(\"Correlation Matrix (without Attack_type)\")\n",
    "# plt.show()"
   ]
  },
  {
   "cell_type": "code",
   "execution_count": 170,
   "id": "5e3abc6a",
   "metadata": {},
   "outputs": [],
   "source": [
    "# # Vẽ biểu đồ phân phối nhãn\n",
    "# plt.figure(figsize=(10, 6))\n",
    "# print(data['Attack_type'].value_counts())\n",
    "# data['Attack_type'].value_counts().plot(kind='bar')\n",
    "# plt.title('Phân phối các lớp trong RT-IoT2022')\n",
    "# plt.xlabel('Nhãn')\n",
    "# plt.ylabel('Số lượng')\n",
    "# plt.xticks(rotation=45)\n",
    "# plt.show()"
   ]
  },
  {
   "cell_type": "code",
   "execution_count": 171,
   "id": "470d2656",
   "metadata": {},
   "outputs": [],
   "source": [
    "# # Kiểm tra giá trị thiếu\n",
    "# print(\"\\nGiá trị thiếu:\")\n",
    "# print(data.isnull().sum())"
   ]
  },
  {
   "cell_type": "code",
   "execution_count": 172,
   "id": "c8033b89",
   "metadata": {},
   "outputs": [],
   "source": [
    "# # 2. Xử lý dữ liệu\n",
    "# # 2.1. Xử lý giá trị thiếu\n",
    "# numeric_columns = data.select_dtypes(include=['float64', 'int64']).columns\n",
    "# data[numeric_columns] = data[numeric_columns].fillna(data[numeric_columns].mean())\n",
    "# print(\"\\nGiá trị thiếu sau khi xử lý:\")\n",
    "# print(data.isnull().sum())\n",
    "\n",
    "# # 2.2. Chuẩn hóa đặc trưng\n",
    "# X = data.drop('Attack_type', axis=1)\n",
    "# y = data['Attack_type']\n",
    "# scaler = StandardScaler()\n",
    "# X_scaled = scaler.fit_transform(X)\n",
    "# X_scaled = pd.DataFrame(X_scaled, columns=X.columns)"
   ]
  },
  {
   "cell_type": "code",
   "execution_count": 173,
   "id": "4917304a",
   "metadata": {},
   "outputs": [],
   "source": [
    "\n",
    "# # 2.3. Mã hóa nhãn\n",
    "# encoder = LabelEncoder()\n",
    "# y_encoded = encoder.fit_transform(y)\n",
    "# print(\"\\nÁnh xạ nhãn:\")\n",
    "# for label, encoded in zip(encoder.classes_, range(len(encoder.classes_))):\n",
    "#     print(f\"{label}: {encoded}\")"
   ]
  },
  {
   "cell_type": "code",
   "execution_count": 174,
   "id": "a80fd57d",
   "metadata": {},
   "outputs": [],
   "source": [
    "\n",
    "# # 2.4. Xử lý mất cân bằng lớp\n",
    "# smote = SMOTE(random_state=42)\n",
    "# X_balanced, y_balanced = smote.fit_resample(X_scaled, y_encoded)\n",
    "# print(\"\\nPhân phối nhãn sau khi cân bằng:\")\n",
    "# balanced_labels = pd.Series(y_balanced).value_counts()\n",
    "# for label, count in zip(encoder.classes_, balanced_labels):\n",
    "#     print(f\"{label}: {count}\")\n",
    "\n",
    "# # Vẽ biểu đồ phân phối nhãn sau SMOTE\n",
    "# plt.figure(figsize=(10, 6))\n",
    "# pd.Series(y_balanced).value_counts().plot(kind='bar')\n",
    "# plt.title('Phân phối các lớp sau SMOTE')\n",
    "# plt.xlabel('Nhãn (mã hóa)')\n",
    "# plt.ylabel('Số lượng')\n",
    "# plt.xticks(ticks=range(len(encoder.classes_)), labels=encoder.classes_, rotation=45)\n",
    "# plt.show()"
   ]
  },
  {
   "cell_type": "code",
   "execution_count": 175,
   "id": "29397913",
   "metadata": {},
   "outputs": [],
   "source": [
    "# # 3. Chia dữ liệu\n",
    "# X_train, X_test, y_train, y_test = train_test_split(\n",
    "#     X_balanced, y_balanced, test_size=0.2, random_state=42, stratify=y_balanced\n",
    "# )\n",
    "# print(\"\\nKích thước tập huấn luyện:\", X_train.shape, y_train.shape)\n",
    "# print(\"Kích thước tập kiểm tra:\", X_test.shape, y_test.shape)\n",
    "# print(\"\\nPhân phối nhãn trong tập huấn luyện:\")\n",
    "# print(pd.Series(y_train).value_counts())\n",
    "# print(\"\\nPhân phối nhãn trong tập kiểm tra:\")\n",
    "# print(pd.Series(y_test).value_counts())"
   ]
  }
 ],
 "metadata": {
  "kernelspec": {
   "display_name": "PPNKCH",
   "language": "python",
   "name": "python3"
  },
  "language_info": {
   "codemirror_mode": {
    "name": "ipython",
    "version": 3
   },
   "file_extension": ".py",
   "mimetype": "text/x-python",
   "name": "python",
   "nbconvert_exporter": "python",
   "pygments_lexer": "ipython3",
   "version": "3.10.16"
  }
 },
 "nbformat": 4,
 "nbformat_minor": 5
}
