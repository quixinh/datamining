{
 "cells": [
  {
   "cell_type": "code",
   "execution_count": 1,
   "id": "f48799a8",
   "metadata": {},
   "outputs": [
    {
     "name": "stderr",
     "output_type": "stream",
     "text": [
      "c:\\Users\\QUIN\\anaconda3\\envs\\PPNKCH\\lib\\site-packages\\tqdm\\auto.py:21: TqdmWarning: IProgress not found. Please update jupyter and ipywidgets. See https://ipywidgets.readthedocs.io/en/stable/user_install.html\n",
      "  from .autonotebook import tqdm as notebook_tqdm\n"
     ]
    }
   ],
   "source": [
    "import pandas as pd\n",
    "import matplotlib.pyplot as plt\n",
    "import seaborn as sns\n",
    "from sklearn.preprocessing import StandardScaler, LabelEncoder\n",
    "from imblearn.over_sampling import SMOTE\n",
    "from sklearn.model_selection import train_test_split\n",
    "import Preprocessing\n",
    "import DataProcessing\n",
    "import model\n",
    "import numpy as np\n",
    "import utils\n",
    "data = Preprocessing.load_data('data/rt_iot2022', target_col='Attack_type')"
   ]
  },
  {
   "cell_type": "code",
   "execution_count": 2,
   "id": "181808aa",
   "metadata": {},
   "outputs": [
    {
     "name": "stdout",
     "output_type": "stream",
     "text": [
      "proto\n",
      "service\n",
      "Attack_type\n"
     ]
    }
   ],
   "source": [
    "Preprocessing.check_types(data,\"object\")"
   ]
  },
  {
   "cell_type": "code",
   "execution_count": 3,
   "id": "f5fcbf40",
   "metadata": {},
   "outputs": [
    {
     "name": "stdout",
     "output_type": "stream",
     "text": [
      "   id.orig_p  id.resp_p  flow_duration  fwd_pkts_tot  bwd_pkts_tot  \\\n",
      "0      38667       1883      32.011598             9             5   \n",
      "1      51143       1883      31.883584             9             5   \n",
      "2      44761       1883      32.124053             9             5   \n",
      "3      60893       1883      31.961063             9             5   \n",
      "4      51087       1883      31.902362             9             5   \n",
      "\n",
      "   fwd_data_pkts_tot  bwd_data_pkts_tot  fwd_pkts_per_sec  bwd_pkts_per_sec  \\\n",
      "0                  3                  3          0.281148          0.156193   \n",
      "1                  3                  3          0.282277          0.156821   \n",
      "2                  3                  3          0.280164          0.155647   \n",
      "3                  3                  3          0.281593          0.156440   \n",
      "4                  3                  3          0.282111          0.156728   \n",
      "\n",
      "   flow_pkts_per_sec  ...      idle.max      idle.tot      idle.avg  idle.std  \\\n",
      "0           0.437341  ...  2.972918e+07  2.972918e+07  2.972918e+07       0.0   \n",
      "1           0.439097  ...  2.985528e+07  2.985528e+07  2.985528e+07       0.0   \n",
      "2           0.435811  ...  2.984215e+07  2.984215e+07  2.984215e+07       0.0   \n",
      "3           0.438033  ...  2.991377e+07  2.991377e+07  2.991377e+07       0.0   \n",
      "4           0.438839  ...  2.981470e+07  2.981470e+07  2.981470e+07       0.0   \n",
      "\n",
      "   fwd_init_window_size  bwd_init_window_size  fwd_last_window_size  \\\n",
      "0                 64240                 26847                   502   \n",
      "1                 64240                 26847                   502   \n",
      "2                 64240                 26847                   502   \n",
      "3                 64240                 26847                   502   \n",
      "4                 64240                 26847                   502   \n",
      "\n",
      "   Attack_type  proto_tcp  proto_udp  \n",
      "0            3       True      False  \n",
      "1            3       True      False  \n",
      "2            3       True      False  \n",
      "3            3       True      False  \n",
      "4            3       True      False  \n",
      "\n",
      "[5 rows x 84 columns]\n"
     ]
    }
   ],
   "source": [
    "data = Preprocessing.delete_columns(data, [\"Unnamed: 0\",'service'])\n",
    "data = data.loc[:, data.columns.notna()]\n",
    "data = Preprocessing.one_hot_encode(data, ['proto'])\n",
    "data = Preprocessing.label_encode(data, ['Attack_type'])\n",
    "print(data.head(5))"
   ]
  },
  {
   "cell_type": "code",
   "execution_count": 4,
   "id": "bbabd20e",
   "metadata": {},
   "outputs": [
    {
     "name": "stdout",
     "output_type": "stream",
     "text": [
      "Các cột không phải kiểu số:\n",
      "['proto_tcp', 'proto_udp']\n"
     ]
    }
   ],
   "source": [
    "# Tìm các cột không phải là số (numeric)\n",
    "non_numeric_cols = data.select_dtypes(exclude=[\"number\"]).columns.tolist()\n",
    "print(\"Các cột không phải kiểu số:\")\n",
    "print(non_numeric_cols)\n"
   ]
  },
  {
   "cell_type": "code",
   "execution_count": 5,
   "id": "f016b4de",
   "metadata": {},
   "outputs": [],
   "source": [
    "#Tách cột target ra khỏi dữ liệu\n",
    "X, y = data.drop('Attack_type', axis=1), data['Attack_type']\n",
    "X,_ = Preprocessing.scale_data(X)\n",
    "# X_balanced, y_balanced = Preprocessing.apply_smote(X, y)\n",
    "X_train, X_test, y_train, y_test = train_test_split(X,y, test_size=0.2, random_state=42)"
   ]
  },
  {
   "cell_type": "code",
   "execution_count": 6,
   "id": "41d535b4",
   "metadata": {},
   "outputs": [],
   "source": [
    "#chưa áp dụng smotesmote\n",
    "X_train_nsm, X_test_nsm, y_train_nsm, y_test_nsm = train_test_split(X,y, test_size=0.2, random_state=42)\n",
    "\n",
    "#áp dụng smote\n",
    "X_train_sm, X_test_sm, y_train_sm, y_test_sm = train_test_split(X, y, test_size=0.2, random_state=42)\n",
    "X_train_sm, y_train_sm = Preprocessing.apply_smote(X_train_sm, y_train_sm)"
   ]
  },
  {
   "cell_type": "code",
   "execution_count": 7,
   "id": "c4d524dd",
   "metadata": {},
   "outputs": [],
   "source": [
    "# Preprocessing.plot_heatmap(X_train_sm[list['Feature']], y_train_sm,'Attack_type')"
   ]
  },
  {
   "cell_type": "code",
   "execution_count": 8,
   "id": "60dead21",
   "metadata": {},
   "outputs": [],
   "source": [
    "# Preprocessing.plot_heatmap(X_train[list['Feature']].drop(dropped_columns, axis=1), y_train,'Attack_type')"
   ]
  },
  {
   "cell_type": "markdown",
   "id": "5953c370",
   "metadata": {},
   "source": [
    "Train với dữ liệu chưa giảm chiều"
   ]
  },
  {
   "cell_type": "code",
   "execution_count": 9,
   "id": "6bf9bc5a",
   "metadata": {},
   "outputs": [],
   "source": [
    "# x2 = X_train[list['Feature']].drop(dropped_columns, axis=1)"
   ]
  },
  {
   "cell_type": "code",
   "execution_count": 10,
   "id": "a3b6f1a7",
   "metadata": {},
   "outputs": [],
   "source": [
    "# print(len(X_train.columns))"
   ]
  },
  {
   "cell_type": "code",
   "execution_count": null,
   "id": "e906be4b",
   "metadata": {},
   "outputs": [],
   "source": [
    "model_LinearSVC = model.model_LinearSVC(X_train_sm, y_train_sm)\n",
    "y_pred = model_LinearSVC.predict(X_test_sm)\n",
    "utils.report(y_pred,y_test_sm)"
   ]
  },
  {
   "cell_type": "code",
   "execution_count": null,
   "id": "4c301539",
   "metadata": {},
   "outputs": [
    {
     "name": "stderr",
     "output_type": "stream",
     "text": [
      "c:\\Users\\QUIN\\anaconda3\\envs\\PPNKCH\\lib\\site-packages\\xgboost\\training.py:183: UserWarning: [01:39:57] WARNING: C:\\actions-runner\\_work\\xgboost\\xgboost\\src\\learner.cc:738: \n",
      "Parameters: { \"use_label_encoder\" } are not used.\n",
      "\n",
      "  bst.update(dtrain, iteration=i, fobj=obj)\n"
     ]
    },
    {
     "name": "stdout",
     "output_type": "stream",
     "text": [
      "Classification Report:\n",
      "               precision    recall  f1-score   support\n",
      "\n",
      "           0       0.99      0.99      0.99      1588\n",
      "           1       1.00      1.00      1.00       100\n",
      "           2       1.00      1.00      1.00     18898\n",
      "           3       1.00      1.00      1.00       870\n",
      "           4       0.83      0.83      0.83         6\n",
      "           5       0.67      0.67      0.67         3\n",
      "           6       1.00      1.00      1.00       393\n",
      "           7       1.00      1.00      1.00       220\n",
      "           8       0.99      1.00      0.99       485\n",
      "           9       0.99      1.00      1.00       381\n",
      "          10       0.99      0.99      0.99      1624\n",
      "          11       0.97      1.00      0.98        56\n",
      "\n",
      "    accuracy                           1.00     24624\n",
      "   macro avg       0.95      0.96      0.95     24624\n",
      "weighted avg       1.00      1.00      1.00     24624\n",
      "\n",
      "Confusion Matrix:\n",
      " [[ 1569     0     0     0     0     1     0     0     3     2    12     1]\n",
      " [    0   100     0     0     0     0     0     0     0     0     0     0]\n",
      " [    0     0 18897     0     0     0     0     0     0     0     0     1]\n",
      " [    0     0     0   870     0     0     0     0     0     0     0     0]\n",
      " [    0     0     0     0     5     0     0     0     1     0     0     0]\n",
      " [    0     0     0     0     0     2     0     0     0     0     1     0]\n",
      " [    0     0     0     0     0     0   393     0     0     0     0     0]\n",
      " [    0     0     0     0     0     0     0   220     0     0     0     0]\n",
      " [    0     0     0     0     1     0     0     0   483     1     0     0]\n",
      " [    0     0     0     0     0     0     0     0     0   381     0     0]\n",
      " [    9     0     0     1     0     0     0     0     2     0  1612     0]\n",
      " [    0     0     0     0     0     0     0     0     0     0     0    56]]\n"
     ]
    }
   ],
   "source": [
    "model_xgboost = model.model_xgboost(X_train_sm, y_train_sm,12)\n",
    "y_pred = model_xgboost.predict(X_test_sm)\n",
    "utils.report(y_pred,y_test_sm)"
   ]
  },
  {
   "cell_type": "code",
   "execution_count": null,
   "id": "2613aea3",
   "metadata": {},
   "outputs": [
    {
     "name": "stderr",
     "output_type": "stream",
     "text": [
      "c:\\Users\\QUIN\\anaconda3\\envs\\PPNKCH\\lib\\site-packages\\sklearn\\linear_model\\_logistic.py:1247: FutureWarning: 'multi_class' was deprecated in version 1.5 and will be removed in 1.7. From then on, it will always use 'multinomial'. Leave it to its default value to avoid this warning.\n",
      "  warnings.warn(\n"
     ]
    },
    {
     "name": "stdout",
     "output_type": "stream",
     "text": [
      "Classification Report:\n",
      "               precision    recall  f1-score   support\n",
      "\n",
      "           0       0.86      0.94      0.90      1440\n",
      "           1       0.99      0.73      0.84       135\n",
      "           2       1.00      1.00      1.00     18897\n",
      "           3       1.00      0.99      1.00       877\n",
      "           4       0.83      0.09      0.16        56\n",
      "           5       0.67      0.40      0.50         5\n",
      "           6       1.00      1.00      1.00       393\n",
      "           7       1.00      1.00      1.00       220\n",
      "           8       0.87      0.84      0.85       503\n",
      "           9       0.99      1.00      1.00       381\n",
      "          10       0.94      0.94      0.94      1629\n",
      "          11       0.91      0.60      0.73        88\n",
      "\n",
      "    accuracy                           0.98     24624\n",
      "   macro avg       0.92      0.79      0.83     24624\n",
      "weighted avg       0.98      0.98      0.98     24624\n",
      "\n",
      "Confusion Matrix:\n",
      " [[ 1354     0     0     1     1     1     0     0    36     2    43     2]\n",
      " [   11    99     0     0     0     0     0     0    24     0     1     0]\n",
      " [    0     0 18897     0     0     0     0     0     0     0     0     0]\n",
      " [    5     0     0   870     0     0     0     0     0     0     2     0]\n",
      " [   14     1     0     0     5     0     0     0     3     1    31     1]\n",
      " [    1     0     0     0     0     2     0     0     0     0     2     0]\n",
      " [    0     0     0     0     0     0   393     0     0     0     0     0]\n",
      " [    0     0     0     0     0     0     0   220     0     0     0     0]\n",
      " [   74     0     0     0     0     0     0     0   424     0     5     0]\n",
      " [    0     0     0     0     0     0     0     0     0   381     0     0]\n",
      " [  100     0     0     0     0     0     0     0     2     0  1525     2]\n",
      " [   19     0     0     0     0     0     0     0     0     0    16    53]]\n"
     ]
    }
   ],
   "source": [
    "model_logistic_regression = model.model_logistic_regression(X_train_sm, y_train_sm)\n",
    "y_pred = model_logistic_regression.predict(X_test_sm)\n",
    "utils.report(y_pred,y_test_sm)"
   ]
  },
  {
   "cell_type": "code",
   "execution_count": null,
   "id": "6505d52f",
   "metadata": {},
   "outputs": [
    {
     "name": "stdout",
     "output_type": "stream",
     "text": [
      "Classification Report:\n",
      "               precision    recall  f1-score   support\n",
      "\n",
      "           0       0.98      0.98      0.98      1585\n",
      "           1       0.97      0.98      0.97        99\n",
      "           2       1.00      1.00      1.00     18897\n",
      "           3       1.00      1.00      1.00       871\n",
      "           4       0.83      0.45      0.59        11\n",
      "           5       0.67      0.40      0.50         5\n",
      "           6       1.00      1.00      1.00       394\n",
      "           7       1.00      1.00      1.00       220\n",
      "           8       0.98      0.99      0.99       485\n",
      "           9       0.99      1.00      1.00       381\n",
      "          10       0.98      0.98      0.98      1622\n",
      "          11       0.91      0.98      0.95        54\n",
      "\n",
      "    accuracy                           1.00     24624\n",
      "   macro avg       0.94      0.90      0.91     24624\n",
      "weighted avg       1.00      1.00      1.00     24624\n",
      "\n",
      "Confusion Matrix:\n",
      " [[ 1547     2     0     1     0     1     0     0     4     2    26     2]\n",
      " [    1    97     0     0     0     0     0     0     0     0     1     0]\n",
      " [    0     0 18897     0     0     0     0     0     0     0     0     0]\n",
      " [    0     0     0   870     0     0     0     0     0     0     0     1]\n",
      " [    3     0     0     0     5     0     0     0     2     0     1     0]\n",
      " [    1     0     0     0     0     2     0     0     0     0     2     0]\n",
      " [    0     0     0     0     0     0   393     0     0     0     0     1]\n",
      " [    0     0     0     0     0     0     0   220     0     0     0     0]\n",
      " [    0     1     0     0     1     0     0     0   481     1     1     0]\n",
      " [    0     0     0     0     0     0     0     0     0   381     0     0]\n",
      " [   26     0     0     0     0     0     0     0     2     0  1593     1]\n",
      " [    0     0     0     0     0     0     0     0     0     0     1    53]]\n"
     ]
    }
   ],
   "source": [
    "model_knn = model.model_knn(X_train_sm, y_train_sm)\n",
    "y_pred = model_knn.predict(X_test_sm)\n",
    "utils.report(y_pred,y_test_sm)"
   ]
  },
  {
   "cell_type": "code",
   "execution_count": null,
   "id": "be7bcf1e",
   "metadata": {},
   "outputs": [
    {
     "name": "stdout",
     "output_type": "stream",
     "text": [
      "Classification Report:\n",
      "               precision    recall  f1-score   support\n",
      "\n",
      "           0       0.99      0.98      0.99      1592\n",
      "           1       0.96      0.98      0.97        98\n",
      "           2       1.00      1.00      1.00     18897\n",
      "           3       1.00      1.00      1.00       873\n",
      "           4       0.83      0.83      0.83         6\n",
      "           5       0.67      1.00      0.80         2\n",
      "           6       1.00      1.00      1.00       393\n",
      "           7       1.00      1.00      1.00       220\n",
      "           8       0.99      0.99      0.99       489\n",
      "           9       0.99      1.00      1.00       381\n",
      "          10       0.99      0.99      0.99      1618\n",
      "          11       0.95      1.00      0.97        55\n",
      "\n",
      "    accuracy                           1.00     24624\n",
      "   macro avg       0.95      0.98      0.96     24624\n",
      "weighted avg       1.00      1.00      1.00     24624\n",
      "\n",
      "Confusion Matrix:\n",
      " [[ 1566     0     0     1     0     0     0     0     4     2    17     2]\n",
      " [    0    96     0     0     0     0     0     0     2     0     0     0]\n",
      " [    0     0 18897     0     0     0     0     0     0     0     0     0]\n",
      " [    0     2     0   870     0     0     0     0     0     0     0     1]\n",
      " [    0     0     0     0     5     0     0     0     1     0     0     0]\n",
      " [    0     0     0     0     0     2     0     0     0     0     0     0]\n",
      " [    0     0     0     0     0     0   393     0     0     0     0     0]\n",
      " [    0     0     0     0     0     0     0   220     0     0     0     0]\n",
      " [    1     2     0     0     1     1     0     0   482     1     1     0]\n",
      " [    0     0     0     0     0     0     0     0     0   381     0     0]\n",
      " [   11     0     0     0     0     0     0     0     0     0  1607     0]\n",
      " [    0     0     0     0     0     0     0     0     0     0     0    55]]\n"
     ]
    }
   ],
   "source": [
    "model_random_forest = model.model_random_forest(X_train_sm, y_train_sm)\n",
    "y_pred = model_random_forest.predict(X_test_sm)\n",
    "utils.report(y_pred,y_test_sm)"
   ]
  },
  {
   "cell_type": "code",
   "execution_count": null,
   "id": "d647b747",
   "metadata": {},
   "outputs": [
    {
     "name": "stdout",
     "output_type": "stream",
     "text": [
      "Đang huấn luyện trên: cuda\n",
      "Epoch [1/1000], Loss: 2.4972\n",
      "Epoch [10/1000], Loss: 2.3295\n",
      "Epoch [20/1000], Loss: 2.0358\n",
      "Epoch [30/1000], Loss: 1.6495\n",
      "Epoch [40/1000], Loss: 1.2782\n",
      "Epoch [50/1000], Loss: 1.0032\n",
      "Epoch [60/1000], Loss: 0.8148\n",
      "Epoch [70/1000], Loss: 0.6726\n",
      "Epoch [80/1000], Loss: 0.5602\n",
      "Epoch [90/1000], Loss: 0.4725\n",
      "Epoch [100/1000], Loss: 0.4223\n",
      "Epoch [110/1000], Loss: 0.3772\n",
      "Epoch [120/1000], Loss: 0.3497\n",
      "Epoch [130/1000], Loss: 0.3322\n",
      "Epoch [140/1000], Loss: 0.2998\n",
      "Epoch [150/1000], Loss: 0.2880\n",
      "Epoch [160/1000], Loss: 0.2797\n",
      "Epoch [170/1000], Loss: 0.2676\n",
      "Epoch [180/1000], Loss: 0.2570\n",
      "Epoch [190/1000], Loss: 0.2555\n",
      "Epoch [200/1000], Loss: 0.2381\n",
      "Epoch [210/1000], Loss: 0.2310\n",
      "Epoch [220/1000], Loss: 0.2284\n",
      "Epoch [230/1000], Loss: 0.2176\n",
      "Epoch [240/1000], Loss: 0.2129\n",
      "Epoch [250/1000], Loss: 0.2044\n",
      "Epoch [260/1000], Loss: 0.2021\n",
      "Epoch [270/1000], Loss: 0.1951\n",
      "Epoch [280/1000], Loss: 0.1932\n",
      "Epoch [290/1000], Loss: 0.1880\n",
      "Epoch [300/1000], Loss: 0.1818\n",
      "Epoch [310/1000], Loss: 0.1782\n",
      "Epoch [320/1000], Loss: 0.1778\n",
      "Epoch [330/1000], Loss: 0.1765\n",
      "Epoch [340/1000], Loss: 0.1638\n",
      "Epoch [350/1000], Loss: 0.1662\n",
      "Epoch [360/1000], Loss: 0.1568\n",
      "Epoch [370/1000], Loss: 0.1555\n",
      "Epoch [380/1000], Loss: 0.1574\n",
      "Epoch [390/1000], Loss: 0.1553\n",
      "Epoch [400/1000], Loss: 0.1547\n",
      "Epoch [410/1000], Loss: 0.1547\n",
      "Epoch [420/1000], Loss: 0.1525\n",
      "Epoch [430/1000], Loss: 0.1588\n",
      "Epoch [440/1000], Loss: 0.1542\n",
      "Epoch [450/1000], Loss: 0.1537\n",
      "Epoch [460/1000], Loss: 0.1544\n",
      "Epoch [470/1000], Loss: 0.1559\n",
      "Epoch [480/1000], Loss: 0.1578\n",
      "Epoch [490/1000], Loss: 0.1534\n",
      "Epoch [500/1000], Loss: 0.1556\n",
      "Epoch [510/1000], Loss: 0.1531\n",
      "Epoch [520/1000], Loss: 0.1579\n",
      "Epoch [530/1000], Loss: 0.1567\n",
      "Epoch [540/1000], Loss: 0.1583\n",
      "Epoch [550/1000], Loss: 0.1564\n",
      "Epoch [560/1000], Loss: 0.1585\n",
      "Epoch [570/1000], Loss: 0.1584\n",
      "Epoch [580/1000], Loss: 0.1521\n",
      "Epoch [590/1000], Loss: 0.1555\n",
      "Epoch [600/1000], Loss: 0.1568\n",
      "Epoch [610/1000], Loss: 0.1528\n",
      "Epoch [620/1000], Loss: 0.1559\n",
      "Epoch [630/1000], Loss: 0.1551\n",
      "Epoch [640/1000], Loss: 0.1509\n",
      "Epoch [650/1000], Loss: 0.1559\n",
      "Epoch [660/1000], Loss: 0.1520\n",
      "Epoch [670/1000], Loss: 0.1559\n",
      "Epoch [680/1000], Loss: 0.1554\n",
      "Epoch [690/1000], Loss: 0.1543\n",
      "Epoch [700/1000], Loss: 0.1595\n",
      "Epoch [710/1000], Loss: 0.1522\n",
      "Epoch [720/1000], Loss: 0.1528\n",
      "Epoch [730/1000], Loss: 0.1547\n",
      "Epoch [740/1000], Loss: 0.1600\n",
      "Epoch [750/1000], Loss: 0.1505\n",
      "Epoch [760/1000], Loss: 0.1544\n",
      "Epoch [770/1000], Loss: 0.1552\n",
      "Epoch [780/1000], Loss: 0.1527\n",
      "Epoch [790/1000], Loss: 0.1536\n",
      "Epoch [800/1000], Loss: 0.1513\n",
      "Epoch [810/1000], Loss: 0.1512\n",
      "Epoch [820/1000], Loss: 0.1548\n",
      "Epoch [830/1000], Loss: 0.1514\n",
      "Epoch [840/1000], Loss: 0.1580\n",
      "Epoch [850/1000], Loss: 0.1533\n",
      "Epoch [860/1000], Loss: 0.1575\n",
      "Epoch [870/1000], Loss: 0.1507\n",
      "Epoch [880/1000], Loss: 0.1589\n",
      "Epoch [890/1000], Loss: 0.1538\n",
      "Epoch [900/1000], Loss: 0.1537\n",
      "Epoch [910/1000], Loss: 0.1495\n",
      "Epoch [920/1000], Loss: 0.1548\n",
      "Epoch [930/1000], Loss: 0.1535\n",
      "Epoch [940/1000], Loss: 0.1575\n",
      "Epoch [950/1000], Loss: 0.1563\n",
      "Epoch [960/1000], Loss: 0.1522\n",
      "Epoch [970/1000], Loss: 0.1534\n",
      "Epoch [980/1000], Loss: 0.1559\n",
      "Epoch [990/1000], Loss: 0.1596\n",
      "Epoch [1000/1000], Loss: 0.1491\n",
      "Classification Report:\n",
      "               precision    recall  f1-score   support\n",
      "\n",
      "           0       0.93      0.89      0.91      1646\n",
      "           1       0.99      0.66      0.80       149\n",
      "           2       1.00      1.00      1.00     18899\n",
      "           3       1.00      1.00      1.00       871\n",
      "           4       0.83      0.12      0.22        40\n",
      "           5       0.67      0.25      0.36         8\n",
      "           6       1.00      0.98      0.99       400\n",
      "           7       1.00      1.00      1.00       221\n",
      "           8       0.87      0.98      0.92       433\n",
      "           9       0.99      1.00      0.99       382\n",
      "          10       0.89      0.97      0.93      1490\n",
      "          11       0.91      0.62      0.74        85\n",
      "\n",
      "    accuracy                           0.99     24624\n",
      "   macro avg       0.92      0.79      0.82     24624\n",
      "weighted avg       0.99      0.99      0.98     24624\n",
      "\n",
      "Confusion Matrix:\n",
      " [[ 1462     0     0     1     1     1     0     0    40     2   138     1]\n",
      " [   26    99     0     0     0     0     0     0    24     0     0     0]\n",
      " [    0     0 18897     0     0     0     0     0     0     0     1     1]\n",
      " [    1     0     0   869     0     0     0     0     0     0     0     1]\n",
      " [   22     1     0     0     5     0     0     0     2     0    10     0]\n",
      " [    2     0     0     1     0     2     0     0     0     1     1     1]\n",
      " [    6     0     0     0     0     0   393     0     0     0     0     1]\n",
      " [    1     0     0     0     0     0     0   220     0     0     0     0]\n",
      " [    7     0     0     0     0     0     0     0   423     0     3     0]\n",
      " [    0     0     0     0     0     0     0     0     0   381     1     0]\n",
      " [   39     0     0     0     0     0     0     0     0     0  1451     0]\n",
      " [   12     0     0     0     0     0     0     0     0     0    20    53]]\n"
     ]
    }
   ],
   "source": [
    "model_mlp = model.model_mlp(X_train_sm, y_train_sm, input_size=X_train_sm.shape[1],\n",
    "                  hidden_size1=128, hidden_size2=64, hidden_size3=32, output_size=12, epochs=1000)\n",
    "y_pred = model.predict_mlp(model_mlp, X_test_sm)\n",
    "utils.report(y_pred, y_test_sm)"
   ]
  },
  {
   "cell_type": "markdown",
   "id": "ca7c14be",
   "metadata": {},
   "source": [
    "Train với dữ liệu đã giảm chiều"
   ]
  },
  {
   "cell_type": "code",
   "execution_count": null,
   "id": "a9e63ef8",
   "metadata": {},
   "outputs": [
    {
     "name": "stderr",
     "output_type": "stream",
     "text": [
      "c:\\Users\\QUIN\\Desktop\\PPNCKH\\DataProcessing.py:29: FutureWarning: \n",
      "\n",
      "Passing `palette` without assigning `hue` is deprecated and will be removed in v0.14.0. Assign the `y` variable to `hue` and set `legend=False` for the same effect.\n",
      "\n",
      "  sns.barplot(data=top_features, x='Importance', y='Feature', palette='viridis')\n"
     ]
    },
    {
     "name": "stdout",
     "output_type": "stream",
     "text": [
      "40\n"
     ]
    },
    {
     "data": {
      "image/png": "[encoded data removed]",
      "text/plain": [
       "<Figure size 1000x800 with 1 Axes>"
      ]
     },
     "metadata": {},
     "output_type": "display_data"
    }
   ],
   "source": [
    "# Xử lý dữ liệu\n",
    "list = DataProcessing.select_feature(X_train_sm, y_train_sm)\n",
    "print(len(list))"
   ]
  },
  {
   "cell_type": "code",
   "execution_count": null,
   "id": "f201575d",
   "metadata": {},
   "outputs": [
    {
     "name": "stdout",
     "output_type": "stream",
     "text": [
      "Các cột bị loại bỏ: ['fwd_iat.avg', 'bwd_subflow_bytes', 'fwd_header_size_max', 'fwd_init_window_size', 'bwd_data_pkts_tot', 'fwd_data_pkts_tot', 'bwd_pkts_payload.max', 'flow_SYN_flag_count', 'bwd_pkts_payload.avg', 'active.avg', 'fwd_pkts_payload.avg', 'flow_iat.avg', 'fwd_iat.max', 'active.min', 'flow_pkts_payload.max', 'flow_duration', 'bwd_pkts_payload.tot']\n"
     ]
    }
   ],
   "source": [
    "X_train_sm = X_train_sm[list['Feature']]\n",
    "df_reduced, dropped_columns = DataProcessing.remove_highly_correlated_columns(X_train_sm[list['Feature']], threshold=0.8)"
   ]
  },
  {
   "cell_type": "code",
   "execution_count": null,
   "id": "99e3ff51",
   "metadata": {},
   "outputs": [],
   "source": [
    "X_train_sm_dr = df_reduced\n",
    "X_test_sm_dr = X_test_sm[list['Feature']].drop(dropped_columns, axis=1)\n",
    "y_train_sm_dr = y_train_sm.copy()\n",
    "y_test_sm_dr = y_test_sm.copy()"
   ]
  },
  {
   "cell_type": "code",
   "execution_count": null,
   "id": "bd541e96",
   "metadata": {},
   "outputs": [
    {
     "name": "stdout",
     "output_type": "stream",
     "text": [
      "Classification Report:\n",
      "               precision    recall  f1-score   support\n",
      "\n",
      "           0       0.82      0.66      0.73      1950\n",
      "           1       0.70      0.71      0.71        98\n",
      "           2       1.00      1.00      1.00     18900\n",
      "           3       1.00      0.99      0.99       877\n",
      "           4       0.83      0.08      0.14        63\n",
      "           5       0.67      0.25      0.36         8\n",
      "           6       1.00      0.99      1.00       396\n",
      "           7       1.00      0.92      0.96       238\n",
      "           8       0.87      0.81      0.83       525\n",
      "           9       0.99      0.99      0.99       385\n",
      "          10       0.60      0.87      0.71      1129\n",
      "          11       0.53      0.56      0.55        55\n",
      "\n",
      "    accuracy                           0.96     24624\n",
      "   macro avg       0.83      0.74      0.75     24624\n",
      "weighted avg       0.96      0.96      0.96     24624\n",
      "\n",
      "Confusion Matrix:\n",
      " [[ 1292     0     0     1     1     1     0     0    38     2   602    13]\n",
      " [   20    70     0     0     0     0     0     0     0     0     2     6]\n",
      " [    3     0 18897     0     0     0     0     0     0     0     0     0]\n",
      " [    6     0     0   869     0     0     0     0     0     0     1     1]\n",
      " [   35     1     0     0     5     0     0     0     4     0    16     2]\n",
      " [    3     0     0     0     0     2     0     0     0     0     3     0]\n",
      " [    1     0     0     0     0     0   393     0     0     0     0     2]\n",
      " [   18     0     0     0     0     0     0   220     0     0     0     0]\n",
      " [   91     1     0     0     0     0     0     0   423     0     8     2]\n",
      " [    4     0     0     0     0     0     0     0     0   381     0     0]\n",
      " [   98    25     0     1     0     0     0     0    24     1   979     1]\n",
      " [    7     3     0     0     0     0     0     0     0     0    14    31]]\n"
     ]
    }
   ],
   "source": [
    "model_LinearSVC_dr = model.model_LinearSVC(X_train_sm_dr, y_train_sm_dr)\n",
    "y_pred_dr = model_LinearSVC_dr.predict(X_test_sm_dr)\n",
    "utils.report(y_pred_dr,y_test_sm_dr)"
   ]
  },
  {
   "cell_type": "code",
   "execution_count": null,
   "id": "ef3d8788",
   "metadata": {},
   "outputs": [
    {
     "name": "stderr",
     "output_type": "stream",
     "text": [
      "c:\\Users\\QUIN\\anaconda3\\envs\\PPNKCH\\lib\\site-packages\\xgboost\\training.py:183: UserWarning: [01:43:23] WARNING: C:\\actions-runner\\_work\\xgboost\\xgboost\\src\\learner.cc:738: \n",
      "Parameters: { \"use_label_encoder\" } are not used.\n",
      "\n",
      "  bst.update(dtrain, iteration=i, fobj=obj)\n"
     ]
    },
    {
     "name": "stdout",
     "output_type": "stream",
     "text": [
      "Classification Report:\n",
      "               precision    recall  f1-score   support\n",
      "\n",
      "           0       1.00      0.99      0.99      1592\n",
      "           1       1.00      0.99      1.00       101\n",
      "           2       1.00      1.00      1.00     18898\n",
      "           3       1.00      1.00      1.00       870\n",
      "           4       0.83      0.83      0.83         6\n",
      "           5       0.67      1.00      0.80         2\n",
      "           6       1.00      1.00      1.00       393\n",
      "           7       1.00      1.00      1.00       220\n",
      "           8       0.99      0.99      0.99       485\n",
      "           9       0.99      1.00      1.00       381\n",
      "          10       0.99      0.99      0.99      1620\n",
      "          11       0.97      1.00      0.98        56\n",
      "\n",
      "    accuracy                           1.00     24624\n",
      "   macro avg       0.95      0.98      0.96     24624\n",
      "weighted avg       1.00      1.00      1.00     24624\n",
      "\n",
      "Confusion Matrix:\n",
      " [[ 1571     0     0     0     0     0     0     0     3     2    16     0]\n",
      " [    0   100     0     0     0     0     0     0     1     0     0     0]\n",
      " [    0     0 18897     0     0     0     0     0     0     0     0     1]\n",
      " [    0     0     0   870     0     0     0     0     0     0     0     0]\n",
      " [    0     0     0     0     5     0     0     0     1     0     0     0]\n",
      " [    0     0     0     0     0     2     0     0     0     0     0     0]\n",
      " [    0     0     0     0     0     0   393     0     0     0     0     0]\n",
      " [    0     0     0     0     0     0     0   220     0     0     0     0]\n",
      " [    0     0     0     0     1     0     0     0   482     1     0     1]\n",
      " [    0     0     0     0     0     0     0     0     0   381     0     0]\n",
      " [    7     0     0     1     0     1     0     0     2     0  1609     0]\n",
      " [    0     0     0     0     0     0     0     0     0     0     0    56]]\n"
     ]
    }
   ],
   "source": [
    "model_xgboost_dr = model.model_xgboost(X_train_sm_dr, y_train_sm_dr,12)\n",
    "y_pred_dr = model_xgboost_dr.predict(X_test_sm_dr)\n",
    "utils.report(y_pred_dr,y_test_sm_dr)"
   ]
  },
  {
   "cell_type": "code",
   "execution_count": null,
   "id": "44477c4a",
   "metadata": {},
   "outputs": [
    {
     "name": "stderr",
     "output_type": "stream",
     "text": [
      "c:\\Users\\QUIN\\anaconda3\\envs\\PPNKCH\\lib\\site-packages\\sklearn\\linear_model\\_logistic.py:1247: FutureWarning: 'multi_class' was deprecated in version 1.5 and will be removed in 1.7. From then on, it will always use 'multinomial'. Leave it to its default value to avoid this warning.\n",
      "  warnings.warn(\n"
     ]
    },
    {
     "name": "stdout",
     "output_type": "stream",
     "text": [
      "Classification Report:\n",
      "               precision    recall  f1-score   support\n",
      "\n",
      "           0       0.75      0.88      0.81      1344\n",
      "           1       0.97      0.63      0.77       153\n",
      "           2       1.00      1.00      1.00     18901\n",
      "           3       1.00      0.99      0.99       874\n",
      "           4       0.83      0.07      0.13        70\n",
      "           5       0.67      0.20      0.31        10\n",
      "           6       1.00      0.97      0.98       405\n",
      "           7       1.00      0.92      0.96       239\n",
      "           8       0.87      0.82      0.84       520\n",
      "           9       0.99      1.00      1.00       381\n",
      "          10       0.89      0.89      0.89      1635\n",
      "          11       0.74      0.47      0.57        92\n",
      "\n",
      "    accuracy                           0.97     24624\n",
      "   macro avg       0.89      0.74      0.77     24624\n",
      "weighted avg       0.97      0.97      0.97     24624\n",
      "\n",
      "Confusion Matrix:\n",
      " [[ 1180     0     0     1     1     1     0     0    37     2   114     8]\n",
      " [   19    97     0     1     0     0     0     0    24     1    11     0]\n",
      " [    3     0 18897     0     0     0     0     0     0     0     1     0]\n",
      " [    7     0     0   867     0     0     0     0     0     0     0     0]\n",
      " [   40     1     0     0     5     0     0     0     4     0    19     1]\n",
      " [    5     0     0     1     0     2     0     0     0     0     2     0]\n",
      " [   10     0     0     0     0     0   393     0     0     0     0     2]\n",
      " [   18     0     0     0     0     0     0   220     0     0     1     0]\n",
      " [   92     0     0     0     0     0     0     0   424     0     2     2]\n",
      " [    0     0     0     0     0     0     0     0     0   381     0     0]\n",
      " [  181     0     0     1     0     0     0     0     0     0  1451     2]\n",
      " [   23     2     0     0     0     0     0     0     0     0    24    43]]\n"
     ]
    }
   ],
   "source": [
    "model_logistic_regression_dr = model.model_logistic_regression(X_train_sm_dr, y_train_sm_dr)\n",
    "y_pred_dr = model_logistic_regression_dr.predict(X_test_sm_dr)\n",
    "utils.report(y_pred_dr,y_test_sm_dr)"
   ]
  },
  {
   "cell_type": "code",
   "execution_count": null,
   "id": "48fffdfc",
   "metadata": {},
   "outputs": [
    {
     "name": "stdout",
     "output_type": "stream",
     "text": [
      "Classification Report:\n",
      "               precision    recall  f1-score   support\n",
      "\n",
      "           0       0.98      0.98      0.98      1580\n",
      "           1       0.98      0.97      0.98       101\n",
      "           2       1.00      1.00      1.00     18897\n",
      "           3       1.00      1.00      1.00       871\n",
      "           4       0.83      0.45      0.59        11\n",
      "           5       0.67      1.00      0.80         2\n",
      "           6       1.00      0.99      1.00       395\n",
      "           7       1.00      0.99      0.99       222\n",
      "           8       0.98      0.99      0.99       485\n",
      "           9       0.99      1.00      1.00       381\n",
      "          10       0.98      0.98      0.98      1624\n",
      "          11       0.90      0.95      0.92        55\n",
      "\n",
      "    accuracy                           1.00     24624\n",
      "   macro avg       0.94      0.94      0.93     24624\n",
      "weighted avg       1.00      1.00      1.00     24624\n",
      "\n",
      "Confusion Matrix:\n",
      " [[ 1544     2     0     1     0     1     0     1     3     2    24     2]\n",
      " [    2    98     0     0     0     0     0     0     0     0     1     0]\n",
      " [    0     0 18897     0     0     0     0     0     0     0     0     0]\n",
      " [    0     0     0   870     0     0     0     0     0     0     0     1]\n",
      " [    3     0     0     0     5     0     0     0     2     0     1     0]\n",
      " [    0     0     0     0     0     2     0     0     0     0     0     0]\n",
      " [    1     0     0     0     0     0   393     0     0     0     0     1]\n",
      " [    1     0     0     0     0     0     0   219     0     0     2     0]\n",
      " [    1     0     0     0     1     0     0     0   481     1     0     1]\n",
      " [    0     0     0     0     0     0     0     0     0   381     0     0]\n",
      " [   26     0     0     0     0     0     0     0     2     0  1595     1]\n",
      " [    0     0     0     0     0     0     0     0     1     0     2    52]]\n"
     ]
    }
   ],
   "source": [
    "model_knn_dr = model.model_knn(X_train_sm_dr, y_train_sm_dr)\n",
    "y_pred_dr = model_knn_dr.predict(X_test_sm_dr)\n",
    "utils.report(y_pred_dr,y_test_sm_dr)"
   ]
  },
  {
   "cell_type": "code",
   "execution_count": null,
   "id": "6be85a44",
   "metadata": {},
   "outputs": [
    {
     "name": "stdout",
     "output_type": "stream",
     "text": [
      "Classification Report:\n",
      "               precision    recall  f1-score   support\n",
      "\n",
      "           0       0.99      0.98      0.99      1594\n",
      "           1       0.98      0.98      0.98       100\n",
      "           2       1.00      1.00      1.00     18897\n",
      "           3       1.00      1.00      1.00       873\n",
      "           4       0.83      0.83      0.83         6\n",
      "           5       0.67      1.00      0.80         2\n",
      "           6       1.00      1.00      1.00       393\n",
      "           7       1.00      1.00      1.00       220\n",
      "           8       0.99      0.99      0.99       488\n",
      "           9       0.99      1.00      1.00       381\n",
      "          10       0.99      0.99      0.99      1612\n",
      "          11       0.95      0.95      0.95        58\n",
      "\n",
      "    accuracy                           1.00     24624\n",
      "   macro avg       0.95      0.98      0.96     24624\n",
      "weighted avg       1.00      1.00      1.00     24624\n",
      "\n",
      "Confusion Matrix:\n",
      " [[ 1568     0     0     0     0     0     0     0     4     2    18     2]\n",
      " [    0    98     0     0     0     0     0     0     1     0     1     0]\n",
      " [    0     0 18897     0     0     0     0     0     0     0     0     0]\n",
      " [    0     2     0   870     0     0     0     0     0     0     0     1]\n",
      " [    0     0     0     0     5     0     0     0     1     0     0     0]\n",
      " [    0     0     0     0     0     2     0     0     0     0     0     0]\n",
      " [    0     0     0     0     0     0   393     0     0     0     0     0]\n",
      " [    0     0     0     0     0     0     0   220     0     0     0     0]\n",
      " [    1     0     0     0     1     1     0     0   483     1     1     0]\n",
      " [    0     0     0     0     0     0     0     0     0   381     0     0]\n",
      " [    9     0     0     1     0     0     0     0     0     0  1602     0]\n",
      " [    0     0     0     0     0     0     0     0     0     0     3    55]]\n"
     ]
    }
   ],
   "source": [
    "model_random_forest_dr = model.model_random_forest(X_train_sm_dr, y_train_sm_dr)\n",
    "y_pred_dr = model_random_forest_dr.predict(X_test_sm_dr)\n",
    "utils.report(y_pred_dr,y_test_sm_dr)"
   ]
  },
  {
   "cell_type": "code",
   "execution_count": null,
   "id": "5478e387",
   "metadata": {},
   "outputs": [
    {
     "name": "stdout",
     "output_type": "stream",
     "text": [
      "Đang huấn luyện trên: cuda\n",
      "Epoch [1/1000], Loss: 2.4953\n",
      "Epoch [10/1000], Loss: 2.4007\n",
      "Epoch [20/1000], Loss: 2.2168\n",
      "Epoch [30/1000], Loss: 1.9395\n",
      "Epoch [40/1000], Loss: 1.6585\n",
      "Epoch [50/1000], Loss: 1.4312\n",
      "Epoch [60/1000], Loss: 1.2345\n",
      "Epoch [70/1000], Loss: 1.0753\n",
      "Epoch [80/1000], Loss: 0.9510\n",
      "Epoch [90/1000], Loss: 0.8526\n",
      "Epoch [100/1000], Loss: 0.7598\n",
      "Epoch [110/1000], Loss: 0.6815\n",
      "Epoch [120/1000], Loss: 0.6196\n",
      "Epoch [130/1000], Loss: 0.5675\n",
      "Epoch [140/1000], Loss: 0.5291\n",
      "Epoch [150/1000], Loss: 0.4936\n",
      "Epoch [160/1000], Loss: 0.4707\n",
      "Epoch [170/1000], Loss: 0.4503\n",
      "Epoch [180/1000], Loss: 0.4364\n",
      "Epoch [190/1000], Loss: 0.4054\n",
      "Epoch [200/1000], Loss: 0.3965\n",
      "Epoch [210/1000], Loss: 0.3855\n",
      "Epoch [220/1000], Loss: 0.3657\n",
      "Epoch [230/1000], Loss: 0.3627\n",
      "Epoch [240/1000], Loss: 0.3424\n",
      "Epoch [250/1000], Loss: 0.3423\n",
      "Epoch [260/1000], Loss: 0.3256\n",
      "Epoch [270/1000], Loss: 0.3218\n",
      "Epoch [280/1000], Loss: 0.3110\n",
      "Epoch [290/1000], Loss: 0.3078\n",
      "Epoch [300/1000], Loss: 0.2869\n",
      "Epoch [310/1000], Loss: 0.2834\n",
      "Epoch [320/1000], Loss: 0.2851\n",
      "Epoch [330/1000], Loss: 0.2760\n",
      "Epoch [340/1000], Loss: 0.2729\n",
      "Epoch [350/1000], Loss: 0.2604\n",
      "Epoch [360/1000], Loss: 0.2564\n",
      "Epoch [370/1000], Loss: 0.2493\n",
      "Epoch [380/1000], Loss: 0.2419\n",
      "Epoch [390/1000], Loss: 0.2435\n",
      "Epoch [400/1000], Loss: 0.2392\n",
      "Epoch [410/1000], Loss: 0.2272\n",
      "Epoch [420/1000], Loss: 0.2294\n",
      "Epoch [430/1000], Loss: 0.2240\n",
      "Epoch [440/1000], Loss: 0.2235\n",
      "Epoch [450/1000], Loss: 0.2174\n",
      "Epoch [460/1000], Loss: 0.2158\n",
      "Epoch [470/1000], Loss: 0.2070\n",
      "Epoch [480/1000], Loss: 0.2071\n",
      "Epoch [490/1000], Loss: 0.2020\n",
      "Epoch [500/1000], Loss: 0.2030\n",
      "Epoch [510/1000], Loss: 0.1911\n",
      "Epoch [520/1000], Loss: 0.1941\n",
      "Epoch [530/1000], Loss: 0.1839\n",
      "Epoch [540/1000], Loss: 0.1862\n",
      "Epoch [550/1000], Loss: 0.1772\n",
      "Epoch [560/1000], Loss: 0.1786\n",
      "Epoch [570/1000], Loss: 0.1791\n",
      "Epoch [580/1000], Loss: 0.1831\n",
      "Epoch [590/1000], Loss: 0.1813\n",
      "Epoch [600/1000], Loss: 0.1787\n",
      "Epoch [610/1000], Loss: 0.1845\n",
      "Epoch [620/1000], Loss: 0.1783\n",
      "Epoch [630/1000], Loss: 0.1843\n",
      "Epoch [640/1000], Loss: 0.1829\n",
      "Epoch [650/1000], Loss: 0.1837\n",
      "Epoch [660/1000], Loss: 0.1845\n",
      "Epoch [670/1000], Loss: 0.1795\n",
      "Epoch [680/1000], Loss: 0.1771\n",
      "Epoch [690/1000], Loss: 0.1777\n",
      "Epoch [700/1000], Loss: 0.1753\n",
      "Epoch [710/1000], Loss: 0.1796\n",
      "Epoch [720/1000], Loss: 0.1836\n",
      "Epoch [730/1000], Loss: 0.1818\n",
      "Epoch [740/1000], Loss: 0.1794\n",
      "Epoch [750/1000], Loss: 0.1847\n",
      "Epoch [760/1000], Loss: 0.1771\n",
      "Epoch [770/1000], Loss: 0.1822\n",
      "Epoch [780/1000], Loss: 0.1806\n",
      "Epoch [790/1000], Loss: 0.1821\n",
      "Epoch [800/1000], Loss: 0.1833\n",
      "Epoch [810/1000], Loss: 0.1763\n",
      "Epoch [820/1000], Loss: 0.1726\n",
      "Epoch [830/1000], Loss: 0.1860\n",
      "Epoch [840/1000], Loss: 0.1768\n",
      "Epoch [850/1000], Loss: 0.1813\n",
      "Epoch [860/1000], Loss: 0.1766\n",
      "Epoch [870/1000], Loss: 0.1841\n",
      "Epoch [880/1000], Loss: 0.1787\n",
      "Epoch [890/1000], Loss: 0.1848\n",
      "Epoch [900/1000], Loss: 0.1864\n",
      "Epoch [910/1000], Loss: 0.1795\n",
      "Epoch [920/1000], Loss: 0.1762\n",
      "Epoch [930/1000], Loss: 0.1806\n",
      "Epoch [940/1000], Loss: 0.1818\n",
      "Epoch [950/1000], Loss: 0.1789\n",
      "Epoch [960/1000], Loss: 0.1780\n",
      "Epoch [970/1000], Loss: 0.1784\n",
      "Epoch [980/1000], Loss: 0.1877\n",
      "Epoch [990/1000], Loss: 0.1790\n",
      "Epoch [1000/1000], Loss: 0.1775\n"
     ]
    }
   ],
   "source": [
    "model_mlp_dr = model.model_mlp(X_train_sm_dr, y_train_sm_dr, input_size=X_train_sm_dr.shape[1],\n",
    "                  hidden_size1=128, hidden_size2=64, hidden_size3=32, output_size=12, epochs=1000)\n",
    "\n"
   ]
  },
  {
   "cell_type": "code",
   "execution_count": null,
   "id": "66a98e8c",
   "metadata": {},
   "outputs": [
    {
     "name": "stdout",
     "output_type": "stream",
     "text": [
      "Classification Report:\n",
      "               precision    recall  f1-score   support\n",
      "\n",
      "           0       0.89      0.91      0.90      1539\n",
      "           1       0.99      0.73      0.84       135\n",
      "           2       1.00      1.00      1.00     18897\n",
      "           3       1.00      0.99      1.00       877\n",
      "           4       0.83      0.07      0.14        67\n",
      "           5       0.67      0.09      0.16        22\n",
      "           6       1.00      0.97      0.98       406\n",
      "           7       1.00      0.91      0.95       241\n",
      "           8       0.87      0.98      0.92       432\n",
      "           9       0.99      1.00      1.00       381\n",
      "          10       0.92      0.96      0.94      1556\n",
      "          11       0.88      0.72      0.79        71\n",
      "\n",
      "    accuracy                           0.98     24624\n",
      "   macro avg       0.92      0.78      0.80     24624\n",
      "weighted avg       0.98      0.98      0.98     24624\n",
      "\n",
      "Confusion Matrix:\n",
      " [[ 1401     0     0     1     1     1     0     0    39     2    93     1]\n",
      " [    9    99     0     0     0     0     0     0    24     0     2     1]\n",
      " [    0     0 18897     0     0     0     0     0     0     0     0     0]\n",
      " [    7     0     0   870     0     0     0     0     0     0     0     0]\n",
      " [   41     1     0     0     5     0     0     0     2     0    17     1]\n",
      " [   17     0     0     0     0     2     0     0     0     1     2     0]\n",
      " [   10     0     0     0     0     0   393     0     0     0     0     3]\n",
      " [   18     0     0     0     0     0     0   220     0     0     3     0]\n",
      " [    8     0     0     0     0     0     0     0   423     0     0     1]\n",
      " [    0     0     0     0     0     0     0     0     0   381     0     0]\n",
      " [   61     0     0     0     0     0     0     0     1     0  1494     0]\n",
      " [    6     0     0     0     0     0     0     0     0     0    14    51]]\n"
     ]
    }
   ],
   "source": [
    "y_pred_dr = model.predict_mlp(model_mlp_dr, X_test_sm_dr)\n",
    "utils.report(y_pred_dr, y_test_sm)"
   ]
  },
  {
   "cell_type": "markdown",
   "id": "552883e6",
   "metadata": {},
   "source": [
    "Train mô hỉnh tinh chỉnh."
   ]
  },
  {
   "cell_type": "code",
   "execution_count": null,
   "id": "1a270f3c",
   "metadata": {},
   "outputs": [],
   "source": [
    "\n",
    "y_pred = model_random_forest.predict(X_test_sm)\n",
    "utils.report(y_pred,y_test_sm)"
   ]
  },
  {
   "cell_type": "code",
   "execution_count": null,
   "id": "68eeb5e9",
   "metadata": {},
   "outputs": [],
   "source": [
    "from sklearn.model_selection import RandomizedSearchCV\n",
    "from sklearn.ensemble import RandomForestClassifier\n",
    "from scipy.stats import randint"
   ]
  },
  {
   "cell_type": "markdown",
   "id": "a257f815",
   "metadata": {},
   "source": [
    "random_forest"
   ]
  },
  {
   "cell_type": "code",
   "execution_count": null,
   "id": "7d3671bb",
   "metadata": {},
   "outputs": [],
   "source": [
    "#test\n",
    "# Không gian tham số\n",
    "param_dist = {\n",
    "    'n_estimators': randint(50, 200),\n",
    "    'max_depth': randint(3, 10)\n",
    "}\n",
    "\n",
    "# Khởi tạo mô hình\n",
    "get_random_forest_model_instance = model.get_random_forest_model() \n",
    "# Tìm kiếm ngẫu nhiên\n",
    "random_search = RandomizedSearchCV(\n",
    "    estimator=get_random_forest_model_instance,\n",
    "    param_distributions=param_dist,\n",
    "    n_iter=20,\n",
    "    cv=5,\n",
    "    scoring='f1_macro'\n",
    ")\n",
    "\n",
    "# Huấn luyện\n",
    "random_search.fit(X_train, y_train)\n",
    "\n",
    "# In tham số tốt nhất\n",
    "print(\"Best params:\", random_search.best_params_)"
   ]
  },
  {
   "cell_type": "markdown",
   "id": "4fef2a93",
   "metadata": {},
   "source": [
    "XGBoost"
   ]
  },
  {
   "cell_type": "code",
   "execution_count": null,
   "id": "8706f597",
   "metadata": {},
   "outputs": [],
   "source": [
    "# Không gian tham số\n",
    "# Tính scale_pos_weight\n",
    "class_counts = np.bincount(y_train_sm_dr)\n",
    "param_dist = {\n",
    "    'n_estimators': [50, 100, 200],\n",
    "    'max_depth': [3, 5, 7, 10],\n",
    "    'learning_rate': [0.01, 0.1, 0.2],\n",
    "    'subsample': [0.6, 0.8, 1.0],\n",
    "    'colsample_bytree': [0.6, 0.8, 1.0],\n",
    "    'scale_pos_weight': [1, class_counts.max() / class_counts.min()]  # Xử lý mất cân bằng\n",
    "}\n",
    "\n",
    "\n",
    "\n",
    "# Khởi tạo mô hình\n",
    "xgb_model = model.get_xgboost_model(random_state=42)\n",
    "\n",
    "# Tìm kiếm ngẫu nhiên\n",
    "random_search_xgb = RandomizedSearchCV(\n",
    "    estimator=xgb_model,\n",
    "    param_distributions=param_dist,\n",
    "    n_iter=10,  # Số lần thử ngẫu nhiên\n",
    "    cv=5,       # Cross-validation với 5 fold\n",
    "    scoring='f1_macro',  # Dùng f1_macro để đánh giá tốt hơn với dữ liệu mất cân bằng\n",
    "    random_state=42,\n",
    "    n_jobs=-1    # Sử dụng tất cả CPU\n",
    ")\n",
    "\n",
    "# Huấn luyện\n",
    "random_search_xgb.fit(X_train_sm_dr, y_train_sm_dr)\n",
    "\n",
    "# Lấy mô hình tốt nhất\n",
    "best_xgb_model = random_search_xgb.best_estimator_\n",
    "print(\"Best parameters for XGBoost:\", random_search_xgb.best_params_)\n",
    "\n",
    "# Dự đoán và đánh giá\n",
    "y_pred_xgb = best_xgb_model.predict(X_test_sm_dr)\n",
    "print(\"XGBoost Classification Report:\")\n",
    "utils.report(y_pred_xgb, y_test_sm_dr)\n"
   ]
  },
  {
   "cell_type": "markdown",
   "id": "be007376",
   "metadata": {},
   "source": [
    "Logistic Regression"
   ]
  },
  {
   "cell_type": "code",
   "execution_count": null,
   "id": "e332a5ab",
   "metadata": {},
   "outputs": [],
   "source": [
    "# Định nghĩa không gian tham số cho Logistic Regression\n",
    "param_dist_lr = {\n",
    "    'C': [0.001, 0.01, 0.1, 1, 10, 100],\n",
    "    'max_iter': [100, 500, 1000],\n",
    "    'solver': ['lbfgs', 'saga'],\n",
    "    'class_weight': ['balanced', None]  # Xử lý mất cân bằng\n",
    "}\n",
    "\n",
    "# Khởi tạo mô hình\n",
    "lr_model = model.get_logistic_regression_model(random_state=42)\n",
    "\n",
    "# Tìm kiếm ngẫu nhiên\n",
    "random_search_lr = RandomizedSearchCV(\n",
    "    estimator=lr_model,\n",
    "    param_distributions=param_dist_lr,\n",
    "    n_iter=10,\n",
    "    cv=5,\n",
    "    scoring='f1_macro',  # Phù hợp với dữ liệu mất cân bằng\n",
    "    random_state=42,\n",
    "    n_jobs=-1\n",
    ")\n",
    "\n",
    "# Huấn luyện\n",
    "random_search_lr.fit(X_train_sm_dr, y_train_sm_dr)\n",
    "\n",
    "# Lấy mô hình tốt nhất\n",
    "best_lr_model = random_search_lr.best_estimator_\n",
    "print(\"Best parameters for Logistic Regression:\", random_search_lr.best_params_)\n",
    "\n",
    "# Dự đoán và đánh giá\n",
    "y_pred_lr = best_lr_model.predict(X_test_sm_dr)\n",
    "print(\"Logistic Regression Classification Report:\")\n",
    "utils.report(y_test_sm_dr, y_pred_lr)"
   ]
  },
  {
   "cell_type": "markdown",
   "id": "cb41f9ae",
   "metadata": {},
   "source": [
    "KNN"
   ]
  },
  {
   "cell_type": "code",
   "execution_count": null,
   "id": "b0270628",
   "metadata": {},
   "outputs": [],
   "source": [
    "# Định nghĩa không gian tham số cho KNN\n",
    "param_dist_knn = {\n",
    "    'n_neighbors': [3, 5, 7, 9, 11],\n",
    "    'weights': ['uniform', 'distance'],\n",
    "    'metric': ['euclidean', 'manhattan']\n",
    "}\n",
    "\n",
    "# Khởi tạo mô hình\n",
    "knn_model = model.get_knn_model()\n",
    "\n",
    "# Tìm kiếm ngẫu nhiên\n",
    "random_search_knn = RandomizedSearchCV(\n",
    "    estimator=knn_model,\n",
    "    param_distributions=param_dist_knn,\n",
    "    n_iter=10,\n",
    "    cv=5,\n",
    "    scoring='f1_macro',\n",
    "    random_state=42,\n",
    "    n_jobs=-1\n",
    ")\n",
    "\n",
    "# Huấn luyện\n",
    "random_search_knn.fit(X_train, y_train)\n",
    "\n",
    "# Lấy mô hình tốt nhất\n",
    "best_knn_model = random_search_knn.best_estimator_\n",
    "print(\"Best parameters for KNN:\", random_search_knn.best_params_)\n",
    "\n",
    "# Dự đoán và đánh giá\n",
    "y_pred_knn = best_knn_model.predict(X_test_sm_dr)\n",
    "print(\"KNN Classification Report:\")\n",
    "utils.report(y_test_sm_dr, y_pred_knn)"
   ]
  }
 ],
 "metadata": {
  "kernelspec": {
   "display_name": "PPNKCH",
   "language": "python",
   "name": "python3"
  },
  "language_info": {
   "codemirror_mode": {
    "name": "ipython",
    "version": 3
   },
   "file_extension": ".py",
   "mimetype": "text/x-python",
   "name": "python",
   "nbconvert_exporter": "python",
   "pygments_lexer": "ipython3",
   "version": "3.10.16"
  }
 },
 "nbformat": 4,
 "nbformat_minor": 5
}
